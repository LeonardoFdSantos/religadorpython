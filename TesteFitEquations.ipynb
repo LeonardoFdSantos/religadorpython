{
 "cells": [
  {
   "cell_type": "code",
   "id": "50ad920b04c78855",
   "metadata": {
    "ExecuteTime": {
     "end_time": "2025-02-27T16:54:58.974509Z",
     "start_time": "2025-02-27T16:54:58.918324Z"
    }
   },
   "source": "import numpy as np",
   "outputs": [],
   "execution_count": 1
  },
  {
   "metadata": {
    "ExecuteTime": {
     "end_time": "2025-02-27T16:54:59.076692Z",
     "start_time": "2025-02-27T16:54:59.072907Z"
    }
   },
   "cell_type": "code",
   "source": [
    "def obter_equacao(x, y, grau):\n",
    "    # Encontra os coeficientes do polinômio\n",
    "    coeficientes = np.polyfit(x, y, grau)\n",
    "\n",
    "    # Constrói a equação como string\n",
    "    termos = []\n",
    "    for i, coef in enumerate(coeficientes):\n",
    "        expoente = len(coeficientes) - i - 1\n",
    "\n",
    "        if expoente == 0:\n",
    "            termo = f\"{coef:.2f}\"\n",
    "        elif expoente == 1:\n",
    "            termo = f\"{coef:.2f}x\"\n",
    "        else:\n",
    "            termo = f\"{coef:.2f}x^{expoente}\"\n",
    "\n",
    "        # Remove coeficientes zero e formata sinal\n",
    "        if coef != 0:\n",
    "            if coef > 0 and len(termos) > 0:\n",
    "                termo = \"+ \" + termo\n",
    "            elif coef < 0:\n",
    "                termo = \"- \" + termo.replace(\"-\", \"\")\n",
    "            termos.append(termo)\n",
    "\n",
    "    equacao = \" \".join(termos).replace(\"x^1\", \"x\").replace(\" 1.0x\", \" x\").replace(\".00\", \"\")\n",
    "    return equacao"
   ],
   "id": "4928d93b42da6127",
   "outputs": [],
   "execution_count": 2
  },
  {
   "metadata": {
    "ExecuteTime": {
     "end_time": "2025-02-27T16:54:59.118433Z",
     "start_time": "2025-02-27T16:54:59.115947Z"
    }
   },
   "cell_type": "code",
   "source": [
    "# Exemplo de uso:\n",
    "x = [1, 2, 3, 4]\n",
    "y = [3, 5, 9, 17]  # Valores que seguem aproximadamente y = x² + x + 1"
   ],
   "id": "18a79a277ecced35",
   "outputs": [],
   "execution_count": 3
  },
  {
   "metadata": {
    "collapsed": true,
    "ExecuteTime": {
     "end_time": "2025-02-27T16:55:19.996441Z",
     "start_time": "2025-02-27T16:55:19.993636Z"
    }
   },
   "cell_type": "code",
   "source": [
    "equacao = obter_equacao(x, y, grau=3)\n",
    "print(f\"A equação é: {equacao}\")"
   ],
   "id": "initial_id",
   "outputs": [
    {
     "name": "stdout",
     "output_type": "stream",
     "text": [
      "A equação é: 0.33x^3 - 1x^2 + 2.67x + 1\n"
     ]
    }
   ],
   "execution_count": 6
  },
  {
   "metadata": {},
   "cell_type": "code",
   "outputs": [],
   "execution_count": null,
   "source": "",
   "id": "ab8d23168f3f3a06"
  }
 ],
 "metadata": {
  "kernelspec": {
   "display_name": "Python 3",
   "language": "python",
   "name": "python3"
  },
  "language_info": {
   "codemirror_mode": {
    "name": "ipython",
    "version": 2
   },
   "file_extension": ".py",
   "mimetype": "text/x-python",
   "name": "python",
   "nbconvert_exporter": "python",
   "pygments_lexer": "ipython2",
   "version": "2.7.6"
  }
 },
 "nbformat": 4,
 "nbformat_minor": 5
}
