{
 "cells": [
  {
   "cell_type": "code",
   "execution_count": null,
   "metadata": {
    "ExecuteTime": {
     "end_time": "2022-02-04T19:13:19.064900Z",
     "start_time": "2022-02-04T19:13:18.736900Z"
    },
    "cell_style": "center",
    "hide_input": false
   },
   "outputs": [],
   "source": [
    "import pandas as pd\n",
    "import numpy as np\n",
    "\n",
    "valores_resultados_meio_linha_sem_compensacao = pd.read_csv('valores_resultados_meio_linha_sem_compensacao.csv');\n",
    "valores_resultados_fim_linha_sem_compensacao = pd.read_csv('valores_resultados_fim_linha_sem_compensacao.csv');\n",
    "valores_resultados_fim_linha_com_compensacao = pd.read_csv('valores_resultados_fim_linha_com_compensacao.csv');\n",
    "valores_resultados_meio_linha_com_compensacao = pd.read_csv('valores_resultados_meio_linha_com_compensacao.csv');\n",
    "\n",
    "valores_resultados_simulacao_meio_linha = pd.read_csv('valores_resultados_simulacao_meio_linha_sem_comp.csv');\n",
    "valores_resultados_simulacao_fim_linha = pd.read_csv('valores_resultados_simulacao_fim_linha_sem_comp.csv');\n",
    "valores_resultados_simulacao_meio_linha_com_comp = pd.read_csv('valores_resultados_simulacao_meio_linha_com_comp.csv');\n",
    "valores_resultados_simulacao_fim_linha_com_comp = pd.read_csv('valores_resultados_simulacao_fim_linha_com_comp.csv');\n",
    "\n",
    "valores_resultados_meio_linha_sem_compensacao['Diff_IA'] = (valores_resultados_meio_linha_sem_compensacao['IA_Sim']-valores_resultados_meio_linha_sem_compensacao['IA_Calc'])\n",
    "valores_resultados_meio_linha_sem_compensacao['Diff_IB'] = (valores_resultados_meio_linha_sem_compensacao['IB_Sim']-valores_resultados_meio_linha_sem_compensacao['IB_Calc'])\n",
    "valores_resultados_meio_linha_sem_compensacao['Diff_IC'] = (valores_resultados_meio_linha_sem_compensacao['IC_Sim']-valores_resultados_meio_linha_sem_compensacao['IC_Calc'])\n",
    "\n",
    "valores_resultados_meio_linha_sem_compensacao['Media_IA'] = (valores_resultados_meio_linha_sem_compensacao['IA_Sim'] - valores_resultados_meio_linha_sem_compensacao['IA_Calc'])/valores_resultados_meio_linha_sem_compensacao['IA_Calc']\n",
    "valores_resultados_meio_linha_sem_compensacao['Media_IB'] = (valores_resultados_meio_linha_sem_compensacao['IB_Sim'] - valores_resultados_meio_linha_sem_compensacao['IB_Calc'])/valores_resultados_meio_linha_sem_compensacao['IB_Calc']\n",
    "valores_resultados_meio_linha_sem_compensacao['Media_IC'] = (valores_resultados_meio_linha_sem_compensacao['IC_Sim'] - valores_resultados_meio_linha_sem_compensacao['IC_Calc'])/valores_resultados_meio_linha_sem_compensacao['IC_Calc']\n",
    "\n",
    "valores_resultados_fim_linha_sem_compensacao['Diff_IA'] = (valores_resultados_fim_linha_sem_compensacao['IA_Sim']-valores_resultados_fim_linha_sem_compensacao['IA_Calc'])\n",
    "valores_resultados_fim_linha_sem_compensacao['Diff_IB'] = (valores_resultados_fim_linha_sem_compensacao['IB_Sim']-valores_resultados_fim_linha_sem_compensacao['IB_Calc'])\n",
    "valores_resultados_fim_linha_sem_compensacao['Diff_IC'] = (valores_resultados_fim_linha_sem_compensacao['IC_Sim']-valores_resultados_fim_linha_sem_compensacao['IC_Calc'])\n",
    "\n",
    "valores_resultados_fim_linha_sem_compensacao['Media_IA'] = (valores_resultados_fim_linha_sem_compensacao['IA_Sim'] - valores_resultados_fim_linha_sem_compensacao['IA_Calc'])/valores_resultados_fim_linha_sem_compensacao['IA_Calc']\n",
    "valores_resultados_fim_linha_sem_compensacao['Media_IB'] = (valores_resultados_fim_linha_sem_compensacao['IB_Sim'] - valores_resultados_fim_linha_sem_compensacao['IB_Calc'])/valores_resultados_fim_linha_sem_compensacao['IB_Calc']\n",
    "valores_resultados_fim_linha_sem_compensacao['Media_IC'] = (valores_resultados_fim_linha_sem_compensacao['IC_Sim'] - valores_resultados_fim_linha_sem_compensacao['IC_Calc'])/valores_resultados_fim_linha_sem_compensacao['IC_Calc']\n",
    "\n",
    "valores_resultados_fim_linha_com_compensacao['Diff_IA'] = (valores_resultados_fim_linha_com_compensacao['IA_Sim']-valores_resultados_fim_linha_com_compensacao['IA_Calc'])\n",
    "valores_resultados_fim_linha_com_compensacao['Diff_IB'] = (valores_resultados_fim_linha_com_compensacao['IB_Sim']-valores_resultados_fim_linha_com_compensacao['IB_Calc'])\n",
    "valores_resultados_fim_linha_com_compensacao['Diff_IC'] = (valores_resultados_fim_linha_com_compensacao['IC_Sim']-valores_resultados_fim_linha_com_compensacao['IC_Calc'])\n",
    "\n",
    "valores_resultados_fim_linha_com_compensacao['Media_IA'] = (valores_resultados_fim_linha_com_compensacao['IA_Sim'] - valores_resultados_fim_linha_com_compensacao['IA_Calc'])/valores_resultados_fim_linha_com_compensacao['IA_Calc']\n",
    "valores_resultados_fim_linha_com_compensacao['Media_IB'] = (valores_resultados_fim_linha_com_compensacao['IB_Sim'] - valores_resultados_fim_linha_com_compensacao['IB_Calc'])/valores_resultados_fim_linha_com_compensacao['IB_Calc']\n",
    "valores_resultados_fim_linha_com_compensacao['Media_IC'] = (valores_resultados_fim_linha_com_compensacao['IC_Sim'] - valores_resultados_fim_linha_com_compensacao['IC_Calc'])/valores_resultados_fim_linha_com_compensacao['IC_Calc']\n",
    "\n",
    "valores_resultados_meio_linha_com_compensacao['Diff_IA'] = (valores_resultados_meio_linha_com_compensacao['IA_Sim']-valores_resultados_meio_linha_com_compensacao['IA_Calc'])\n",
    "valores_resultados_meio_linha_com_compensacao['Diff_IB'] = (valores_resultados_meio_linha_com_compensacao['IB_Sim']-valores_resultados_meio_linha_com_compensacao['IB_Calc'])\n",
    "valores_resultados_meio_linha_com_compensacao['Diff_IC'] = (valores_resultados_meio_linha_com_compensacao['IC_Sim']-valores_resultados_meio_linha_com_compensacao['IC_Calc'])\n",
    "\n",
    "valores_resultados_meio_linha_com_compensacao['Media_IA'] = (valores_resultados_meio_linha_com_compensacao['IA_Sim'] - valores_resultados_meio_linha_com_compensacao['IA_Calc'])/valores_resultados_meio_linha_com_compensacao['IA_Calc']\n",
    "valores_resultados_meio_linha_com_compensacao['Media_IB'] = (valores_resultados_meio_linha_com_compensacao['IB_Sim'] - valores_resultados_meio_linha_com_compensacao['IB_Calc'])/valores_resultados_meio_linha_com_compensacao['IB_Calc']\n",
    "valores_resultados_meio_linha_com_compensacao['Media_IC'] = (valores_resultados_meio_linha_com_compensacao['IC_Sim'] - valores_resultados_meio_linha_com_compensacao['IC_Calc'])/valores_resultados_meio_linha_com_compensacao['IC_Calc']\n",
    "\n",
    "valores_resultados_simulacao_fim_linha['Diff_IA'] = (valores_resultados_simulacao_fim_linha['IA_T2F']-valores_resultados_simulacao_fim_linha['IA_TRIF'])\n",
    "valores_resultados_simulacao_fim_linha['Diff_IB'] = (valores_resultados_simulacao_fim_linha['IB_T2F']-valores_resultados_simulacao_fim_linha['IB_TRIF'])\n",
    "valores_resultados_simulacao_fim_linha['Diff_IC'] = (valores_resultados_simulacao_fim_linha['IC_T2F']-valores_resultados_simulacao_fim_linha['IC_TRIF'])\n",
    "\n",
    "valores_resultados_simulacao_fim_linha['Media_IA'] = (valores_resultados_simulacao_fim_linha['IA_T2F'] - valores_resultados_simulacao_fim_linha['IA_TRIF'])/valores_resultados_simulacao_fim_linha['IA_TRIF']\n",
    "valores_resultados_simulacao_fim_linha['Media_IB'] = (valores_resultados_simulacao_fim_linha['IB_T2F'] - valores_resultados_simulacao_fim_linha['IB_TRIF'])/valores_resultados_simulacao_fim_linha['IB_TRIF']\n",
    "valores_resultados_simulacao_fim_linha['Media_IC'] = (valores_resultados_simulacao_fim_linha['IC_T2F'] - valores_resultados_simulacao_fim_linha['IC_TRIF'])/valores_resultados_simulacao_fim_linha['IC_TRIF']\n",
    "\n",
    "valores_resultados_simulacao_fim_linha_com_comp['Diff_IA'] = (valores_resultados_simulacao_fim_linha_com_comp['IA_T2F']-valores_resultados_simulacao_fim_linha_com_comp['IA_TRIF'])\n",
    "valores_resultados_simulacao_fim_linha_com_comp['Diff_IB'] = (valores_resultados_simulacao_fim_linha_com_comp['IB_T2F']-valores_resultados_simulacao_fim_linha_com_comp['IB_TRIF'])\n",
    "valores_resultados_simulacao_fim_linha_com_comp['Diff_IC'] = (valores_resultados_simulacao_fim_linha_com_comp['IC_T2F']-valores_resultados_simulacao_fim_linha_com_comp['IC_TRIF'])\n",
    "\n",
    "valores_resultados_simulacao_fim_linha_com_comp['Media_IA'] = (valores_resultados_simulacao_fim_linha_com_comp['IA_T2F'] - valores_resultados_simulacao_fim_linha_com_comp['IA_TRIF'])/valores_resultados_simulacao_fim_linha_com_comp['IA_TRIF']\n",
    "valores_resultados_simulacao_fim_linha_com_comp['Media_IB'] = (valores_resultados_simulacao_fim_linha_com_comp['IB_T2F'] - valores_resultados_simulacao_fim_linha_com_comp['IB_TRIF'])/valores_resultados_simulacao_fim_linha_com_comp['IB_TRIF']\n",
    "valores_resultados_simulacao_fim_linha_com_comp['Media_IC'] = (valores_resultados_simulacao_fim_linha_com_comp['IC_T2F'] - valores_resultados_simulacao_fim_linha_com_comp['IC_TRIF'])/valores_resultados_simulacao_fim_linha_com_comp['IC_TRIF']\n",
    "\n",
    "valores_resultados_simulacao_meio_linha['Diff_IA'] = (valores_resultados_simulacao_meio_linha['IA_T2F']-valores_resultados_simulacao_meio_linha['IA_TRIF'])\n",
    "valores_resultados_simulacao_meio_linha['Diff_IB'] = (valores_resultados_simulacao_meio_linha['IB_T2F']-valores_resultados_simulacao_meio_linha['IB_TRIF'])\n",
    "valores_resultados_simulacao_meio_linha['Diff_IC'] = (valores_resultados_simulacao_meio_linha['IC_T2F']-valores_resultados_simulacao_meio_linha['IC_TRIF'])\n",
    "\n",
    "valores_resultados_simulacao_meio_linha['Media_IA'] = (valores_resultados_simulacao_meio_linha['IA_T2F'] - valores_resultados_simulacao_meio_linha['IA_TRIF'])/valores_resultados_simulacao_meio_linha['IA_TRIF']\n",
    "valores_resultados_simulacao_meio_linha['Media_IB'] = (valores_resultados_simulacao_meio_linha['IB_T2F'] - valores_resultados_simulacao_meio_linha['IB_TRIF'])/valores_resultados_simulacao_meio_linha['IB_TRIF']\n",
    "valores_resultados_simulacao_meio_linha['Media_IC'] = (valores_resultados_simulacao_meio_linha['IC_T2F'] - valores_resultados_simulacao_meio_linha['IC_TRIF'])/valores_resultados_simulacao_meio_linha['IC_TRIF']\n",
    "\n",
    "valores_resultados_simulacao_meio_linha_com_comp['Diff_IA'] = (valores_resultados_simulacao_meio_linha_com_comp['IA_T2F']-valores_resultados_simulacao_meio_linha_com_comp['IA_TRIF'])\n",
    "valores_resultados_simulacao_meio_linha_com_comp['Diff_IB'] = (valores_resultados_simulacao_meio_linha_com_comp['IB_T2F']-valores_resultados_simulacao_meio_linha_com_comp['IB_TRIF'])\n",
    "valores_resultados_simulacao_meio_linha_com_comp['Diff_IC'] = (valores_resultados_simulacao_meio_linha_com_comp['IC_T2F']-valores_resultados_simulacao_meio_linha_com_comp['IC_TRIF'])\n",
    "\n",
    "valores_resultados_simulacao_meio_linha_com_comp['Media_IA'] = (valores_resultados_simulacao_meio_linha_com_comp['IA_T2F'] - valores_resultados_simulacao_meio_linha_com_comp['IA_TRIF'])/valores_resultados_simulacao_meio_linha_com_comp['IA_TRIF']\n",
    "valores_resultados_simulacao_meio_linha_com_comp['Media_IB'] = (valores_resultados_simulacao_meio_linha_com_comp['IB_T2F'] - valores_resultados_simulacao_meio_linha_com_comp['IB_TRIF'])/valores_resultados_simulacao_meio_linha_com_comp['IB_TRIF']\n",
    "valores_resultados_simulacao_meio_linha_com_comp['Media_IC'] = (valores_resultados_simulacao_meio_linha_com_comp['IC_T2F'] - valores_resultados_simulacao_meio_linha_com_comp['IC_TRIF'])/valores_resultados_simulacao_meio_linha_com_comp['IC_TRIF']\n",
    "\n",
    "valores_resultados_meio_linha_sem_compensacao_Trif = valores_resultados_meio_linha_sem_compensacao.loc[valores_resultados_meio_linha_sem_compensacao['tipoCurto'] == 1]\n",
    "valores_resultados_meio_linha_sem_compensacao_AC = valores_resultados_meio_linha_sem_compensacao.loc[valores_resultados_meio_linha_sem_compensacao['tipoCurto'] == 2]\n",
    "valores_resultados_meio_linha_sem_compensacao_BC = valores_resultados_meio_linha_sem_compensacao.loc[valores_resultados_meio_linha_sem_compensacao['tipoCurto'] == 3]\n",
    "valores_resultados_meio_linha_sem_compensacao_AB = valores_resultados_meio_linha_sem_compensacao.loc[valores_resultados_meio_linha_sem_compensacao['tipoCurto'] == 4]\n",
    "\n",
    "valores_resultados_meio_linha_com_compensacao_Trif = valores_resultados_meio_linha_com_compensacao.loc[valores_resultados_meio_linha_com_compensacao['tipoCurto'] == 1]\n",
    "valores_resultados_meio_linha_com_compensacao_AC = valores_resultados_meio_linha_com_compensacao.loc[valores_resultados_meio_linha_com_compensacao['tipoCurto'] == 2]\n",
    "valores_resultados_meio_linha_com_compensacao_BC = valores_resultados_meio_linha_com_compensacao.loc[valores_resultados_meio_linha_com_compensacao['tipoCurto'] == 3]\n",
    "valores_resultados_meio_linha_com_compensacao_AB = valores_resultados_meio_linha_com_compensacao.loc[valores_resultados_meio_linha_com_compensacao['tipoCurto'] == 4]\n",
    "\n",
    "valores_resultados_simulacao_meio_linha_Trif = valores_resultados_simulacao_meio_linha.loc[valores_resultados_simulacao_meio_linha['tipoCurto'] == 1]\n",
    "valores_resultados_simulacao_meio_linha_AC = valores_resultados_simulacao_meio_linha.loc[valores_resultados_simulacao_meio_linha['tipoCurto'] == 2]\n",
    "valores_resultados_simulacao_meio_linha_BC = valores_resultados_simulacao_meio_linha.loc[valores_resultados_simulacao_meio_linha['tipoCurto'] == 3]\n",
    "valores_resultados_simulacao_meio_linha_AB = valores_resultados_simulacao_meio_linha.loc[valores_resultados_simulacao_meio_linha['tipoCurto'] == 4]\n",
    "valores_resultados_meio_linha_sem_curto = valores_resultados_simulacao_meio_linha.loc[valores_resultados_simulacao_meio_linha['tipoCurto'] == 5]\n",
    "\n",
    "valores_resultados_simulacao_meio_linha_Trif_com_comp = valores_resultados_simulacao_meio_linha_com_comp.loc[valores_resultados_simulacao_meio_linha_com_comp['tipoCurto'] == 1]\n",
    "valores_resultados_simulacao_meio_linha_AC_com_comp = valores_resultados_simulacao_meio_linha_com_comp.loc[valores_resultados_simulacao_meio_linha_com_comp['tipoCurto'] == 2]\n",
    "valores_resultados_simulacao_meio_linha_BC_com_comp = valores_resultados_simulacao_meio_linha_com_comp.loc[valores_resultados_simulacao_meio_linha_com_comp['tipoCurto'] == 3]\n",
    "valores_resultados_simulacao_meio_linha_AB_com_comp = valores_resultados_simulacao_meio_linha_com_comp.loc[valores_resultados_simulacao_meio_linha_com_comp['tipoCurto'] == 4]\n",
    "valores_resultados_meio_linha_sem_curto_com_comp = valores_resultados_simulacao_meio_linha_com_comp.loc[valores_resultados_simulacao_meio_linha_com_comp['tipoCurto'] == 5]\n",
    "\n",
    "valores_resultados_meio_linha_sem_compensacao_Trif = valores_resultados_meio_linha_sem_compensacao_Trif.drop(['tipoCurto'], axis=1)\n",
    "valores_resultados_meio_linha_sem_compensacao_AC = valores_resultados_meio_linha_sem_compensacao_AC.drop(['tipoCurto'], axis=1)\n",
    "valores_resultados_meio_linha_sem_compensacao_BC = valores_resultados_meio_linha_sem_compensacao_BC.drop(['tipoCurto'], axis=1)\n",
    "valores_resultados_meio_linha_sem_compensacao_AB = valores_resultados_meio_linha_sem_compensacao_AB.drop(['tipoCurto'], axis=1)\n",
    "\n",
    "valores_resultados_meio_linha_com_compensacao_Trif = valores_resultados_meio_linha_com_compensacao_Trif.drop(['tipoCurto'], axis=1)\n",
    "valores_resultados_meio_linha_com_compensacao_AC = valores_resultados_meio_linha_com_compensacao_AC.drop(['tipoCurto'], axis=1)\n",
    "valores_resultados_meio_linha_com_compensacao_BC = valores_resultados_meio_linha_com_compensacao_BC.drop(['tipoCurto'], axis=1)\n",
    "valores_resultados_meio_linha_com_compensacao_AB = valores_resultados_meio_linha_com_compensacao_AB.drop(['tipoCurto'], axis=1)\n",
    "\n",
    "valores_resultados_simulacao_meio_linha_Trif = valores_resultados_simulacao_meio_linha_Trif.drop(['tipoCurto'], axis=1)\n",
    "valores_resultados_simulacao_meio_linha_AC = valores_resultados_simulacao_meio_linha_AC.drop(['tipoCurto'], axis=1)\n",
    "valores_resultados_simulacao_meio_linha_BC = valores_resultados_simulacao_meio_linha_BC.drop(['tipoCurto'], axis=1)\n",
    "valores_resultados_simulacao_meio_linha_AB = valores_resultados_simulacao_meio_linha_AB.drop(['tipoCurto'], axis=1)\n",
    "valores_resultados_meio_linha_sem_curto = valores_resultados_meio_linha_sem_curto.drop(['tipoCurto'], axis=1)\n",
    "\n",
    "valores_resultados_simulacao_meio_linha_Trif_com_comp = valores_resultados_simulacao_meio_linha_Trif_com_comp.drop(['tipoCurto'], axis=1)\n",
    "valores_resultados_simulacao_meio_linha_AC_com_comp = valores_resultados_simulacao_meio_linha_AC_com_comp.drop(['tipoCurto'], axis=1)\n",
    "valores_resultados_simulacao_meio_linha_BC_com_comp = valores_resultados_simulacao_meio_linha_BC_com_comp.drop(['tipoCurto'], axis=1)\n",
    "valores_resultados_simulacao_meio_linha_AB_com_comp = valores_resultados_simulacao_meio_linha_AB_com_comp.drop(['tipoCurto'], axis=1)\n",
    "valores_resultados_meio_linha_sem_curto_com_comp = valores_resultados_meio_linha_sem_curto_com_comp.drop(['tipoCurto'], axis=1)\n",
    "\n",
    "valores_resultados_fim_linha_sem_compensacao = valores_resultados_fim_linha_sem_compensacao.set_index(['tipoCurto'])\n",
    "valores_resultados_fim_linha_com_compensacao = valores_resultados_fim_linha_com_compensacao.set_index(['tipoCurto'])\n",
    "valores_resultados_simulacao_fim_linha = valores_resultados_simulacao_fim_linha.set_index(['tipoCurto'])\n",
    "\n",
    "valores_resultados_meio_linha_sem_compensacao_Trif = valores_resultados_meio_linha_sem_compensacao_Trif.set_index(['n'])\n",
    "valores_resultados_meio_linha_sem_compensacao_AC = valores_resultados_meio_linha_sem_compensacao_AC.set_index(['n'])\n",
    "valores_resultados_meio_linha_sem_compensacao_BC = valores_resultados_meio_linha_sem_compensacao_BC.set_index(['n'])\n",
    "valores_resultados_meio_linha_sem_compensacao_AB = valores_resultados_meio_linha_sem_compensacao_AB.set_index(['n'])\n",
    "\n",
    "valores_resultados_meio_linha_com_compensacao_Trif = valores_resultados_meio_linha_com_compensacao_Trif.set_index(['n'])\n",
    "valores_resultados_meio_linha_com_compensacao_AC = valores_resultados_meio_linha_com_compensacao_AC.set_index(['n'])\n",
    "valores_resultados_meio_linha_com_compensacao_BC = valores_resultados_meio_linha_com_compensacao_BC.set_index(['n'])\n",
    "valores_resultados_meio_linha_com_compensacao_AB = valores_resultados_meio_linha_com_compensacao_AB.set_index(['n'])\n",
    "\n",
    "valores_resultados_simulacao_meio_linha_Trif = valores_resultados_simulacao_meio_linha_Trif.set_index(['n'])\n",
    "valores_resultados_simulacao_meio_linha_AC = valores_resultados_simulacao_meio_linha_AC.set_index(['n'])\n",
    "valores_resultados_simulacao_meio_linha_BC = valores_resultados_simulacao_meio_linha_BC.set_index(['n'])\n",
    "valores_resultados_simulacao_meio_linha_AB = valores_resultados_simulacao_meio_linha_AB.set_index(['n'])\n",
    "valores_resultados_meio_linha_sem_curto = valores_resultados_meio_linha_sem_curto.set_index(['n'])\n",
    "\n",
    "valores_resultados_simulacao_meio_linha_Trif_com_comp = valores_resultados_simulacao_meio_linha_Trif_com_comp.set_index(['n'])\n",
    "valores_resultados_simulacao_meio_linha_AC_com_comp = valores_resultados_simulacao_meio_linha_AC_com_comp.set_index(['n'])\n",
    "valores_resultados_simulacao_meio_linha_BC_com_comp = valores_resultados_simulacao_meio_linha_BC_com_comp.set_index(['n'])\n",
    "valores_resultados_simulacao_meio_linha_AB_com_comp = valores_resultados_simulacao_meio_linha_AB_com_comp.set_index(['n'])\n",
    "valores_resultados_meio_linha_sem_curto_com_comp = valores_resultados_meio_linha_sem_curto_com_comp.set_index(['n'])"
   ]
  },
  {
   "cell_type": "code",
   "execution_count": null,
   "metadata": {},
   "outputs": [],
   "source": [
    "valores_resultados_meio_linha_sem_curto_com_comp"
   ]
  },
  {
   "cell_type": "code",
   "execution_count": null,
   "metadata": {},
   "outputs": [],
   "source": [
    "valores_resultados_simulacao_meio_linha_AC_com_comp"
   ]
  },
  {
   "cell_type": "code",
   "execution_count": null,
   "metadata": {},
   "outputs": [],
   "source": [
    "valores_resultados_simulacao_meio_linha_BC_com_comp"
   ]
  },
  {
   "cell_type": "code",
   "execution_count": null,
   "metadata": {},
   "outputs": [],
   "source": []
  }
 ],
 "metadata": {
  "hide_input": false,
  "interpreter": {
   "hash": "a2790eeff4d3ad6df86c44f0c1de8f3f020d2849af96666ec87ba1b1e26ed520"
  },
  "kernelspec": {
   "display_name": "Python 3 (ipykernel)",
   "language": "python",
   "name": "python3"
  },
  "language_info": {
   "codemirror_mode": {
    "name": "ipython",
    "version": 3
   },
   "file_extension": ".py",
   "mimetype": "text/x-python",
   "name": "python",
   "nbconvert_exporter": "python",
   "pygments_lexer": "ipython3",
   "version": "3.9.10"
  },
  "latex_envs": {
   "LaTeX_envs_menu_present": true,
   "autoclose": false,
   "autocomplete": true,
   "bibliofile": "biblio.bib",
   "cite_by": "apalike",
   "current_citInitial": 1,
   "eqLabelWithNumbers": true,
   "eqNumInitial": 1,
   "hotkeys": {
    "equation": "Ctrl-E",
    "itemize": "Ctrl-I"
   },
   "labels_anchors": false,
   "latex_user_defs": false,
   "report_style_numbering": false,
   "user_envs_cfg": false
  },
  "nbTranslate": {
   "displayLangs": [
    "*"
   ],
   "hotkey": "alt-t",
   "langInMainMenu": true,
   "sourceLang": "en",
   "targetLang": "fr",
   "useGoogleTranslate": true
  },
  "toc": {
   "base_numbering": 1,
   "nav_menu": {},
   "number_sections": true,
   "sideBar": true,
   "skip_h1_title": false,
   "title_cell": "Table of Contents",
   "title_sidebar": "Contents",
   "toc_cell": false,
   "toc_position": {},
   "toc_section_display": true,
   "toc_window_display": false
  },
  "varInspector": {
   "cols": {
    "lenName": 16,
    "lenType": 16,
    "lenVar": 40
   },
   "kernels_config": {
    "python": {
     "delete_cmd_postfix": "",
     "delete_cmd_prefix": "del ",
     "library": "var_list.py",
     "varRefreshCmd": "print(var_dic_list())"
    },
    "r": {
     "delete_cmd_postfix": ") ",
     "delete_cmd_prefix": "rm(",
     "library": "var_list.r",
     "varRefreshCmd": "cat(var_dic_list()) "
    }
   },
   "types_to_exclude": [
    "module",
    "function",
    "builtin_function_or_method",
    "instance",
    "_Feature"
   ],
   "window_display": false
  }
 },
 "nbformat": 4,
 "nbformat_minor": 4
}
