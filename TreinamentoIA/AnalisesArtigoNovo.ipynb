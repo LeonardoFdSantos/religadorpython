{
 "cells": [
  {
   "cell_type": "code",
   "execution_count": 1,
   "metadata": {},
   "outputs": [],
   "source": [
    "import pandas as pd\n",
    "import numpy as np\n",
    "from plotly.subplots import make_subplots\n",
    "import plotly.graph_objects as go"
   ]
  },
  {
   "cell_type": "code",
   "execution_count": 2,
   "metadata": {},
   "outputs": [
    {
     "data": {
      "text/plain": [
       "'fig.to_image(format=\"png\", engine=\"kaleido\")'"
      ]
     },
     "execution_count": 2,
     "metadata": {},
     "output_type": "execute_result"
    }
   ],
   "source": [
    "import os\n",
    "\n",
    "if not os.path.exists(\"images\"):\n",
    "    os.mkdir(\"images\")\n",
    "    \n",
    "'''fig.to_image(format=\"png\", engine=\"kaleido\")'''"
   ]
  },
  {
   "cell_type": "code",
   "execution_count": 3,
   "metadata": {},
   "outputs": [],
   "source": [
    "FimDeLinhaSemComp = pd.read_excel(\"DadosT2F_Artigo_Novo.xlsx\", sheet_name=\"Fim_Linha_sem_Comp\")\n",
    "MeioDeLinhaTrif = pd.read_excel(\"DadosT2F_Artigo_Novo.xlsx\", sheet_name=\"Meio_Linha_sem_Comp_TRIF\")\n",
    "MeioDeLinhaAB = pd.read_excel(\"DadosT2F_Artigo_Novo.xlsx\", sheet_name=\"Meio_Linha_sem_Comp_AB\")\n",
    "MeioDeLinhaAC = pd.read_excel(\"DadosT2F_Artigo_Novo.xlsx\", sheet_name=\"Meio_Linha_sem_Comp_AC\")\n",
    "MeioDeLinhaBC = pd.read_excel(\"DadosT2F_Artigo_Novo.xlsx\", sheet_name=\"Meio_Linha_sem_Comp_BC\")"
   ]
  },
  {
   "cell_type": "code",
   "execution_count": 4,
   "metadata": {},
   "outputs": [],
   "source": [
    "ValuesMeanAE = pd.DataFrame()"
   ]
  },
  {
   "cell_type": "code",
   "execution_count": 5,
   "metadata": {},
   "outputs": [],
   "source": [
    "ValuesMeanAE['n'] = MeioDeLinhaAB['n']\n",
    "ValuesMeanAE['Mean AE - AB'] = MeioDeLinhaAB['Mean AE']\n",
    "ValuesMeanAE['Mean AE - AC'] = MeioDeLinhaAC['Mean AE']\n",
    "ValuesMeanAE['Mean AE - BC'] = MeioDeLinhaBC['Mean AE']\n",
    "ValuesMeanAE['Mean AE - TRIF'] = MeioDeLinhaTrif['Mean AE']"
   ]
  },
  {
   "cell_type": "code",
   "execution_count": 6,
   "metadata": {},
   "outputs": [
    {
     "data": {
      "text/html": [
       "<div>\n",
       "<style scoped>\n",
       "    .dataframe tbody tr th:only-of-type {\n",
       "        vertical-align: middle;\n",
       "    }\n",
       "\n",
       "    .dataframe tbody tr th {\n",
       "        vertical-align: top;\n",
       "    }\n",
       "\n",
       "    .dataframe thead th {\n",
       "        text-align: right;\n",
       "    }\n",
       "</style>\n",
       "<table border=\"1\" class=\"dataframe\">\n",
       "  <thead>\n",
       "    <tr style=\"text-align: right;\">\n",
       "      <th></th>\n",
       "      <th>n</th>\n",
       "      <th>Mean AE - AB</th>\n",
       "      <th>Mean AE - AC</th>\n",
       "      <th>Mean AE - BC</th>\n",
       "      <th>Mean AE - TRIF</th>\n",
       "    </tr>\n",
       "  </thead>\n",
       "  <tbody>\n",
       "    <tr>\n",
       "      <th>0</th>\n",
       "      <td>0.10</td>\n",
       "      <td>0.029803</td>\n",
       "      <td>0.010769</td>\n",
       "      <td>0.010736</td>\n",
       "      <td>0.077933</td>\n",
       "    </tr>\n",
       "    <tr>\n",
       "      <th>1</th>\n",
       "      <td>0.25</td>\n",
       "      <td>0.018303</td>\n",
       "      <td>0.009069</td>\n",
       "      <td>0.009070</td>\n",
       "      <td>0.045310</td>\n",
       "    </tr>\n",
       "    <tr>\n",
       "      <th>2</th>\n",
       "      <td>0.50</td>\n",
       "      <td>0.009736</td>\n",
       "      <td>0.007003</td>\n",
       "      <td>0.007003</td>\n",
       "      <td>0.022193</td>\n",
       "    </tr>\n",
       "    <tr>\n",
       "      <th>3</th>\n",
       "      <td>0.75</td>\n",
       "      <td>0.006003</td>\n",
       "      <td>0.005536</td>\n",
       "      <td>0.005603</td>\n",
       "      <td>0.013323</td>\n",
       "    </tr>\n",
       "    <tr>\n",
       "      <th>4</th>\n",
       "      <td>0.99</td>\n",
       "      <td>0.004136</td>\n",
       "      <td>0.004570</td>\n",
       "      <td>0.004536</td>\n",
       "      <td>0.009300</td>\n",
       "    </tr>\n",
       "  </tbody>\n",
       "</table>\n",
       "</div>"
      ],
      "text/plain": [
       "      n  Mean AE - AB  Mean AE - AC  Mean AE - BC  Mean AE - TRIF\n",
       "0  0.10      0.029803      0.010769      0.010736        0.077933\n",
       "1  0.25      0.018303      0.009069      0.009070        0.045310\n",
       "2  0.50      0.009736      0.007003      0.007003        0.022193\n",
       "3  0.75      0.006003      0.005536      0.005603        0.013323\n",
       "4  0.99      0.004136      0.004570      0.004536        0.009300"
      ]
     },
     "execution_count": 6,
     "metadata": {},
     "output_type": "execute_result"
    }
   ],
   "source": [
    "ValuesMeanAE"
   ]
  },
  {
   "cell_type": "code",
   "execution_count": 7,
   "metadata": {},
   "outputs": [],
   "source": [
    "ValorZeroUm = ValuesMeanAE.loc[(ValuesMeanAE['n']== 0.10)]\n",
    "ValorZeroVinteCinco = ValuesMeanAE.loc[(ValuesMeanAE['n']== 0.25)]\n",
    "ValorZeroCinquenta = ValuesMeanAE.loc[(ValuesMeanAE['n']== 0.50)]\n",
    "ValorZeroSetentaCinco = ValuesMeanAE.loc[(ValuesMeanAE['n']== 0.75)]\n",
    "ValorZeroNoveNove = ValuesMeanAE.loc[(ValuesMeanAE['n']== 0.99)]"
   ]
  },
  {
   "cell_type": "code",
   "execution_count": 8,
   "metadata": {},
   "outputs": [
    {
     "data": {
      "text/html": [
       "<div>\n",
       "<style scoped>\n",
       "    .dataframe tbody tr th:only-of-type {\n",
       "        vertical-align: middle;\n",
       "    }\n",
       "\n",
       "    .dataframe tbody tr th {\n",
       "        vertical-align: top;\n",
       "    }\n",
       "\n",
       "    .dataframe thead th {\n",
       "        text-align: right;\n",
       "    }\n",
       "</style>\n",
       "<table border=\"1\" class=\"dataframe\">\n",
       "  <thead>\n",
       "    <tr style=\"text-align: right;\">\n",
       "      <th></th>\n",
       "      <th>n</th>\n",
       "      <th>Mean AE - AB</th>\n",
       "      <th>Mean AE - AC</th>\n",
       "      <th>Mean AE - BC</th>\n",
       "      <th>Mean AE - TRIF</th>\n",
       "    </tr>\n",
       "  </thead>\n",
       "  <tbody>\n",
       "    <tr>\n",
       "      <th>4</th>\n",
       "      <td>0.99</td>\n",
       "      <td>0.004136</td>\n",
       "      <td>0.00457</td>\n",
       "      <td>0.004536</td>\n",
       "      <td>0.0093</td>\n",
       "    </tr>\n",
       "  </tbody>\n",
       "</table>\n",
       "</div>"
      ],
      "text/plain": [
       "      n  Mean AE - AB  Mean AE - AC  Mean AE - BC  Mean AE - TRIF\n",
       "4  0.99      0.004136       0.00457      0.004536          0.0093"
      ]
     },
     "execution_count": 8,
     "metadata": {},
     "output_type": "execute_result"
    }
   ],
   "source": [
    "ValorZeroNoveNove"
   ]
  },
  {
   "cell_type": "code",
   "execution_count": 9,
   "metadata": {},
   "outputs": [
    {
     "data": {
      "application/vnd.plotly.v1+json": {
       "config": {
        "plotlyServerURL": "https://plot.ly"
       },
       "data": [
        {
         "marker": {
          "line": {
           "width": 2
          },
          "size": 30
         },
         "mode": "markers+lines",
         "name": "Mean AE - AB",
         "text": [
          0.029802880000003973
         ],
         "textposition": "top center",
         "type": "scatter",
         "x": [
          0.1
         ],
         "y": [
          0.029802880000003973
         ]
        },
        {
         "marker": {
          "line": {
           "width": 2
          },
          "size": 25
         },
         "mode": "markers+lines",
         "name": "Mean AE - AC",
         "text": [
          0.010769323333335476
         ],
         "textposition": "top center",
         "type": "scatter",
         "x": [
          0.1
         ],
         "y": [
          0.010769323333335476
         ]
        },
        {
         "marker": {
          "line": {
           "width": 2
          },
          "size": 20
         },
         "mode": "markers+lines",
         "name": "Mean AE - BC",
         "text": [
          0.01073633333333437
         ],
         "textposition": "bottom center",
         "type": "scatter",
         "x": [
          0.1
         ],
         "y": [
          0.01073633333333437
         ]
        },
        {
         "marker": {
          "line": {
           "width": 2
          },
          "size": 15
         },
         "mode": "markers+lines",
         "name": "Mean AE - TRIF",
         "text": [
          0.07793333333334355
         ],
         "textposition": "top center",
         "type": "scatter",
         "x": [
          0.1
         ],
         "y": [
          0.07793333333334355
         ]
        }
       ],
       "layout": {
        "autosize": false,
        "font": {
         "family": "Courier New, monospace",
         "size": 18
        },
        "height": 1000,
        "legend": {
         "title": {
          "text": "Legend"
         }
        },
        "margin": {
         "b": 100,
         "l": 50,
         "pad": 4,
         "r": 50,
         "t": 100
        },
        "paper_bgcolor": "LightSteelBlue",
        "template": {
         "data": {
          "bar": [
           {
            "error_x": {
             "color": "#2a3f5f"
            },
            "error_y": {
             "color": "#2a3f5f"
            },
            "marker": {
             "line": {
              "color": "#E5ECF6",
              "width": 0.5
             },
             "pattern": {
              "fillmode": "overlay",
              "size": 10,
              "solidity": 0.2
             }
            },
            "type": "bar"
           }
          ],
          "barpolar": [
           {
            "marker": {
             "line": {
              "color": "#E5ECF6",
              "width": 0.5
             },
             "pattern": {
              "fillmode": "overlay",
              "size": 10,
              "solidity": 0.2
             }
            },
            "type": "barpolar"
           }
          ],
          "carpet": [
           {
            "aaxis": {
             "endlinecolor": "#2a3f5f",
             "gridcolor": "white",
             "linecolor": "white",
             "minorgridcolor": "white",
             "startlinecolor": "#2a3f5f"
            },
            "baxis": {
             "endlinecolor": "#2a3f5f",
             "gridcolor": "white",
             "linecolor": "white",
             "minorgridcolor": "white",
             "startlinecolor": "#2a3f5f"
            },
            "type": "carpet"
           }
          ],
          "choropleth": [
           {
            "colorbar": {
             "outlinewidth": 0,
             "ticks": ""
            },
            "type": "choropleth"
           }
          ],
          "contour": [
           {
            "colorbar": {
             "outlinewidth": 0,
             "ticks": ""
            },
            "colorscale": [
             [
              0,
              "#0d0887"
             ],
             [
              0.1111111111111111,
              "#46039f"
             ],
             [
              0.2222222222222222,
              "#7201a8"
             ],
             [
              0.3333333333333333,
              "#9c179e"
             ],
             [
              0.4444444444444444,
              "#bd3786"
             ],
             [
              0.5555555555555556,
              "#d8576b"
             ],
             [
              0.6666666666666666,
              "#ed7953"
             ],
             [
              0.7777777777777778,
              "#fb9f3a"
             ],
             [
              0.8888888888888888,
              "#fdca26"
             ],
             [
              1,
              "#f0f921"
             ]
            ],
            "type": "contour"
           }
          ],
          "contourcarpet": [
           {
            "colorbar": {
             "outlinewidth": 0,
             "ticks": ""
            },
            "type": "contourcarpet"
           }
          ],
          "heatmap": [
           {
            "colorbar": {
             "outlinewidth": 0,
             "ticks": ""
            },
            "colorscale": [
             [
              0,
              "#0d0887"
             ],
             [
              0.1111111111111111,
              "#46039f"
             ],
             [
              0.2222222222222222,
              "#7201a8"
             ],
             [
              0.3333333333333333,
              "#9c179e"
             ],
             [
              0.4444444444444444,
              "#bd3786"
             ],
             [
              0.5555555555555556,
              "#d8576b"
             ],
             [
              0.6666666666666666,
              "#ed7953"
             ],
             [
              0.7777777777777778,
              "#fb9f3a"
             ],
             [
              0.8888888888888888,
              "#fdca26"
             ],
             [
              1,
              "#f0f921"
             ]
            ],
            "type": "heatmap"
           }
          ],
          "heatmapgl": [
           {
            "colorbar": {
             "outlinewidth": 0,
             "ticks": ""
            },
            "colorscale": [
             [
              0,
              "#0d0887"
             ],
             [
              0.1111111111111111,
              "#46039f"
             ],
             [
              0.2222222222222222,
              "#7201a8"
             ],
             [
              0.3333333333333333,
              "#9c179e"
             ],
             [
              0.4444444444444444,
              "#bd3786"
             ],
             [
              0.5555555555555556,
              "#d8576b"
             ],
             [
              0.6666666666666666,
              "#ed7953"
             ],
             [
              0.7777777777777778,
              "#fb9f3a"
             ],
             [
              0.8888888888888888,
              "#fdca26"
             ],
             [
              1,
              "#f0f921"
             ]
            ],
            "type": "heatmapgl"
           }
          ],
          "histogram": [
           {
            "marker": {
             "pattern": {
              "fillmode": "overlay",
              "size": 10,
              "solidity": 0.2
             }
            },
            "type": "histogram"
           }
          ],
          "histogram2d": [
           {
            "colorbar": {
             "outlinewidth": 0,
             "ticks": ""
            },
            "colorscale": [
             [
              0,
              "#0d0887"
             ],
             [
              0.1111111111111111,
              "#46039f"
             ],
             [
              0.2222222222222222,
              "#7201a8"
             ],
             [
              0.3333333333333333,
              "#9c179e"
             ],
             [
              0.4444444444444444,
              "#bd3786"
             ],
             [
              0.5555555555555556,
              "#d8576b"
             ],
             [
              0.6666666666666666,
              "#ed7953"
             ],
             [
              0.7777777777777778,
              "#fb9f3a"
             ],
             [
              0.8888888888888888,
              "#fdca26"
             ],
             [
              1,
              "#f0f921"
             ]
            ],
            "type": "histogram2d"
           }
          ],
          "histogram2dcontour": [
           {
            "colorbar": {
             "outlinewidth": 0,
             "ticks": ""
            },
            "colorscale": [
             [
              0,
              "#0d0887"
             ],
             [
              0.1111111111111111,
              "#46039f"
             ],
             [
              0.2222222222222222,
              "#7201a8"
             ],
             [
              0.3333333333333333,
              "#9c179e"
             ],
             [
              0.4444444444444444,
              "#bd3786"
             ],
             [
              0.5555555555555556,
              "#d8576b"
             ],
             [
              0.6666666666666666,
              "#ed7953"
             ],
             [
              0.7777777777777778,
              "#fb9f3a"
             ],
             [
              0.8888888888888888,
              "#fdca26"
             ],
             [
              1,
              "#f0f921"
             ]
            ],
            "type": "histogram2dcontour"
           }
          ],
          "mesh3d": [
           {
            "colorbar": {
             "outlinewidth": 0,
             "ticks": ""
            },
            "type": "mesh3d"
           }
          ],
          "parcoords": [
           {
            "line": {
             "colorbar": {
              "outlinewidth": 0,
              "ticks": ""
             }
            },
            "type": "parcoords"
           }
          ],
          "pie": [
           {
            "automargin": true,
            "type": "pie"
           }
          ],
          "scatter": [
           {
            "fillpattern": {
             "fillmode": "overlay",
             "size": 10,
             "solidity": 0.2
            },
            "type": "scatter"
           }
          ],
          "scatter3d": [
           {
            "line": {
             "colorbar": {
              "outlinewidth": 0,
              "ticks": ""
             }
            },
            "marker": {
             "colorbar": {
              "outlinewidth": 0,
              "ticks": ""
             }
            },
            "type": "scatter3d"
           }
          ],
          "scattercarpet": [
           {
            "marker": {
             "colorbar": {
              "outlinewidth": 0,
              "ticks": ""
             }
            },
            "type": "scattercarpet"
           }
          ],
          "scattergeo": [
           {
            "marker": {
             "colorbar": {
              "outlinewidth": 0,
              "ticks": ""
             }
            },
            "type": "scattergeo"
           }
          ],
          "scattergl": [
           {
            "marker": {
             "colorbar": {
              "outlinewidth": 0,
              "ticks": ""
             }
            },
            "type": "scattergl"
           }
          ],
          "scattermapbox": [
           {
            "marker": {
             "colorbar": {
              "outlinewidth": 0,
              "ticks": ""
             }
            },
            "type": "scattermapbox"
           }
          ],
          "scatterpolar": [
           {
            "marker": {
             "colorbar": {
              "outlinewidth": 0,
              "ticks": ""
             }
            },
            "type": "scatterpolar"
           }
          ],
          "scatterpolargl": [
           {
            "marker": {
             "colorbar": {
              "outlinewidth": 0,
              "ticks": ""
             }
            },
            "type": "scatterpolargl"
           }
          ],
          "scatterternary": [
           {
            "marker": {
             "colorbar": {
              "outlinewidth": 0,
              "ticks": ""
             }
            },
            "type": "scatterternary"
           }
          ],
          "surface": [
           {
            "colorbar": {
             "outlinewidth": 0,
             "ticks": ""
            },
            "colorscale": [
             [
              0,
              "#0d0887"
             ],
             [
              0.1111111111111111,
              "#46039f"
             ],
             [
              0.2222222222222222,
              "#7201a8"
             ],
             [
              0.3333333333333333,
              "#9c179e"
             ],
             [
              0.4444444444444444,
              "#bd3786"
             ],
             [
              0.5555555555555556,
              "#d8576b"
             ],
             [
              0.6666666666666666,
              "#ed7953"
             ],
             [
              0.7777777777777778,
              "#fb9f3a"
             ],
             [
              0.8888888888888888,
              "#fdca26"
             ],
             [
              1,
              "#f0f921"
             ]
            ],
            "type": "surface"
           }
          ],
          "table": [
           {
            "cells": {
             "fill": {
              "color": "#EBF0F8"
             },
             "line": {
              "color": "white"
             }
            },
            "header": {
             "fill": {
              "color": "#C8D4E3"
             },
             "line": {
              "color": "white"
             }
            },
            "type": "table"
           }
          ]
         },
         "layout": {
          "annotationdefaults": {
           "arrowcolor": "#2a3f5f",
           "arrowhead": 0,
           "arrowwidth": 1
          },
          "autotypenumbers": "strict",
          "coloraxis": {
           "colorbar": {
            "outlinewidth": 0,
            "ticks": ""
           }
          },
          "colorscale": {
           "diverging": [
            [
             0,
             "#8e0152"
            ],
            [
             0.1,
             "#c51b7d"
            ],
            [
             0.2,
             "#de77ae"
            ],
            [
             0.3,
             "#f1b6da"
            ],
            [
             0.4,
             "#fde0ef"
            ],
            [
             0.5,
             "#f7f7f7"
            ],
            [
             0.6,
             "#e6f5d0"
            ],
            [
             0.7,
             "#b8e186"
            ],
            [
             0.8,
             "#7fbc41"
            ],
            [
             0.9,
             "#4d9221"
            ],
            [
             1,
             "#276419"
            ]
           ],
           "sequential": [
            [
             0,
             "#0d0887"
            ],
            [
             0.1111111111111111,
             "#46039f"
            ],
            [
             0.2222222222222222,
             "#7201a8"
            ],
            [
             0.3333333333333333,
             "#9c179e"
            ],
            [
             0.4444444444444444,
             "#bd3786"
            ],
            [
             0.5555555555555556,
             "#d8576b"
            ],
            [
             0.6666666666666666,
             "#ed7953"
            ],
            [
             0.7777777777777778,
             "#fb9f3a"
            ],
            [
             0.8888888888888888,
             "#fdca26"
            ],
            [
             1,
             "#f0f921"
            ]
           ],
           "sequentialminus": [
            [
             0,
             "#0d0887"
            ],
            [
             0.1111111111111111,
             "#46039f"
            ],
            [
             0.2222222222222222,
             "#7201a8"
            ],
            [
             0.3333333333333333,
             "#9c179e"
            ],
            [
             0.4444444444444444,
             "#bd3786"
            ],
            [
             0.5555555555555556,
             "#d8576b"
            ],
            [
             0.6666666666666666,
             "#ed7953"
            ],
            [
             0.7777777777777778,
             "#fb9f3a"
            ],
            [
             0.8888888888888888,
             "#fdca26"
            ],
            [
             1,
             "#f0f921"
            ]
           ]
          },
          "colorway": [
           "#636efa",
           "#EF553B",
           "#00cc96",
           "#ab63fa",
           "#FFA15A",
           "#19d3f3",
           "#FF6692",
           "#B6E880",
           "#FF97FF",
           "#FECB52"
          ],
          "font": {
           "color": "#2a3f5f"
          },
          "geo": {
           "bgcolor": "white",
           "lakecolor": "white",
           "landcolor": "#E5ECF6",
           "showlakes": true,
           "showland": true,
           "subunitcolor": "white"
          },
          "hoverlabel": {
           "align": "left"
          },
          "hovermode": "closest",
          "mapbox": {
           "style": "light"
          },
          "paper_bgcolor": "white",
          "plot_bgcolor": "#E5ECF6",
          "polar": {
           "angularaxis": {
            "gridcolor": "white",
            "linecolor": "white",
            "ticks": ""
           },
           "bgcolor": "#E5ECF6",
           "radialaxis": {
            "gridcolor": "white",
            "linecolor": "white",
            "ticks": ""
           }
          },
          "scene": {
           "xaxis": {
            "backgroundcolor": "#E5ECF6",
            "gridcolor": "white",
            "gridwidth": 2,
            "linecolor": "white",
            "showbackground": true,
            "ticks": "",
            "zerolinecolor": "white"
           },
           "yaxis": {
            "backgroundcolor": "#E5ECF6",
            "gridcolor": "white",
            "gridwidth": 2,
            "linecolor": "white",
            "showbackground": true,
            "ticks": "",
            "zerolinecolor": "white"
           },
           "zaxis": {
            "backgroundcolor": "#E5ECF6",
            "gridcolor": "white",
            "gridwidth": 2,
            "linecolor": "white",
            "showbackground": true,
            "ticks": "",
            "zerolinecolor": "white"
           }
          },
          "shapedefaults": {
           "line": {
            "color": "#2a3f5f"
           }
          },
          "ternary": {
           "aaxis": {
            "gridcolor": "white",
            "linecolor": "white",
            "ticks": ""
           },
           "baxis": {
            "gridcolor": "white",
            "linecolor": "white",
            "ticks": ""
           },
           "bgcolor": "#E5ECF6",
           "caxis": {
            "gridcolor": "white",
            "linecolor": "white",
            "ticks": ""
           }
          },
          "title": {
           "x": 0.05
          },
          "xaxis": {
           "automargin": true,
           "gridcolor": "white",
           "linecolor": "white",
           "ticks": "",
           "title": {
            "standoff": 15
           },
           "zerolinecolor": "white",
           "zerolinewidth": 2
          },
          "yaxis": {
           "automargin": true,
           "gridcolor": "white",
           "linecolor": "white",
           "ticks": "",
           "title": {
            "standoff": 15
           },
           "zerolinecolor": "white",
           "zerolinewidth": 2
          }
         }
        },
        "title": {
         "text": "Short Circuit at 10% of line"
        },
        "width": 1000,
        "xaxis": {
         "gridcolor": "black",
         "griddash": "dash",
         "minor": {
          "griddash": "dot"
         },
         "range": [
          0.05,
          0.15
         ],
         "title": {
          "text": "Type of Short Circuit"
         }
        },
        "yaxis": {
         "dtick": 0.005,
         "gridcolor": "blue",
         "griddash": "dash",
         "gridwidth": 1,
         "minor": {
          "griddash": "dot",
          "nticks": 5
         },
         "range": [
          0,
          0.08
         ],
         "showgrid": true,
         "tick0": 0.02,
         "tickmode": "linear",
         "title": {
          "text": "Value Absolute Error"
         }
        }
       }
      }
     },
     "metadata": {},
     "output_type": "display_data"
    }
   ],
   "source": [
    "fig = go.Figure()\n",
    "\n",
    "# Add traces\n",
    "fig.add_trace(go.Scatter(x=ValorZeroUm['n'], y=ValorZeroUm['Mean AE - AB'],\n",
    "                    mode='markers+lines',\n",
    "                    name='Mean AE - AB',\n",
    "                    marker=dict(\n",
    "                        size=30,\n",
    "                        line=dict(\n",
    "                            width=2\n",
    "                        )\n",
    "                    ),\n",
    "                    text=ValorZeroUm['Mean AE - AB'],\n",
    "                    textposition=\"top center\"))\n",
    "fig.add_trace(go.Scatter(x=ValorZeroUm['n'], y=ValorZeroUm['Mean AE - AC'],\n",
    "                    mode='markers+lines',\n",
    "                    name='Mean AE - AC',\n",
    "                    marker=dict(\n",
    "                        size=25,\n",
    "                        line=dict(\n",
    "                            width=2\n",
    "                        )\n",
    "                    ),\n",
    "                    text=ValorZeroUm['Mean AE - AC'],\n",
    "                    textposition=\"top center\"))\n",
    "fig.add_trace(go.Scatter(x=ValorZeroUm['n'], y=ValorZeroUm['Mean AE - BC'],\n",
    "                    mode='markers+lines',\n",
    "                    name='Mean AE - BC',\n",
    "                    marker=dict(\n",
    "                        size=20,\n",
    "                        line=dict(\n",
    "                            width=2\n",
    "                        )\n",
    "                    ),\n",
    "                    text=ValorZeroUm['Mean AE - BC'],\n",
    "                    textposition=\"bottom center\"))\n",
    "fig.add_trace(go.Scatter(x=ValorZeroUm['n'], y=ValorZeroUm['Mean AE - TRIF'],\n",
    "                    mode='markers+lines',\n",
    "                    name='Mean AE - TRIF',\n",
    "                    marker=dict(\n",
    "                        size=15,\n",
    "                        line=dict(\n",
    "                            width=2\n",
    "                        )\n",
    "                    ),\n",
    "                    text=ValorZeroUm['Mean AE - TRIF'],\n",
    "                    textposition=\"top center\"))\n",
    "fig.update_yaxes(showgrid=True, gridwidth=1, gridcolor='blue', griddash='dash', minor_griddash=\"dot\", minor_nticks=5, tickmode = 'linear', tick0 = 0.02,dtick = 0.005,)\n",
    "fig.update_xaxes(gridcolor='black', griddash='dash', minor_griddash=\"dot\")\n",
    "fig.update_yaxes(range=[0, 0.08])\n",
    "fig.update_xaxes(range=[0.05, 0.15])\n",
    "fig.update_layout(\n",
    "    autosize=False,\n",
    "    width=1000,\n",
    "    height=1000,\n",
    "    margin=dict(\n",
    "        l=50,\n",
    "        r=50,\n",
    "        b=100,\n",
    "        t=100,\n",
    "        pad=4\n",
    "    ),\n",
    "    paper_bgcolor='LightSteelBlue',)\n",
    "fig.update_layout(\n",
    "    title=\"Short Circuit at 10% of line\",\n",
    "    xaxis_title=\"Type of Short Circuit\",\n",
    "    yaxis_title=\"Value Absolute Error\",\n",
    "    legend_title=\"Legend\",\n",
    "    font=dict(\n",
    "        family=\"Courier New, monospace\",\n",
    "        size=18,\n",
    "    )\n",
    ")\n",
    "fig.show()\n",
    "fig.write_image(\"images/ValorAE_1.png\")"
   ]
  },
  {
   "cell_type": "code",
   "execution_count": 10,
   "metadata": {},
   "outputs": [
    {
     "data": {
      "application/vnd.plotly.v1+json": {
       "config": {
        "plotlyServerURL": "https://plot.ly"
       },
       "data": [
        {
         "marker": {
          "line": {
           "width": 2
          },
          "size": 30
         },
         "mode": "markers+lines",
         "name": "Mean AE - AB",
         "text": [
          0.0183028833333345
         ],
         "textposition": "top center",
         "type": "scatter",
         "x": [
          0.25
         ],
         "y": [
          0.0183028833333345
         ]
        },
        {
         "marker": {
          "line": {
           "width": 2
          },
          "size": 25
         },
         "mode": "markers+lines",
         "name": "Mean AE - AC",
         "text": [
          0.009069466666673957
         ],
         "textposition": "top center",
         "type": "scatter",
         "x": [
          0.25
         ],
         "y": [
          0.009069466666673957
         ]
        },
        {
         "marker": {
          "line": {
           "width": 2
          },
          "size": 20
         },
         "mode": "markers+lines",
         "name": "Mean AE - BC",
         "text": [
          0.009069566666669221
         ],
         "textposition": "bottom center",
         "type": "scatter",
         "x": [
          0.25
         ],
         "y": [
          0.009069566666669221
         ]
        },
        {
         "marker": {
          "line": {
           "width": 2
          },
          "size": 15
         },
         "mode": "markers+lines",
         "name": "Mean AE - TRIF",
         "text": [
          0.04530999999999589
         ],
         "textposition": "top center",
         "type": "scatter",
         "x": [
          0.25
         ],
         "y": [
          0.04530999999999589
         ]
        }
       ],
       "layout": {
        "autosize": false,
        "font": {
         "family": "Courier New, monospace",
         "size": 18
        },
        "height": 1000,
        "legend": {
         "title": {
          "text": "Legend"
         }
        },
        "margin": {
         "b": 100,
         "l": 50,
         "pad": 4,
         "r": 50,
         "t": 100
        },
        "paper_bgcolor": "LightSteelBlue",
        "template": {
         "data": {
          "bar": [
           {
            "error_x": {
             "color": "#2a3f5f"
            },
            "error_y": {
             "color": "#2a3f5f"
            },
            "marker": {
             "line": {
              "color": "#E5ECF6",
              "width": 0.5
             },
             "pattern": {
              "fillmode": "overlay",
              "size": 10,
              "solidity": 0.2
             }
            },
            "type": "bar"
           }
          ],
          "barpolar": [
           {
            "marker": {
             "line": {
              "color": "#E5ECF6",
              "width": 0.5
             },
             "pattern": {
              "fillmode": "overlay",
              "size": 10,
              "solidity": 0.2
             }
            },
            "type": "barpolar"
           }
          ],
          "carpet": [
           {
            "aaxis": {
             "endlinecolor": "#2a3f5f",
             "gridcolor": "white",
             "linecolor": "white",
             "minorgridcolor": "white",
             "startlinecolor": "#2a3f5f"
            },
            "baxis": {
             "endlinecolor": "#2a3f5f",
             "gridcolor": "white",
             "linecolor": "white",
             "minorgridcolor": "white",
             "startlinecolor": "#2a3f5f"
            },
            "type": "carpet"
           }
          ],
          "choropleth": [
           {
            "colorbar": {
             "outlinewidth": 0,
             "ticks": ""
            },
            "type": "choropleth"
           }
          ],
          "contour": [
           {
            "colorbar": {
             "outlinewidth": 0,
             "ticks": ""
            },
            "colorscale": [
             [
              0,
              "#0d0887"
             ],
             [
              0.1111111111111111,
              "#46039f"
             ],
             [
              0.2222222222222222,
              "#7201a8"
             ],
             [
              0.3333333333333333,
              "#9c179e"
             ],
             [
              0.4444444444444444,
              "#bd3786"
             ],
             [
              0.5555555555555556,
              "#d8576b"
             ],
             [
              0.6666666666666666,
              "#ed7953"
             ],
             [
              0.7777777777777778,
              "#fb9f3a"
             ],
             [
              0.8888888888888888,
              "#fdca26"
             ],
             [
              1,
              "#f0f921"
             ]
            ],
            "type": "contour"
           }
          ],
          "contourcarpet": [
           {
            "colorbar": {
             "outlinewidth": 0,
             "ticks": ""
            },
            "type": "contourcarpet"
           }
          ],
          "heatmap": [
           {
            "colorbar": {
             "outlinewidth": 0,
             "ticks": ""
            },
            "colorscale": [
             [
              0,
              "#0d0887"
             ],
             [
              0.1111111111111111,
              "#46039f"
             ],
             [
              0.2222222222222222,
              "#7201a8"
             ],
             [
              0.3333333333333333,
              "#9c179e"
             ],
             [
              0.4444444444444444,
              "#bd3786"
             ],
             [
              0.5555555555555556,
              "#d8576b"
             ],
             [
              0.6666666666666666,
              "#ed7953"
             ],
             [
              0.7777777777777778,
              "#fb9f3a"
             ],
             [
              0.8888888888888888,
              "#fdca26"
             ],
             [
              1,
              "#f0f921"
             ]
            ],
            "type": "heatmap"
           }
          ],
          "heatmapgl": [
           {
            "colorbar": {
             "outlinewidth": 0,
             "ticks": ""
            },
            "colorscale": [
             [
              0,
              "#0d0887"
             ],
             [
              0.1111111111111111,
              "#46039f"
             ],
             [
              0.2222222222222222,
              "#7201a8"
             ],
             [
              0.3333333333333333,
              "#9c179e"
             ],
             [
              0.4444444444444444,
              "#bd3786"
             ],
             [
              0.5555555555555556,
              "#d8576b"
             ],
             [
              0.6666666666666666,
              "#ed7953"
             ],
             [
              0.7777777777777778,
              "#fb9f3a"
             ],
             [
              0.8888888888888888,
              "#fdca26"
             ],
             [
              1,
              "#f0f921"
             ]
            ],
            "type": "heatmapgl"
           }
          ],
          "histogram": [
           {
            "marker": {
             "pattern": {
              "fillmode": "overlay",
              "size": 10,
              "solidity": 0.2
             }
            },
            "type": "histogram"
           }
          ],
          "histogram2d": [
           {
            "colorbar": {
             "outlinewidth": 0,
             "ticks": ""
            },
            "colorscale": [
             [
              0,
              "#0d0887"
             ],
             [
              0.1111111111111111,
              "#46039f"
             ],
             [
              0.2222222222222222,
              "#7201a8"
             ],
             [
              0.3333333333333333,
              "#9c179e"
             ],
             [
              0.4444444444444444,
              "#bd3786"
             ],
             [
              0.5555555555555556,
              "#d8576b"
             ],
             [
              0.6666666666666666,
              "#ed7953"
             ],
             [
              0.7777777777777778,
              "#fb9f3a"
             ],
             [
              0.8888888888888888,
              "#fdca26"
             ],
             [
              1,
              "#f0f921"
             ]
            ],
            "type": "histogram2d"
           }
          ],
          "histogram2dcontour": [
           {
            "colorbar": {
             "outlinewidth": 0,
             "ticks": ""
            },
            "colorscale": [
             [
              0,
              "#0d0887"
             ],
             [
              0.1111111111111111,
              "#46039f"
             ],
             [
              0.2222222222222222,
              "#7201a8"
             ],
             [
              0.3333333333333333,
              "#9c179e"
             ],
             [
              0.4444444444444444,
              "#bd3786"
             ],
             [
              0.5555555555555556,
              "#d8576b"
             ],
             [
              0.6666666666666666,
              "#ed7953"
             ],
             [
              0.7777777777777778,
              "#fb9f3a"
             ],
             [
              0.8888888888888888,
              "#fdca26"
             ],
             [
              1,
              "#f0f921"
             ]
            ],
            "type": "histogram2dcontour"
           }
          ],
          "mesh3d": [
           {
            "colorbar": {
             "outlinewidth": 0,
             "ticks": ""
            },
            "type": "mesh3d"
           }
          ],
          "parcoords": [
           {
            "line": {
             "colorbar": {
              "outlinewidth": 0,
              "ticks": ""
             }
            },
            "type": "parcoords"
           }
          ],
          "pie": [
           {
            "automargin": true,
            "type": "pie"
           }
          ],
          "scatter": [
           {
            "fillpattern": {
             "fillmode": "overlay",
             "size": 10,
             "solidity": 0.2
            },
            "type": "scatter"
           }
          ],
          "scatter3d": [
           {
            "line": {
             "colorbar": {
              "outlinewidth": 0,
              "ticks": ""
             }
            },
            "marker": {
             "colorbar": {
              "outlinewidth": 0,
              "ticks": ""
             }
            },
            "type": "scatter3d"
           }
          ],
          "scattercarpet": [
           {
            "marker": {
             "colorbar": {
              "outlinewidth": 0,
              "ticks": ""
             }
            },
            "type": "scattercarpet"
           }
          ],
          "scattergeo": [
           {
            "marker": {
             "colorbar": {
              "outlinewidth": 0,
              "ticks": ""
             }
            },
            "type": "scattergeo"
           }
          ],
          "scattergl": [
           {
            "marker": {
             "colorbar": {
              "outlinewidth": 0,
              "ticks": ""
             }
            },
            "type": "scattergl"
           }
          ],
          "scattermapbox": [
           {
            "marker": {
             "colorbar": {
              "outlinewidth": 0,
              "ticks": ""
             }
            },
            "type": "scattermapbox"
           }
          ],
          "scatterpolar": [
           {
            "marker": {
             "colorbar": {
              "outlinewidth": 0,
              "ticks": ""
             }
            },
            "type": "scatterpolar"
           }
          ],
          "scatterpolargl": [
           {
            "marker": {
             "colorbar": {
              "outlinewidth": 0,
              "ticks": ""
             }
            },
            "type": "scatterpolargl"
           }
          ],
          "scatterternary": [
           {
            "marker": {
             "colorbar": {
              "outlinewidth": 0,
              "ticks": ""
             }
            },
            "type": "scatterternary"
           }
          ],
          "surface": [
           {
            "colorbar": {
             "outlinewidth": 0,
             "ticks": ""
            },
            "colorscale": [
             [
              0,
              "#0d0887"
             ],
             [
              0.1111111111111111,
              "#46039f"
             ],
             [
              0.2222222222222222,
              "#7201a8"
             ],
             [
              0.3333333333333333,
              "#9c179e"
             ],
             [
              0.4444444444444444,
              "#bd3786"
             ],
             [
              0.5555555555555556,
              "#d8576b"
             ],
             [
              0.6666666666666666,
              "#ed7953"
             ],
             [
              0.7777777777777778,
              "#fb9f3a"
             ],
             [
              0.8888888888888888,
              "#fdca26"
             ],
             [
              1,
              "#f0f921"
             ]
            ],
            "type": "surface"
           }
          ],
          "table": [
           {
            "cells": {
             "fill": {
              "color": "#EBF0F8"
             },
             "line": {
              "color": "white"
             }
            },
            "header": {
             "fill": {
              "color": "#C8D4E3"
             },
             "line": {
              "color": "white"
             }
            },
            "type": "table"
           }
          ]
         },
         "layout": {
          "annotationdefaults": {
           "arrowcolor": "#2a3f5f",
           "arrowhead": 0,
           "arrowwidth": 1
          },
          "autotypenumbers": "strict",
          "coloraxis": {
           "colorbar": {
            "outlinewidth": 0,
            "ticks": ""
           }
          },
          "colorscale": {
           "diverging": [
            [
             0,
             "#8e0152"
            ],
            [
             0.1,
             "#c51b7d"
            ],
            [
             0.2,
             "#de77ae"
            ],
            [
             0.3,
             "#f1b6da"
            ],
            [
             0.4,
             "#fde0ef"
            ],
            [
             0.5,
             "#f7f7f7"
            ],
            [
             0.6,
             "#e6f5d0"
            ],
            [
             0.7,
             "#b8e186"
            ],
            [
             0.8,
             "#7fbc41"
            ],
            [
             0.9,
             "#4d9221"
            ],
            [
             1,
             "#276419"
            ]
           ],
           "sequential": [
            [
             0,
             "#0d0887"
            ],
            [
             0.1111111111111111,
             "#46039f"
            ],
            [
             0.2222222222222222,
             "#7201a8"
            ],
            [
             0.3333333333333333,
             "#9c179e"
            ],
            [
             0.4444444444444444,
             "#bd3786"
            ],
            [
             0.5555555555555556,
             "#d8576b"
            ],
            [
             0.6666666666666666,
             "#ed7953"
            ],
            [
             0.7777777777777778,
             "#fb9f3a"
            ],
            [
             0.8888888888888888,
             "#fdca26"
            ],
            [
             1,
             "#f0f921"
            ]
           ],
           "sequentialminus": [
            [
             0,
             "#0d0887"
            ],
            [
             0.1111111111111111,
             "#46039f"
            ],
            [
             0.2222222222222222,
             "#7201a8"
            ],
            [
             0.3333333333333333,
             "#9c179e"
            ],
            [
             0.4444444444444444,
             "#bd3786"
            ],
            [
             0.5555555555555556,
             "#d8576b"
            ],
            [
             0.6666666666666666,
             "#ed7953"
            ],
            [
             0.7777777777777778,
             "#fb9f3a"
            ],
            [
             0.8888888888888888,
             "#fdca26"
            ],
            [
             1,
             "#f0f921"
            ]
           ]
          },
          "colorway": [
           "#636efa",
           "#EF553B",
           "#00cc96",
           "#ab63fa",
           "#FFA15A",
           "#19d3f3",
           "#FF6692",
           "#B6E880",
           "#FF97FF",
           "#FECB52"
          ],
          "font": {
           "color": "#2a3f5f"
          },
          "geo": {
           "bgcolor": "white",
           "lakecolor": "white",
           "landcolor": "#E5ECF6",
           "showlakes": true,
           "showland": true,
           "subunitcolor": "white"
          },
          "hoverlabel": {
           "align": "left"
          },
          "hovermode": "closest",
          "mapbox": {
           "style": "light"
          },
          "paper_bgcolor": "white",
          "plot_bgcolor": "#E5ECF6",
          "polar": {
           "angularaxis": {
            "gridcolor": "white",
            "linecolor": "white",
            "ticks": ""
           },
           "bgcolor": "#E5ECF6",
           "radialaxis": {
            "gridcolor": "white",
            "linecolor": "white",
            "ticks": ""
           }
          },
          "scene": {
           "xaxis": {
            "backgroundcolor": "#E5ECF6",
            "gridcolor": "white",
            "gridwidth": 2,
            "linecolor": "white",
            "showbackground": true,
            "ticks": "",
            "zerolinecolor": "white"
           },
           "yaxis": {
            "backgroundcolor": "#E5ECF6",
            "gridcolor": "white",
            "gridwidth": 2,
            "linecolor": "white",
            "showbackground": true,
            "ticks": "",
            "zerolinecolor": "white"
           },
           "zaxis": {
            "backgroundcolor": "#E5ECF6",
            "gridcolor": "white",
            "gridwidth": 2,
            "linecolor": "white",
            "showbackground": true,
            "ticks": "",
            "zerolinecolor": "white"
           }
          },
          "shapedefaults": {
           "line": {
            "color": "#2a3f5f"
           }
          },
          "ternary": {
           "aaxis": {
            "gridcolor": "white",
            "linecolor": "white",
            "ticks": ""
           },
           "baxis": {
            "gridcolor": "white",
            "linecolor": "white",
            "ticks": ""
           },
           "bgcolor": "#E5ECF6",
           "caxis": {
            "gridcolor": "white",
            "linecolor": "white",
            "ticks": ""
           }
          },
          "title": {
           "x": 0.05
          },
          "xaxis": {
           "automargin": true,
           "gridcolor": "white",
           "linecolor": "white",
           "ticks": "",
           "title": {
            "standoff": 15
           },
           "zerolinecolor": "white",
           "zerolinewidth": 2
          },
          "yaxis": {
           "automargin": true,
           "gridcolor": "white",
           "linecolor": "white",
           "ticks": "",
           "title": {
            "standoff": 15
           },
           "zerolinecolor": "white",
           "zerolinewidth": 2
          }
         }
        },
        "title": {
         "text": "Short Circuit at 25% of line"
        },
        "width": 1000,
        "xaxis": {
         "gridcolor": "black",
         "griddash": "dash",
         "minor": {
          "griddash": "dot"
         },
         "range": [
          0.24,
          0.26
         ],
         "title": {
          "text": "Type of Short Circuit"
         }
        },
        "yaxis": {
         "dtick": 0.002,
         "gridcolor": "blue",
         "griddash": "dash",
         "gridwidth": 1,
         "minor": {
          "griddash": "dot",
          "nticks": 5
         },
         "range": [
          0,
          0.05
         ],
         "showgrid": true,
         "tick0": 0.01,
         "tickmode": "linear",
         "title": {
          "text": "Value Absolute Error"
         }
        }
       }
      }
     },
     "metadata": {},
     "output_type": "display_data"
    }
   ],
   "source": [
    "fig = go.Figure()\n",
    "\n",
    "# Add traces\n",
    "fig.add_trace(go.Scatter(x=ValorZeroVinteCinco['n'], y=ValorZeroVinteCinco['Mean AE - AB'],\n",
    "                    mode='markers+lines',\n",
    "                    name='Mean AE - AB',\n",
    "                    marker=dict(\n",
    "                        size=30,\n",
    "                        line=dict(\n",
    "                            width=2\n",
    "                        )\n",
    "                    ),\n",
    "                    text=ValorZeroVinteCinco['Mean AE - AB'],\n",
    "                    textposition=\"top center\"))\n",
    "fig.add_trace(go.Scatter(x=ValorZeroVinteCinco['n'], y=ValorZeroVinteCinco['Mean AE - AC'],\n",
    "                    mode='markers+lines',\n",
    "                    name='Mean AE - AC',\n",
    "                    marker=dict(\n",
    "                        size=25,\n",
    "                        line=dict(\n",
    "                            width=2\n",
    "                        )\n",
    "                    ),\n",
    "                    text=ValorZeroVinteCinco['Mean AE - AC'],\n",
    "                    textposition=\"top center\"))\n",
    "fig.add_trace(go.Scatter(x=ValorZeroVinteCinco['n'], y=ValorZeroVinteCinco['Mean AE - BC'],\n",
    "                    mode='markers+lines',\n",
    "                    name='Mean AE - BC',\n",
    "                    marker=dict(\n",
    "                        size=20,\n",
    "                        line=dict(\n",
    "                            width=2\n",
    "                        )\n",
    "                    ),\n",
    "                    text=ValorZeroVinteCinco['Mean AE - BC'],\n",
    "                    textposition=\"bottom center\"))\n",
    "fig.add_trace(go.Scatter(x=ValorZeroVinteCinco['n'], y=ValorZeroVinteCinco['Mean AE - TRIF'],\n",
    "                    mode='markers+lines',\n",
    "                    name='Mean AE - TRIF',\n",
    "                    marker=dict(\n",
    "                        size=15,\n",
    "                        line=dict(\n",
    "                            width=2\n",
    "                        )\n",
    "                    ),\n",
    "                    text=ValorZeroVinteCinco['Mean AE - TRIF'],\n",
    "                    textposition=\"top center\"))\n",
    "fig.update_yaxes(showgrid=True, gridwidth=1, gridcolor='blue', griddash='dash', minor_griddash=\"dot\", minor_nticks=5, tickmode = 'linear', tick0 = 0.01,dtick = 0.002,)\n",
    "fig.update_xaxes(gridcolor='black', griddash='dash', minor_griddash=\"dot\")\n",
    "fig.update_yaxes(range=[0, 0.05])\n",
    "fig.update_xaxes(range=[0.24, 0.26])\n",
    "fig.update_layout(\n",
    "    autosize=False,\n",
    "    width=1000,\n",
    "    height=1000,\n",
    "    margin=dict(\n",
    "        l=50,\n",
    "        r=50,\n",
    "        b=100,\n",
    "        t=100,\n",
    "        pad=4\n",
    "    ),\n",
    "    paper_bgcolor='LightSteelBlue',)\n",
    "fig.update_layout(\n",
    "    title=\"Short Circuit at 25% of line\",\n",
    "    xaxis_title=\"Type of Short Circuit\",\n",
    "    yaxis_title=\"Value Absolute Error\",\n",
    "    legend_title=\"Legend\",\n",
    "    font=dict(\n",
    "        family=\"Courier New, monospace\",\n",
    "        size=18,\n",
    "    )\n",
    ")\n",
    "fig.show()\n",
    "fig.write_image(\"images/ValorAE_2.png\")"
   ]
  },
  {
   "cell_type": "code",
   "execution_count": 11,
   "metadata": {},
   "outputs": [
    {
     "data": {
      "application/vnd.plotly.v1+json": {
       "config": {
        "plotlyServerURL": "https://plot.ly"
       },
       "data": [
        {
         "marker": {
          "line": {
           "width": 2
          },
          "size": 30
         },
         "mode": "markers+lines",
         "name": "Mean AE - AB",
         "text": [
          0.009736200000001
         ],
         "textposition": "top center",
         "type": "scatter",
         "x": [
          0.5
         ],
         "y": [
          0.009736200000001
         ]
        },
        {
         "marker": {
          "line": {
           "width": 2
          },
          "size": 25
         },
         "mode": "markers+lines",
         "name": "Mean AE - AC",
         "text": [
          0.007002933333333599
         ],
         "textposition": "top center",
         "type": "scatter",
         "x": [
          0.5
         ],
         "y": [
          0.007002933333333599
         ]
        },
        {
         "marker": {
          "line": {
           "width": 2
          },
          "size": 20
         },
         "mode": "markers+lines",
         "name": "Mean AE - BC",
         "text": [
          0.0070028000000002645
         ],
         "textposition": "bottom center",
         "type": "scatter",
         "x": [
          0.5
         ],
         "y": [
          0.0070028000000002645
         ]
        },
        {
         "marker": {
          "line": {
           "width": 2
          },
          "size": 15
         },
         "mode": "markers+lines",
         "name": "Mean AE - TRIF",
         "text": [
          0.02219333333334343
         ],
         "textposition": "top center",
         "type": "scatter",
         "x": [
          0.5
         ],
         "y": [
          0.02219333333334343
         ]
        }
       ],
       "layout": {
        "autosize": false,
        "font": {
         "family": "Courier New, monospace",
         "size": 18
        },
        "height": 1000,
        "legend": {
         "title": {
          "text": "Legend"
         }
        },
        "margin": {
         "b": 100,
         "l": 50,
         "pad": 4,
         "r": 50,
         "t": 100
        },
        "paper_bgcolor": "LightSteelBlue",
        "template": {
         "data": {
          "bar": [
           {
            "error_x": {
             "color": "#2a3f5f"
            },
            "error_y": {
             "color": "#2a3f5f"
            },
            "marker": {
             "line": {
              "color": "#E5ECF6",
              "width": 0.5
             },
             "pattern": {
              "fillmode": "overlay",
              "size": 10,
              "solidity": 0.2
             }
            },
            "type": "bar"
           }
          ],
          "barpolar": [
           {
            "marker": {
             "line": {
              "color": "#E5ECF6",
              "width": 0.5
             },
             "pattern": {
              "fillmode": "overlay",
              "size": 10,
              "solidity": 0.2
             }
            },
            "type": "barpolar"
           }
          ],
          "carpet": [
           {
            "aaxis": {
             "endlinecolor": "#2a3f5f",
             "gridcolor": "white",
             "linecolor": "white",
             "minorgridcolor": "white",
             "startlinecolor": "#2a3f5f"
            },
            "baxis": {
             "endlinecolor": "#2a3f5f",
             "gridcolor": "white",
             "linecolor": "white",
             "minorgridcolor": "white",
             "startlinecolor": "#2a3f5f"
            },
            "type": "carpet"
           }
          ],
          "choropleth": [
           {
            "colorbar": {
             "outlinewidth": 0,
             "ticks": ""
            },
            "type": "choropleth"
           }
          ],
          "contour": [
           {
            "colorbar": {
             "outlinewidth": 0,
             "ticks": ""
            },
            "colorscale": [
             [
              0,
              "#0d0887"
             ],
             [
              0.1111111111111111,
              "#46039f"
             ],
             [
              0.2222222222222222,
              "#7201a8"
             ],
             [
              0.3333333333333333,
              "#9c179e"
             ],
             [
              0.4444444444444444,
              "#bd3786"
             ],
             [
              0.5555555555555556,
              "#d8576b"
             ],
             [
              0.6666666666666666,
              "#ed7953"
             ],
             [
              0.7777777777777778,
              "#fb9f3a"
             ],
             [
              0.8888888888888888,
              "#fdca26"
             ],
             [
              1,
              "#f0f921"
             ]
            ],
            "type": "contour"
           }
          ],
          "contourcarpet": [
           {
            "colorbar": {
             "outlinewidth": 0,
             "ticks": ""
            },
            "type": "contourcarpet"
           }
          ],
          "heatmap": [
           {
            "colorbar": {
             "outlinewidth": 0,
             "ticks": ""
            },
            "colorscale": [
             [
              0,
              "#0d0887"
             ],
             [
              0.1111111111111111,
              "#46039f"
             ],
             [
              0.2222222222222222,
              "#7201a8"
             ],
             [
              0.3333333333333333,
              "#9c179e"
             ],
             [
              0.4444444444444444,
              "#bd3786"
             ],
             [
              0.5555555555555556,
              "#d8576b"
             ],
             [
              0.6666666666666666,
              "#ed7953"
             ],
             [
              0.7777777777777778,
              "#fb9f3a"
             ],
             [
              0.8888888888888888,
              "#fdca26"
             ],
             [
              1,
              "#f0f921"
             ]
            ],
            "type": "heatmap"
           }
          ],
          "heatmapgl": [
           {
            "colorbar": {
             "outlinewidth": 0,
             "ticks": ""
            },
            "colorscale": [
             [
              0,
              "#0d0887"
             ],
             [
              0.1111111111111111,
              "#46039f"
             ],
             [
              0.2222222222222222,
              "#7201a8"
             ],
             [
              0.3333333333333333,
              "#9c179e"
             ],
             [
              0.4444444444444444,
              "#bd3786"
             ],
             [
              0.5555555555555556,
              "#d8576b"
             ],
             [
              0.6666666666666666,
              "#ed7953"
             ],
             [
              0.7777777777777778,
              "#fb9f3a"
             ],
             [
              0.8888888888888888,
              "#fdca26"
             ],
             [
              1,
              "#f0f921"
             ]
            ],
            "type": "heatmapgl"
           }
          ],
          "histogram": [
           {
            "marker": {
             "pattern": {
              "fillmode": "overlay",
              "size": 10,
              "solidity": 0.2
             }
            },
            "type": "histogram"
           }
          ],
          "histogram2d": [
           {
            "colorbar": {
             "outlinewidth": 0,
             "ticks": ""
            },
            "colorscale": [
             [
              0,
              "#0d0887"
             ],
             [
              0.1111111111111111,
              "#46039f"
             ],
             [
              0.2222222222222222,
              "#7201a8"
             ],
             [
              0.3333333333333333,
              "#9c179e"
             ],
             [
              0.4444444444444444,
              "#bd3786"
             ],
             [
              0.5555555555555556,
              "#d8576b"
             ],
             [
              0.6666666666666666,
              "#ed7953"
             ],
             [
              0.7777777777777778,
              "#fb9f3a"
             ],
             [
              0.8888888888888888,
              "#fdca26"
             ],
             [
              1,
              "#f0f921"
             ]
            ],
            "type": "histogram2d"
           }
          ],
          "histogram2dcontour": [
           {
            "colorbar": {
             "outlinewidth": 0,
             "ticks": ""
            },
            "colorscale": [
             [
              0,
              "#0d0887"
             ],
             [
              0.1111111111111111,
              "#46039f"
             ],
             [
              0.2222222222222222,
              "#7201a8"
             ],
             [
              0.3333333333333333,
              "#9c179e"
             ],
             [
              0.4444444444444444,
              "#bd3786"
             ],
             [
              0.5555555555555556,
              "#d8576b"
             ],
             [
              0.6666666666666666,
              "#ed7953"
             ],
             [
              0.7777777777777778,
              "#fb9f3a"
             ],
             [
              0.8888888888888888,
              "#fdca26"
             ],
             [
              1,
              "#f0f921"
             ]
            ],
            "type": "histogram2dcontour"
           }
          ],
          "mesh3d": [
           {
            "colorbar": {
             "outlinewidth": 0,
             "ticks": ""
            },
            "type": "mesh3d"
           }
          ],
          "parcoords": [
           {
            "line": {
             "colorbar": {
              "outlinewidth": 0,
              "ticks": ""
             }
            },
            "type": "parcoords"
           }
          ],
          "pie": [
           {
            "automargin": true,
            "type": "pie"
           }
          ],
          "scatter": [
           {
            "fillpattern": {
             "fillmode": "overlay",
             "size": 10,
             "solidity": 0.2
            },
            "type": "scatter"
           }
          ],
          "scatter3d": [
           {
            "line": {
             "colorbar": {
              "outlinewidth": 0,
              "ticks": ""
             }
            },
            "marker": {
             "colorbar": {
              "outlinewidth": 0,
              "ticks": ""
             }
            },
            "type": "scatter3d"
           }
          ],
          "scattercarpet": [
           {
            "marker": {
             "colorbar": {
              "outlinewidth": 0,
              "ticks": ""
             }
            },
            "type": "scattercarpet"
           }
          ],
          "scattergeo": [
           {
            "marker": {
             "colorbar": {
              "outlinewidth": 0,
              "ticks": ""
             }
            },
            "type": "scattergeo"
           }
          ],
          "scattergl": [
           {
            "marker": {
             "colorbar": {
              "outlinewidth": 0,
              "ticks": ""
             }
            },
            "type": "scattergl"
           }
          ],
          "scattermapbox": [
           {
            "marker": {
             "colorbar": {
              "outlinewidth": 0,
              "ticks": ""
             }
            },
            "type": "scattermapbox"
           }
          ],
          "scatterpolar": [
           {
            "marker": {
             "colorbar": {
              "outlinewidth": 0,
              "ticks": ""
             }
            },
            "type": "scatterpolar"
           }
          ],
          "scatterpolargl": [
           {
            "marker": {
             "colorbar": {
              "outlinewidth": 0,
              "ticks": ""
             }
            },
            "type": "scatterpolargl"
           }
          ],
          "scatterternary": [
           {
            "marker": {
             "colorbar": {
              "outlinewidth": 0,
              "ticks": ""
             }
            },
            "type": "scatterternary"
           }
          ],
          "surface": [
           {
            "colorbar": {
             "outlinewidth": 0,
             "ticks": ""
            },
            "colorscale": [
             [
              0,
              "#0d0887"
             ],
             [
              0.1111111111111111,
              "#46039f"
             ],
             [
              0.2222222222222222,
              "#7201a8"
             ],
             [
              0.3333333333333333,
              "#9c179e"
             ],
             [
              0.4444444444444444,
              "#bd3786"
             ],
             [
              0.5555555555555556,
              "#d8576b"
             ],
             [
              0.6666666666666666,
              "#ed7953"
             ],
             [
              0.7777777777777778,
              "#fb9f3a"
             ],
             [
              0.8888888888888888,
              "#fdca26"
             ],
             [
              1,
              "#f0f921"
             ]
            ],
            "type": "surface"
           }
          ],
          "table": [
           {
            "cells": {
             "fill": {
              "color": "#EBF0F8"
             },
             "line": {
              "color": "white"
             }
            },
            "header": {
             "fill": {
              "color": "#C8D4E3"
             },
             "line": {
              "color": "white"
             }
            },
            "type": "table"
           }
          ]
         },
         "layout": {
          "annotationdefaults": {
           "arrowcolor": "#2a3f5f",
           "arrowhead": 0,
           "arrowwidth": 1
          },
          "autotypenumbers": "strict",
          "coloraxis": {
           "colorbar": {
            "outlinewidth": 0,
            "ticks": ""
           }
          },
          "colorscale": {
           "diverging": [
            [
             0,
             "#8e0152"
            ],
            [
             0.1,
             "#c51b7d"
            ],
            [
             0.2,
             "#de77ae"
            ],
            [
             0.3,
             "#f1b6da"
            ],
            [
             0.4,
             "#fde0ef"
            ],
            [
             0.5,
             "#f7f7f7"
            ],
            [
             0.6,
             "#e6f5d0"
            ],
            [
             0.7,
             "#b8e186"
            ],
            [
             0.8,
             "#7fbc41"
            ],
            [
             0.9,
             "#4d9221"
            ],
            [
             1,
             "#276419"
            ]
           ],
           "sequential": [
            [
             0,
             "#0d0887"
            ],
            [
             0.1111111111111111,
             "#46039f"
            ],
            [
             0.2222222222222222,
             "#7201a8"
            ],
            [
             0.3333333333333333,
             "#9c179e"
            ],
            [
             0.4444444444444444,
             "#bd3786"
            ],
            [
             0.5555555555555556,
             "#d8576b"
            ],
            [
             0.6666666666666666,
             "#ed7953"
            ],
            [
             0.7777777777777778,
             "#fb9f3a"
            ],
            [
             0.8888888888888888,
             "#fdca26"
            ],
            [
             1,
             "#f0f921"
            ]
           ],
           "sequentialminus": [
            [
             0,
             "#0d0887"
            ],
            [
             0.1111111111111111,
             "#46039f"
            ],
            [
             0.2222222222222222,
             "#7201a8"
            ],
            [
             0.3333333333333333,
             "#9c179e"
            ],
            [
             0.4444444444444444,
             "#bd3786"
            ],
            [
             0.5555555555555556,
             "#d8576b"
            ],
            [
             0.6666666666666666,
             "#ed7953"
            ],
            [
             0.7777777777777778,
             "#fb9f3a"
            ],
            [
             0.8888888888888888,
             "#fdca26"
            ],
            [
             1,
             "#f0f921"
            ]
           ]
          },
          "colorway": [
           "#636efa",
           "#EF553B",
           "#00cc96",
           "#ab63fa",
           "#FFA15A",
           "#19d3f3",
           "#FF6692",
           "#B6E880",
           "#FF97FF",
           "#FECB52"
          ],
          "font": {
           "color": "#2a3f5f"
          },
          "geo": {
           "bgcolor": "white",
           "lakecolor": "white",
           "landcolor": "#E5ECF6",
           "showlakes": true,
           "showland": true,
           "subunitcolor": "white"
          },
          "hoverlabel": {
           "align": "left"
          },
          "hovermode": "closest",
          "mapbox": {
           "style": "light"
          },
          "paper_bgcolor": "white",
          "plot_bgcolor": "#E5ECF6",
          "polar": {
           "angularaxis": {
            "gridcolor": "white",
            "linecolor": "white",
            "ticks": ""
           },
           "bgcolor": "#E5ECF6",
           "radialaxis": {
            "gridcolor": "white",
            "linecolor": "white",
            "ticks": ""
           }
          },
          "scene": {
           "xaxis": {
            "backgroundcolor": "#E5ECF6",
            "gridcolor": "white",
            "gridwidth": 2,
            "linecolor": "white",
            "showbackground": true,
            "ticks": "",
            "zerolinecolor": "white"
           },
           "yaxis": {
            "backgroundcolor": "#E5ECF6",
            "gridcolor": "white",
            "gridwidth": 2,
            "linecolor": "white",
            "showbackground": true,
            "ticks": "",
            "zerolinecolor": "white"
           },
           "zaxis": {
            "backgroundcolor": "#E5ECF6",
            "gridcolor": "white",
            "gridwidth": 2,
            "linecolor": "white",
            "showbackground": true,
            "ticks": "",
            "zerolinecolor": "white"
           }
          },
          "shapedefaults": {
           "line": {
            "color": "#2a3f5f"
           }
          },
          "ternary": {
           "aaxis": {
            "gridcolor": "white",
            "linecolor": "white",
            "ticks": ""
           },
           "baxis": {
            "gridcolor": "white",
            "linecolor": "white",
            "ticks": ""
           },
           "bgcolor": "#E5ECF6",
           "caxis": {
            "gridcolor": "white",
            "linecolor": "white",
            "ticks": ""
           }
          },
          "title": {
           "x": 0.05
          },
          "xaxis": {
           "automargin": true,
           "gridcolor": "white",
           "linecolor": "white",
           "ticks": "",
           "title": {
            "standoff": 15
           },
           "zerolinecolor": "white",
           "zerolinewidth": 2
          },
          "yaxis": {
           "automargin": true,
           "gridcolor": "white",
           "linecolor": "white",
           "ticks": "",
           "title": {
            "standoff": 15
           },
           "zerolinecolor": "white",
           "zerolinewidth": 2
          }
         }
        },
        "title": {
         "text": "Short Circuit at 50% of line"
        },
        "width": 1000,
        "xaxis": {
         "gridcolor": "black",
         "griddash": "dash",
         "minor": {
          "griddash": "dot"
         },
         "range": [
          0.49,
          0.51
         ],
         "title": {
          "text": "Type of Short Circuit"
         }
        },
        "yaxis": {
         "dtick": 0.001,
         "gridcolor": "blue",
         "griddash": "dash",
         "gridwidth": 1,
         "minor": {
          "griddash": "dot",
          "nticks": 5
         },
         "range": [
          0,
          0.023
         ],
         "showgrid": true,
         "tick0": 0.005,
         "tickmode": "linear",
         "title": {
          "text": "Value Absolute Error"
         }
        }
       }
      }
     },
     "metadata": {},
     "output_type": "display_data"
    }
   ],
   "source": [
    "fig = go.Figure()\n",
    "\n",
    "# Add traces\n",
    "fig.add_trace(go.Scatter(x=ValorZeroCinquenta['n'], y=ValorZeroCinquenta['Mean AE - AB'],\n",
    "                    mode='markers+lines',\n",
    "                    name='Mean AE - AB',\n",
    "                    marker=dict(\n",
    "                        size=30,\n",
    "                        line=dict(\n",
    "                            width=2\n",
    "                        )\n",
    "                    ),\n",
    "                    text=ValorZeroCinquenta['Mean AE - AB'],\n",
    "                    textposition=\"top center\"))\n",
    "fig.add_trace(go.Scatter(x=ValorZeroCinquenta['n'], y=ValorZeroCinquenta['Mean AE - AC'],\n",
    "                    mode='markers+lines',\n",
    "                    name='Mean AE - AC',\n",
    "                    marker=dict(\n",
    "                        size=25,\n",
    "                        line=dict(\n",
    "                            width=2\n",
    "                        )\n",
    "                    ),\n",
    "                    text=ValorZeroCinquenta['Mean AE - AC'],\n",
    "                    textposition=\"top center\"))\n",
    "fig.add_trace(go.Scatter(x=ValorZeroCinquenta['n'], y=ValorZeroCinquenta['Mean AE - BC'],\n",
    "                    mode='markers+lines',\n",
    "                    name='Mean AE - BC',\n",
    "                    marker=dict(\n",
    "                        size=20,\n",
    "                        line=dict(\n",
    "                            width=2\n",
    "                        )\n",
    "                    ),\n",
    "                    text=ValorZeroCinquenta['Mean AE - BC'],\n",
    "                    textposition=\"bottom center\"))\n",
    "fig.add_trace(go.Scatter(x=ValorZeroCinquenta['n'], y=ValorZeroCinquenta['Mean AE - TRIF'],\n",
    "                    mode='markers+lines',\n",
    "                    name='Mean AE - TRIF',\n",
    "                    marker=dict(\n",
    "                        size=15,\n",
    "                        line=dict(\n",
    "                            width=2\n",
    "                        )\n",
    "                    ),\n",
    "                    text=ValorZeroCinquenta['Mean AE - TRIF'],\n",
    "                    textposition=\"top center\"))\n",
    "fig.update_yaxes(showgrid=True, gridwidth=1, gridcolor='blue', griddash='dash', minor_griddash=\"dot\", minor_nticks=5, tickmode = 'linear', tick0 = 0.005,dtick = 0.001,)\n",
    "fig.update_xaxes(gridcolor='black', griddash='dash', minor_griddash=\"dot\",)\n",
    "fig.update_yaxes(range=[0, 0.023])\n",
    "fig.update_xaxes(range=[0.49, 0.51])\n",
    "fig.update_layout(\n",
    "    autosize=False,\n",
    "    width=1000,\n",
    "    height=1000,\n",
    "    margin=dict(\n",
    "        l=50,\n",
    "        r=50,\n",
    "        b=100,\n",
    "        t=100,\n",
    "        pad=4\n",
    "    ),\n",
    "    paper_bgcolor='LightSteelBlue',)\n",
    "fig.update_layout(\n",
    "    title=\"Short Circuit at 50% of line\",\n",
    "    xaxis_title=\"Type of Short Circuit\",\n",
    "    yaxis_title=\"Value Absolute Error\",\n",
    "    legend_title=\"Legend\",\n",
    "    font=dict(\n",
    "        family=\"Courier New, monospace\",\n",
    "        size=18,\n",
    "    )\n",
    ")\n",
    "fig.show()\n",
    "fig.write_image(\"images/ValorAE_3.png\")"
   ]
  },
  {
   "cell_type": "code",
   "execution_count": 12,
   "metadata": {},
   "outputs": [
    {
     "data": {
      "application/vnd.plotly.v1+json": {
       "config": {
        "plotlyServerURL": "https://plot.ly"
       },
       "data": [
        {
         "marker": {
          "line": {
           "width": 2
          },
          "size": 30
         },
         "mode": "markers+lines",
         "name": "Mean AE - AB",
         "text": [
          0.0060028666666668935
         ],
         "textposition": "top center",
         "type": "scatter",
         "x": [
          0.75
         ],
         "y": [
          0.0060028666666668935
         ]
        },
        {
         "marker": {
          "line": {
           "width": 2
          },
          "size": 25
         },
         "mode": "markers+lines",
         "name": "Mean AE - AC",
         "text": [
          0.005536366666670349
         ],
         "textposition": "top center",
         "type": "scatter",
         "x": [
          0.75
         ],
         "y": [
          0.005536366666670349
         ]
        },
        {
         "marker": {
          "line": {
           "width": 2
          },
          "size": 20
         },
         "mode": "markers+lines",
         "name": "Mean AE - BC",
         "text": [
          0.005602733333334493
         ],
         "textposition": "bottom center",
         "type": "scatter",
         "x": [
          0.75
         ],
         "y": [
          0.005602733333334493
         ]
        },
        {
         "marker": {
          "line": {
           "width": 2
          },
          "size": 15
         },
         "mode": "markers+lines",
         "name": "Mean AE - TRIF",
         "text": [
          0.013323333333332243
         ],
         "textposition": "top center",
         "type": "scatter",
         "x": [
          0.75
         ],
         "y": [
          0.013323333333332243
         ]
        }
       ],
       "layout": {
        "autosize": false,
        "font": {
         "family": "Courier New, monospace",
         "size": 18
        },
        "height": 1000,
        "legend": {
         "title": {
          "text": "Legend"
         }
        },
        "margin": {
         "b": 100,
         "l": 50,
         "pad": 4,
         "r": 50,
         "t": 100
        },
        "paper_bgcolor": "LightSteelBlue",
        "template": {
         "data": {
          "bar": [
           {
            "error_x": {
             "color": "#2a3f5f"
            },
            "error_y": {
             "color": "#2a3f5f"
            },
            "marker": {
             "line": {
              "color": "#E5ECF6",
              "width": 0.5
             },
             "pattern": {
              "fillmode": "overlay",
              "size": 10,
              "solidity": 0.2
             }
            },
            "type": "bar"
           }
          ],
          "barpolar": [
           {
            "marker": {
             "line": {
              "color": "#E5ECF6",
              "width": 0.5
             },
             "pattern": {
              "fillmode": "overlay",
              "size": 10,
              "solidity": 0.2
             }
            },
            "type": "barpolar"
           }
          ],
          "carpet": [
           {
            "aaxis": {
             "endlinecolor": "#2a3f5f",
             "gridcolor": "white",
             "linecolor": "white",
             "minorgridcolor": "white",
             "startlinecolor": "#2a3f5f"
            },
            "baxis": {
             "endlinecolor": "#2a3f5f",
             "gridcolor": "white",
             "linecolor": "white",
             "minorgridcolor": "white",
             "startlinecolor": "#2a3f5f"
            },
            "type": "carpet"
           }
          ],
          "choropleth": [
           {
            "colorbar": {
             "outlinewidth": 0,
             "ticks": ""
            },
            "type": "choropleth"
           }
          ],
          "contour": [
           {
            "colorbar": {
             "outlinewidth": 0,
             "ticks": ""
            },
            "colorscale": [
             [
              0,
              "#0d0887"
             ],
             [
              0.1111111111111111,
              "#46039f"
             ],
             [
              0.2222222222222222,
              "#7201a8"
             ],
             [
              0.3333333333333333,
              "#9c179e"
             ],
             [
              0.4444444444444444,
              "#bd3786"
             ],
             [
              0.5555555555555556,
              "#d8576b"
             ],
             [
              0.6666666666666666,
              "#ed7953"
             ],
             [
              0.7777777777777778,
              "#fb9f3a"
             ],
             [
              0.8888888888888888,
              "#fdca26"
             ],
             [
              1,
              "#f0f921"
             ]
            ],
            "type": "contour"
           }
          ],
          "contourcarpet": [
           {
            "colorbar": {
             "outlinewidth": 0,
             "ticks": ""
            },
            "type": "contourcarpet"
           }
          ],
          "heatmap": [
           {
            "colorbar": {
             "outlinewidth": 0,
             "ticks": ""
            },
            "colorscale": [
             [
              0,
              "#0d0887"
             ],
             [
              0.1111111111111111,
              "#46039f"
             ],
             [
              0.2222222222222222,
              "#7201a8"
             ],
             [
              0.3333333333333333,
              "#9c179e"
             ],
             [
              0.4444444444444444,
              "#bd3786"
             ],
             [
              0.5555555555555556,
              "#d8576b"
             ],
             [
              0.6666666666666666,
              "#ed7953"
             ],
             [
              0.7777777777777778,
              "#fb9f3a"
             ],
             [
              0.8888888888888888,
              "#fdca26"
             ],
             [
              1,
              "#f0f921"
             ]
            ],
            "type": "heatmap"
           }
          ],
          "heatmapgl": [
           {
            "colorbar": {
             "outlinewidth": 0,
             "ticks": ""
            },
            "colorscale": [
             [
              0,
              "#0d0887"
             ],
             [
              0.1111111111111111,
              "#46039f"
             ],
             [
              0.2222222222222222,
              "#7201a8"
             ],
             [
              0.3333333333333333,
              "#9c179e"
             ],
             [
              0.4444444444444444,
              "#bd3786"
             ],
             [
              0.5555555555555556,
              "#d8576b"
             ],
             [
              0.6666666666666666,
              "#ed7953"
             ],
             [
              0.7777777777777778,
              "#fb9f3a"
             ],
             [
              0.8888888888888888,
              "#fdca26"
             ],
             [
              1,
              "#f0f921"
             ]
            ],
            "type": "heatmapgl"
           }
          ],
          "histogram": [
           {
            "marker": {
             "pattern": {
              "fillmode": "overlay",
              "size": 10,
              "solidity": 0.2
             }
            },
            "type": "histogram"
           }
          ],
          "histogram2d": [
           {
            "colorbar": {
             "outlinewidth": 0,
             "ticks": ""
            },
            "colorscale": [
             [
              0,
              "#0d0887"
             ],
             [
              0.1111111111111111,
              "#46039f"
             ],
             [
              0.2222222222222222,
              "#7201a8"
             ],
             [
              0.3333333333333333,
              "#9c179e"
             ],
             [
              0.4444444444444444,
              "#bd3786"
             ],
             [
              0.5555555555555556,
              "#d8576b"
             ],
             [
              0.6666666666666666,
              "#ed7953"
             ],
             [
              0.7777777777777778,
              "#fb9f3a"
             ],
             [
              0.8888888888888888,
              "#fdca26"
             ],
             [
              1,
              "#f0f921"
             ]
            ],
            "type": "histogram2d"
           }
          ],
          "histogram2dcontour": [
           {
            "colorbar": {
             "outlinewidth": 0,
             "ticks": ""
            },
            "colorscale": [
             [
              0,
              "#0d0887"
             ],
             [
              0.1111111111111111,
              "#46039f"
             ],
             [
              0.2222222222222222,
              "#7201a8"
             ],
             [
              0.3333333333333333,
              "#9c179e"
             ],
             [
              0.4444444444444444,
              "#bd3786"
             ],
             [
              0.5555555555555556,
              "#d8576b"
             ],
             [
              0.6666666666666666,
              "#ed7953"
             ],
             [
              0.7777777777777778,
              "#fb9f3a"
             ],
             [
              0.8888888888888888,
              "#fdca26"
             ],
             [
              1,
              "#f0f921"
             ]
            ],
            "type": "histogram2dcontour"
           }
          ],
          "mesh3d": [
           {
            "colorbar": {
             "outlinewidth": 0,
             "ticks": ""
            },
            "type": "mesh3d"
           }
          ],
          "parcoords": [
           {
            "line": {
             "colorbar": {
              "outlinewidth": 0,
              "ticks": ""
             }
            },
            "type": "parcoords"
           }
          ],
          "pie": [
           {
            "automargin": true,
            "type": "pie"
           }
          ],
          "scatter": [
           {
            "fillpattern": {
             "fillmode": "overlay",
             "size": 10,
             "solidity": 0.2
            },
            "type": "scatter"
           }
          ],
          "scatter3d": [
           {
            "line": {
             "colorbar": {
              "outlinewidth": 0,
              "ticks": ""
             }
            },
            "marker": {
             "colorbar": {
              "outlinewidth": 0,
              "ticks": ""
             }
            },
            "type": "scatter3d"
           }
          ],
          "scattercarpet": [
           {
            "marker": {
             "colorbar": {
              "outlinewidth": 0,
              "ticks": ""
             }
            },
            "type": "scattercarpet"
           }
          ],
          "scattergeo": [
           {
            "marker": {
             "colorbar": {
              "outlinewidth": 0,
              "ticks": ""
             }
            },
            "type": "scattergeo"
           }
          ],
          "scattergl": [
           {
            "marker": {
             "colorbar": {
              "outlinewidth": 0,
              "ticks": ""
             }
            },
            "type": "scattergl"
           }
          ],
          "scattermapbox": [
           {
            "marker": {
             "colorbar": {
              "outlinewidth": 0,
              "ticks": ""
             }
            },
            "type": "scattermapbox"
           }
          ],
          "scatterpolar": [
           {
            "marker": {
             "colorbar": {
              "outlinewidth": 0,
              "ticks": ""
             }
            },
            "type": "scatterpolar"
           }
          ],
          "scatterpolargl": [
           {
            "marker": {
             "colorbar": {
              "outlinewidth": 0,
              "ticks": ""
             }
            },
            "type": "scatterpolargl"
           }
          ],
          "scatterternary": [
           {
            "marker": {
             "colorbar": {
              "outlinewidth": 0,
              "ticks": ""
             }
            },
            "type": "scatterternary"
           }
          ],
          "surface": [
           {
            "colorbar": {
             "outlinewidth": 0,
             "ticks": ""
            },
            "colorscale": [
             [
              0,
              "#0d0887"
             ],
             [
              0.1111111111111111,
              "#46039f"
             ],
             [
              0.2222222222222222,
              "#7201a8"
             ],
             [
              0.3333333333333333,
              "#9c179e"
             ],
             [
              0.4444444444444444,
              "#bd3786"
             ],
             [
              0.5555555555555556,
              "#d8576b"
             ],
             [
              0.6666666666666666,
              "#ed7953"
             ],
             [
              0.7777777777777778,
              "#fb9f3a"
             ],
             [
              0.8888888888888888,
              "#fdca26"
             ],
             [
              1,
              "#f0f921"
             ]
            ],
            "type": "surface"
           }
          ],
          "table": [
           {
            "cells": {
             "fill": {
              "color": "#EBF0F8"
             },
             "line": {
              "color": "white"
             }
            },
            "header": {
             "fill": {
              "color": "#C8D4E3"
             },
             "line": {
              "color": "white"
             }
            },
            "type": "table"
           }
          ]
         },
         "layout": {
          "annotationdefaults": {
           "arrowcolor": "#2a3f5f",
           "arrowhead": 0,
           "arrowwidth": 1
          },
          "autotypenumbers": "strict",
          "coloraxis": {
           "colorbar": {
            "outlinewidth": 0,
            "ticks": ""
           }
          },
          "colorscale": {
           "diverging": [
            [
             0,
             "#8e0152"
            ],
            [
             0.1,
             "#c51b7d"
            ],
            [
             0.2,
             "#de77ae"
            ],
            [
             0.3,
             "#f1b6da"
            ],
            [
             0.4,
             "#fde0ef"
            ],
            [
             0.5,
             "#f7f7f7"
            ],
            [
             0.6,
             "#e6f5d0"
            ],
            [
             0.7,
             "#b8e186"
            ],
            [
             0.8,
             "#7fbc41"
            ],
            [
             0.9,
             "#4d9221"
            ],
            [
             1,
             "#276419"
            ]
           ],
           "sequential": [
            [
             0,
             "#0d0887"
            ],
            [
             0.1111111111111111,
             "#46039f"
            ],
            [
             0.2222222222222222,
             "#7201a8"
            ],
            [
             0.3333333333333333,
             "#9c179e"
            ],
            [
             0.4444444444444444,
             "#bd3786"
            ],
            [
             0.5555555555555556,
             "#d8576b"
            ],
            [
             0.6666666666666666,
             "#ed7953"
            ],
            [
             0.7777777777777778,
             "#fb9f3a"
            ],
            [
             0.8888888888888888,
             "#fdca26"
            ],
            [
             1,
             "#f0f921"
            ]
           ],
           "sequentialminus": [
            [
             0,
             "#0d0887"
            ],
            [
             0.1111111111111111,
             "#46039f"
            ],
            [
             0.2222222222222222,
             "#7201a8"
            ],
            [
             0.3333333333333333,
             "#9c179e"
            ],
            [
             0.4444444444444444,
             "#bd3786"
            ],
            [
             0.5555555555555556,
             "#d8576b"
            ],
            [
             0.6666666666666666,
             "#ed7953"
            ],
            [
             0.7777777777777778,
             "#fb9f3a"
            ],
            [
             0.8888888888888888,
             "#fdca26"
            ],
            [
             1,
             "#f0f921"
            ]
           ]
          },
          "colorway": [
           "#636efa",
           "#EF553B",
           "#00cc96",
           "#ab63fa",
           "#FFA15A",
           "#19d3f3",
           "#FF6692",
           "#B6E880",
           "#FF97FF",
           "#FECB52"
          ],
          "font": {
           "color": "#2a3f5f"
          },
          "geo": {
           "bgcolor": "white",
           "lakecolor": "white",
           "landcolor": "#E5ECF6",
           "showlakes": true,
           "showland": true,
           "subunitcolor": "white"
          },
          "hoverlabel": {
           "align": "left"
          },
          "hovermode": "closest",
          "mapbox": {
           "style": "light"
          },
          "paper_bgcolor": "white",
          "plot_bgcolor": "#E5ECF6",
          "polar": {
           "angularaxis": {
            "gridcolor": "white",
            "linecolor": "white",
            "ticks": ""
           },
           "bgcolor": "#E5ECF6",
           "radialaxis": {
            "gridcolor": "white",
            "linecolor": "white",
            "ticks": ""
           }
          },
          "scene": {
           "xaxis": {
            "backgroundcolor": "#E5ECF6",
            "gridcolor": "white",
            "gridwidth": 2,
            "linecolor": "white",
            "showbackground": true,
            "ticks": "",
            "zerolinecolor": "white"
           },
           "yaxis": {
            "backgroundcolor": "#E5ECF6",
            "gridcolor": "white",
            "gridwidth": 2,
            "linecolor": "white",
            "showbackground": true,
            "ticks": "",
            "zerolinecolor": "white"
           },
           "zaxis": {
            "backgroundcolor": "#E5ECF6",
            "gridcolor": "white",
            "gridwidth": 2,
            "linecolor": "white",
            "showbackground": true,
            "ticks": "",
            "zerolinecolor": "white"
           }
          },
          "shapedefaults": {
           "line": {
            "color": "#2a3f5f"
           }
          },
          "ternary": {
           "aaxis": {
            "gridcolor": "white",
            "linecolor": "white",
            "ticks": ""
           },
           "baxis": {
            "gridcolor": "white",
            "linecolor": "white",
            "ticks": ""
           },
           "bgcolor": "#E5ECF6",
           "caxis": {
            "gridcolor": "white",
            "linecolor": "white",
            "ticks": ""
           }
          },
          "title": {
           "x": 0.05
          },
          "xaxis": {
           "automargin": true,
           "gridcolor": "white",
           "linecolor": "white",
           "ticks": "",
           "title": {
            "standoff": 15
           },
           "zerolinecolor": "white",
           "zerolinewidth": 2
          },
          "yaxis": {
           "automargin": true,
           "gridcolor": "white",
           "linecolor": "white",
           "ticks": "",
           "title": {
            "standoff": 15
           },
           "zerolinecolor": "white",
           "zerolinewidth": 2
          }
         }
        },
        "title": {
         "text": "Short Circuit at 75% of line"
        },
        "width": 1000,
        "xaxis": {
         "gridcolor": "black",
         "griddash": "dash",
         "minor": {
          "griddash": "dot"
         },
         "range": [
          0.74,
          0.76
         ],
         "title": {
          "text": "Type of Short Circuit"
         }
        },
        "yaxis": {
         "dtick": 0.001,
         "gridcolor": "blue",
         "griddash": "dash",
         "gridwidth": 1,
         "minor": {
          "griddash": "dot",
          "nticks": 5
         },
         "range": [
          0,
          0.015
         ],
         "showgrid": true,
         "tick0": 0.005,
         "tickmode": "linear",
         "title": {
          "text": "Value Absolute Error"
         }
        }
       }
      }
     },
     "metadata": {},
     "output_type": "display_data"
    }
   ],
   "source": [
    "fig = go.Figure()\n",
    "\n",
    "# Add traces\n",
    "fig.add_trace(go.Scatter(x=ValorZeroSetentaCinco['n'], y=ValorZeroSetentaCinco['Mean AE - AB'],\n",
    "                    mode='markers+lines',\n",
    "                    name='Mean AE - AB',\n",
    "                    marker=dict(\n",
    "                        size=30,\n",
    "                        line=dict(\n",
    "                            width=2\n",
    "                        )\n",
    "                    ),\n",
    "                    text=ValorZeroSetentaCinco['Mean AE - AB'],\n",
    "                    textposition=\"top center\"))\n",
    "fig.add_trace(go.Scatter(x=ValorZeroSetentaCinco['n'], y=ValorZeroSetentaCinco['Mean AE - AC'],\n",
    "                    mode='markers+lines',\n",
    "                    name='Mean AE - AC',\n",
    "                    marker=dict(\n",
    "                        size=25,\n",
    "                        line=dict(\n",
    "                            width=2\n",
    "                        )\n",
    "                    ),\n",
    "                    text=ValorZeroSetentaCinco['Mean AE - AC'],\n",
    "                    textposition=\"top center\"))\n",
    "fig.add_trace(go.Scatter(x=ValorZeroSetentaCinco['n'], y=ValorZeroSetentaCinco['Mean AE - BC'],\n",
    "                    mode='markers+lines',\n",
    "                    name='Mean AE - BC',\n",
    "                    marker=dict(\n",
    "                        size=20,\n",
    "                        line=dict(\n",
    "                            width=2\n",
    "                        )\n",
    "                    ),\n",
    "                    text=ValorZeroSetentaCinco['Mean AE - BC'],\n",
    "                    textposition=\"bottom center\"))\n",
    "fig.add_trace(go.Scatter(x=ValorZeroSetentaCinco['n'], y=ValorZeroSetentaCinco['Mean AE - TRIF'],\n",
    "                    mode='markers+lines',\n",
    "                    name='Mean AE - TRIF',\n",
    "                    marker=dict(\n",
    "                        size=15,\n",
    "                        line=dict(\n",
    "                            width=2\n",
    "                        )\n",
    "                    ),\n",
    "                    text=ValorZeroSetentaCinco['Mean AE - TRIF'],\n",
    "                    textposition=\"top center\"))\n",
    "fig.update_yaxes(showgrid=True, gridwidth=1, gridcolor='blue', griddash='dash', minor_griddash=\"dot\", minor_nticks=5, tickmode = 'linear', tick0 = 0.005,dtick = 0.001,)\n",
    "fig.update_xaxes(gridcolor='black', griddash='dash', minor_griddash=\"dot\")\n",
    "fig.update_yaxes(range=[0, 0.015])\n",
    "fig.update_xaxes(range=[0.74, 0.76])\n",
    "fig.update_layout(\n",
    "    autosize=False,\n",
    "    width=1000,\n",
    "    height=1000,\n",
    "    margin=dict(\n",
    "        l=50,\n",
    "        r=50,\n",
    "        b=100,\n",
    "        t=100,\n",
    "        pad=4\n",
    "    ),\n",
    "    paper_bgcolor='LightSteelBlue',)\n",
    "fig.update_layout(\n",
    "    title=\"Short Circuit at 75% of line\",\n",
    "    xaxis_title=\"Type of Short Circuit\",\n",
    "    yaxis_title=\"Value Absolute Error\",\n",
    "    legend_title=\"Legend\",\n",
    "    font=dict(\n",
    "        family=\"Courier New, monospace\",\n",
    "        size=18,\n",
    "    )\n",
    ")\n",
    "fig.show()\n",
    "fig.write_image(\"images/ValorAE_4.png\")"
   ]
  },
  {
   "cell_type": "code",
   "execution_count": 13,
   "metadata": {},
   "outputs": [
    {
     "data": {
      "application/vnd.plotly.v1+json": {
       "config": {
        "plotlyServerURL": "https://plot.ly"
       },
       "data": [
        {
         "marker": {
          "line": {
           "width": 2
          },
          "size": 30
         },
         "mode": "markers+lines",
         "name": "Mean AE - AB",
         "text": [
          0.004136200000004578
         ],
         "textposition": "top center",
         "type": "scatter",
         "x": [
          0.99
         ],
         "y": [
          0.004136200000004578
         ]
        },
        {
         "marker": {
          "line": {
           "width": 2
          },
          "size": 25
         },
         "mode": "markers+lines",
         "name": "Mean AE - AC",
         "text": [
          0.004569766666666682
         ],
         "textposition": "top center",
         "type": "scatter",
         "x": [
          0.99
         ],
         "y": [
          0.004569766666666682
         ]
        },
        {
         "marker": {
          "line": {
           "width": 2
          },
          "size": 20
         },
         "mode": "markers+lines",
         "name": "Mean AE - BC",
         "text": [
          0.004535966666665575
         ],
         "textposition": "bottom center",
         "type": "scatter",
         "x": [
          0.99
         ],
         "y": [
          0.004535966666665575
         ]
        },
        {
         "marker": {
          "line": {
           "width": 2
          },
          "size": 15
         },
         "mode": "markers+lines",
         "name": "Mean AE - TRIF",
         "text": [
          0.009300000000005562
         ],
         "textposition": "top center",
         "type": "scatter",
         "x": [
          0.99
         ],
         "y": [
          0.009300000000005562
         ]
        }
       ],
       "layout": {
        "autosize": false,
        "font": {
         "family": "Courier New, monospace",
         "size": 18
        },
        "height": 1000,
        "legend": {
         "title": {
          "text": "Legend"
         }
        },
        "margin": {
         "b": 100,
         "l": 50,
         "pad": 4,
         "r": 50,
         "t": 100
        },
        "paper_bgcolor": "LightSteelBlue",
        "template": {
         "data": {
          "bar": [
           {
            "error_x": {
             "color": "#2a3f5f"
            },
            "error_y": {
             "color": "#2a3f5f"
            },
            "marker": {
             "line": {
              "color": "#E5ECF6",
              "width": 0.5
             },
             "pattern": {
              "fillmode": "overlay",
              "size": 10,
              "solidity": 0.2
             }
            },
            "type": "bar"
           }
          ],
          "barpolar": [
           {
            "marker": {
             "line": {
              "color": "#E5ECF6",
              "width": 0.5
             },
             "pattern": {
              "fillmode": "overlay",
              "size": 10,
              "solidity": 0.2
             }
            },
            "type": "barpolar"
           }
          ],
          "carpet": [
           {
            "aaxis": {
             "endlinecolor": "#2a3f5f",
             "gridcolor": "white",
             "linecolor": "white",
             "minorgridcolor": "white",
             "startlinecolor": "#2a3f5f"
            },
            "baxis": {
             "endlinecolor": "#2a3f5f",
             "gridcolor": "white",
             "linecolor": "white",
             "minorgridcolor": "white",
             "startlinecolor": "#2a3f5f"
            },
            "type": "carpet"
           }
          ],
          "choropleth": [
           {
            "colorbar": {
             "outlinewidth": 0,
             "ticks": ""
            },
            "type": "choropleth"
           }
          ],
          "contour": [
           {
            "colorbar": {
             "outlinewidth": 0,
             "ticks": ""
            },
            "colorscale": [
             [
              0,
              "#0d0887"
             ],
             [
              0.1111111111111111,
              "#46039f"
             ],
             [
              0.2222222222222222,
              "#7201a8"
             ],
             [
              0.3333333333333333,
              "#9c179e"
             ],
             [
              0.4444444444444444,
              "#bd3786"
             ],
             [
              0.5555555555555556,
              "#d8576b"
             ],
             [
              0.6666666666666666,
              "#ed7953"
             ],
             [
              0.7777777777777778,
              "#fb9f3a"
             ],
             [
              0.8888888888888888,
              "#fdca26"
             ],
             [
              1,
              "#f0f921"
             ]
            ],
            "type": "contour"
           }
          ],
          "contourcarpet": [
           {
            "colorbar": {
             "outlinewidth": 0,
             "ticks": ""
            },
            "type": "contourcarpet"
           }
          ],
          "heatmap": [
           {
            "colorbar": {
             "outlinewidth": 0,
             "ticks": ""
            },
            "colorscale": [
             [
              0,
              "#0d0887"
             ],
             [
              0.1111111111111111,
              "#46039f"
             ],
             [
              0.2222222222222222,
              "#7201a8"
             ],
             [
              0.3333333333333333,
              "#9c179e"
             ],
             [
              0.4444444444444444,
              "#bd3786"
             ],
             [
              0.5555555555555556,
              "#d8576b"
             ],
             [
              0.6666666666666666,
              "#ed7953"
             ],
             [
              0.7777777777777778,
              "#fb9f3a"
             ],
             [
              0.8888888888888888,
              "#fdca26"
             ],
             [
              1,
              "#f0f921"
             ]
            ],
            "type": "heatmap"
           }
          ],
          "heatmapgl": [
           {
            "colorbar": {
             "outlinewidth": 0,
             "ticks": ""
            },
            "colorscale": [
             [
              0,
              "#0d0887"
             ],
             [
              0.1111111111111111,
              "#46039f"
             ],
             [
              0.2222222222222222,
              "#7201a8"
             ],
             [
              0.3333333333333333,
              "#9c179e"
             ],
             [
              0.4444444444444444,
              "#bd3786"
             ],
             [
              0.5555555555555556,
              "#d8576b"
             ],
             [
              0.6666666666666666,
              "#ed7953"
             ],
             [
              0.7777777777777778,
              "#fb9f3a"
             ],
             [
              0.8888888888888888,
              "#fdca26"
             ],
             [
              1,
              "#f0f921"
             ]
            ],
            "type": "heatmapgl"
           }
          ],
          "histogram": [
           {
            "marker": {
             "pattern": {
              "fillmode": "overlay",
              "size": 10,
              "solidity": 0.2
             }
            },
            "type": "histogram"
           }
          ],
          "histogram2d": [
           {
            "colorbar": {
             "outlinewidth": 0,
             "ticks": ""
            },
            "colorscale": [
             [
              0,
              "#0d0887"
             ],
             [
              0.1111111111111111,
              "#46039f"
             ],
             [
              0.2222222222222222,
              "#7201a8"
             ],
             [
              0.3333333333333333,
              "#9c179e"
             ],
             [
              0.4444444444444444,
              "#bd3786"
             ],
             [
              0.5555555555555556,
              "#d8576b"
             ],
             [
              0.6666666666666666,
              "#ed7953"
             ],
             [
              0.7777777777777778,
              "#fb9f3a"
             ],
             [
              0.8888888888888888,
              "#fdca26"
             ],
             [
              1,
              "#f0f921"
             ]
            ],
            "type": "histogram2d"
           }
          ],
          "histogram2dcontour": [
           {
            "colorbar": {
             "outlinewidth": 0,
             "ticks": ""
            },
            "colorscale": [
             [
              0,
              "#0d0887"
             ],
             [
              0.1111111111111111,
              "#46039f"
             ],
             [
              0.2222222222222222,
              "#7201a8"
             ],
             [
              0.3333333333333333,
              "#9c179e"
             ],
             [
              0.4444444444444444,
              "#bd3786"
             ],
             [
              0.5555555555555556,
              "#d8576b"
             ],
             [
              0.6666666666666666,
              "#ed7953"
             ],
             [
              0.7777777777777778,
              "#fb9f3a"
             ],
             [
              0.8888888888888888,
              "#fdca26"
             ],
             [
              1,
              "#f0f921"
             ]
            ],
            "type": "histogram2dcontour"
           }
          ],
          "mesh3d": [
           {
            "colorbar": {
             "outlinewidth": 0,
             "ticks": ""
            },
            "type": "mesh3d"
           }
          ],
          "parcoords": [
           {
            "line": {
             "colorbar": {
              "outlinewidth": 0,
              "ticks": ""
             }
            },
            "type": "parcoords"
           }
          ],
          "pie": [
           {
            "automargin": true,
            "type": "pie"
           }
          ],
          "scatter": [
           {
            "fillpattern": {
             "fillmode": "overlay",
             "size": 10,
             "solidity": 0.2
            },
            "type": "scatter"
           }
          ],
          "scatter3d": [
           {
            "line": {
             "colorbar": {
              "outlinewidth": 0,
              "ticks": ""
             }
            },
            "marker": {
             "colorbar": {
              "outlinewidth": 0,
              "ticks": ""
             }
            },
            "type": "scatter3d"
           }
          ],
          "scattercarpet": [
           {
            "marker": {
             "colorbar": {
              "outlinewidth": 0,
              "ticks": ""
             }
            },
            "type": "scattercarpet"
           }
          ],
          "scattergeo": [
           {
            "marker": {
             "colorbar": {
              "outlinewidth": 0,
              "ticks": ""
             }
            },
            "type": "scattergeo"
           }
          ],
          "scattergl": [
           {
            "marker": {
             "colorbar": {
              "outlinewidth": 0,
              "ticks": ""
             }
            },
            "type": "scattergl"
           }
          ],
          "scattermapbox": [
           {
            "marker": {
             "colorbar": {
              "outlinewidth": 0,
              "ticks": ""
             }
            },
            "type": "scattermapbox"
           }
          ],
          "scatterpolar": [
           {
            "marker": {
             "colorbar": {
              "outlinewidth": 0,
              "ticks": ""
             }
            },
            "type": "scatterpolar"
           }
          ],
          "scatterpolargl": [
           {
            "marker": {
             "colorbar": {
              "outlinewidth": 0,
              "ticks": ""
             }
            },
            "type": "scatterpolargl"
           }
          ],
          "scatterternary": [
           {
            "marker": {
             "colorbar": {
              "outlinewidth": 0,
              "ticks": ""
             }
            },
            "type": "scatterternary"
           }
          ],
          "surface": [
           {
            "colorbar": {
             "outlinewidth": 0,
             "ticks": ""
            },
            "colorscale": [
             [
              0,
              "#0d0887"
             ],
             [
              0.1111111111111111,
              "#46039f"
             ],
             [
              0.2222222222222222,
              "#7201a8"
             ],
             [
              0.3333333333333333,
              "#9c179e"
             ],
             [
              0.4444444444444444,
              "#bd3786"
             ],
             [
              0.5555555555555556,
              "#d8576b"
             ],
             [
              0.6666666666666666,
              "#ed7953"
             ],
             [
              0.7777777777777778,
              "#fb9f3a"
             ],
             [
              0.8888888888888888,
              "#fdca26"
             ],
             [
              1,
              "#f0f921"
             ]
            ],
            "type": "surface"
           }
          ],
          "table": [
           {
            "cells": {
             "fill": {
              "color": "#EBF0F8"
             },
             "line": {
              "color": "white"
             }
            },
            "header": {
             "fill": {
              "color": "#C8D4E3"
             },
             "line": {
              "color": "white"
             }
            },
            "type": "table"
           }
          ]
         },
         "layout": {
          "annotationdefaults": {
           "arrowcolor": "#2a3f5f",
           "arrowhead": 0,
           "arrowwidth": 1
          },
          "autotypenumbers": "strict",
          "coloraxis": {
           "colorbar": {
            "outlinewidth": 0,
            "ticks": ""
           }
          },
          "colorscale": {
           "diverging": [
            [
             0,
             "#8e0152"
            ],
            [
             0.1,
             "#c51b7d"
            ],
            [
             0.2,
             "#de77ae"
            ],
            [
             0.3,
             "#f1b6da"
            ],
            [
             0.4,
             "#fde0ef"
            ],
            [
             0.5,
             "#f7f7f7"
            ],
            [
             0.6,
             "#e6f5d0"
            ],
            [
             0.7,
             "#b8e186"
            ],
            [
             0.8,
             "#7fbc41"
            ],
            [
             0.9,
             "#4d9221"
            ],
            [
             1,
             "#276419"
            ]
           ],
           "sequential": [
            [
             0,
             "#0d0887"
            ],
            [
             0.1111111111111111,
             "#46039f"
            ],
            [
             0.2222222222222222,
             "#7201a8"
            ],
            [
             0.3333333333333333,
             "#9c179e"
            ],
            [
             0.4444444444444444,
             "#bd3786"
            ],
            [
             0.5555555555555556,
             "#d8576b"
            ],
            [
             0.6666666666666666,
             "#ed7953"
            ],
            [
             0.7777777777777778,
             "#fb9f3a"
            ],
            [
             0.8888888888888888,
             "#fdca26"
            ],
            [
             1,
             "#f0f921"
            ]
           ],
           "sequentialminus": [
            [
             0,
             "#0d0887"
            ],
            [
             0.1111111111111111,
             "#46039f"
            ],
            [
             0.2222222222222222,
             "#7201a8"
            ],
            [
             0.3333333333333333,
             "#9c179e"
            ],
            [
             0.4444444444444444,
             "#bd3786"
            ],
            [
             0.5555555555555556,
             "#d8576b"
            ],
            [
             0.6666666666666666,
             "#ed7953"
            ],
            [
             0.7777777777777778,
             "#fb9f3a"
            ],
            [
             0.8888888888888888,
             "#fdca26"
            ],
            [
             1,
             "#f0f921"
            ]
           ]
          },
          "colorway": [
           "#636efa",
           "#EF553B",
           "#00cc96",
           "#ab63fa",
           "#FFA15A",
           "#19d3f3",
           "#FF6692",
           "#B6E880",
           "#FF97FF",
           "#FECB52"
          ],
          "font": {
           "color": "#2a3f5f"
          },
          "geo": {
           "bgcolor": "white",
           "lakecolor": "white",
           "landcolor": "#E5ECF6",
           "showlakes": true,
           "showland": true,
           "subunitcolor": "white"
          },
          "hoverlabel": {
           "align": "left"
          },
          "hovermode": "closest",
          "mapbox": {
           "style": "light"
          },
          "paper_bgcolor": "white",
          "plot_bgcolor": "#E5ECF6",
          "polar": {
           "angularaxis": {
            "gridcolor": "white",
            "linecolor": "white",
            "ticks": ""
           },
           "bgcolor": "#E5ECF6",
           "radialaxis": {
            "gridcolor": "white",
            "linecolor": "white",
            "ticks": ""
           }
          },
          "scene": {
           "xaxis": {
            "backgroundcolor": "#E5ECF6",
            "gridcolor": "white",
            "gridwidth": 2,
            "linecolor": "white",
            "showbackground": true,
            "ticks": "",
            "zerolinecolor": "white"
           },
           "yaxis": {
            "backgroundcolor": "#E5ECF6",
            "gridcolor": "white",
            "gridwidth": 2,
            "linecolor": "white",
            "showbackground": true,
            "ticks": "",
            "zerolinecolor": "white"
           },
           "zaxis": {
            "backgroundcolor": "#E5ECF6",
            "gridcolor": "white",
            "gridwidth": 2,
            "linecolor": "white",
            "showbackground": true,
            "ticks": "",
            "zerolinecolor": "white"
           }
          },
          "shapedefaults": {
           "line": {
            "color": "#2a3f5f"
           }
          },
          "ternary": {
           "aaxis": {
            "gridcolor": "white",
            "linecolor": "white",
            "ticks": ""
           },
           "baxis": {
            "gridcolor": "white",
            "linecolor": "white",
            "ticks": ""
           },
           "bgcolor": "#E5ECF6",
           "caxis": {
            "gridcolor": "white",
            "linecolor": "white",
            "ticks": ""
           }
          },
          "title": {
           "x": 0.05
          },
          "xaxis": {
           "automargin": true,
           "gridcolor": "white",
           "linecolor": "white",
           "ticks": "",
           "title": {
            "standoff": 15
           },
           "zerolinecolor": "white",
           "zerolinewidth": 2
          },
          "yaxis": {
           "automargin": true,
           "gridcolor": "white",
           "linecolor": "white",
           "ticks": "",
           "title": {
            "standoff": 15
           },
           "zerolinecolor": "white",
           "zerolinewidth": 2
          }
         }
        },
        "title": {
         "text": "Short Circuit at 99% of line"
        },
        "width": 1000,
        "xaxis": {
         "gridcolor": "black",
         "griddash": "dash",
         "minor": {
          "griddash": "dot"
         },
         "range": [
          0.98,
          1
         ],
         "title": {
          "text": "Type of Short Circuit"
         }
        },
        "yaxis": {
         "dtick": 0.001,
         "gridcolor": "blue",
         "griddash": "dash",
         "gridwidth": 1,
         "minor": {
          "griddash": "dot",
          "nticks": 5
         },
         "range": [
          0,
          0.01
         ],
         "showgrid": true,
         "tick0": 0.005,
         "tickmode": "linear",
         "title": {
          "text": "Value Absolute Error"
         }
        }
       }
      }
     },
     "metadata": {},
     "output_type": "display_data"
    }
   ],
   "source": [
    "fig = go.Figure()\n",
    "\n",
    "# Add traces\n",
    "fig.add_trace(go.Scatter(x=ValorZeroNoveNove['n'], y=ValorZeroNoveNove['Mean AE - AB'],\n",
    "                    mode='markers+lines',\n",
    "                    name='Mean AE - AB',\n",
    "                    marker=dict(\n",
    "                        size=30,\n",
    "                        line=dict(\n",
    "                            width=2\n",
    "                        )\n",
    "                    ),\n",
    "                    text=ValorZeroNoveNove['Mean AE - AB'],\n",
    "                    textposition=\"top center\"))\n",
    "fig.add_trace(go.Scatter(x=ValorZeroNoveNove['n'], y=ValorZeroNoveNove['Mean AE - AC'],\n",
    "                    mode='markers+lines',\n",
    "                    name='Mean AE - AC',\n",
    "                    marker=dict(\n",
    "                        size=25,\n",
    "                        line=dict(\n",
    "                            width=2\n",
    "                        )\n",
    "                    ),\n",
    "                    text=ValorZeroNoveNove['Mean AE - AC'],\n",
    "                    textposition=\"top center\"))\n",
    "fig.add_trace(go.Scatter(x=ValorZeroNoveNove['n'], y=ValorZeroNoveNove['Mean AE - BC'],\n",
    "                    mode='markers+lines',\n",
    "                    name='Mean AE - BC',\n",
    "                    marker=dict(\n",
    "                        size=20,\n",
    "                        line=dict(\n",
    "                            width=2\n",
    "                        )\n",
    "                    ),\n",
    "                    text=ValorZeroNoveNove['Mean AE - BC'],\n",
    "                    textposition=\"bottom center\"))\n",
    "fig.add_trace(go.Scatter(x=ValorZeroNoveNove['n'], y=ValorZeroNoveNove['Mean AE - TRIF'],\n",
    "                    mode='markers+lines',\n",
    "                    name='Mean AE - TRIF',\n",
    "                    marker=dict(\n",
    "                        size=15,\n",
    "                        line=dict(\n",
    "                            width=2\n",
    "                        )\n",
    "                    ),\n",
    "                    text=ValorZeroNoveNove['Mean AE - TRIF'],\n",
    "                    textposition=\"top center\"))\n",
    "fig.update_yaxes(showgrid=True, gridwidth=1, gridcolor='blue', griddash='dash', minor_griddash=\"dot\", minor_nticks=5, tickmode = 'linear', tick0 = 0.005,dtick = 0.001,)\n",
    "fig.update_xaxes(gridcolor='black', griddash='dash', minor_griddash=\"dot\")\n",
    "fig.update_yaxes(range=[0, 0.01])\n",
    "fig.update_xaxes(range=[0.98, 1])\n",
    "fig.update_layout(\n",
    "    autosize=False,\n",
    "    width=1000,\n",
    "    height=1000,\n",
    "    margin=dict(\n",
    "        l=50,\n",
    "        r=50,\n",
    "        b=100,\n",
    "        t=100,\n",
    "        pad=4\n",
    "    ),\n",
    "    paper_bgcolor='LightSteelBlue',)\n",
    "fig.update_layout(\n",
    "    title=\"Short Circuit at 99% of line\",\n",
    "    xaxis_title=\"Type of Short Circuit\",\n",
    "    yaxis_title=\"Value Absolute Error\",\n",
    "    legend_title=\"Legend\",\n",
    "    font=dict(\n",
    "        family=\"Courier New, monospace\",\n",
    "        size=18,\n",
    "    )\n",
    ")\n",
    "fig.show()\n",
    "fig.write_image(\"images/ValorAE_5.png\")"
   ]
  },
  {
   "cell_type": "code",
   "execution_count": 14,
   "metadata": {},
   "outputs": [
    {
     "data": {
      "text/html": [
       "<div>\n",
       "<style scoped>\n",
       "    .dataframe tbody tr th:only-of-type {\n",
       "        vertical-align: middle;\n",
       "    }\n",
       "\n",
       "    .dataframe tbody tr th {\n",
       "        vertical-align: top;\n",
       "    }\n",
       "\n",
       "    .dataframe thead th {\n",
       "        text-align: right;\n",
       "    }\n",
       "</style>\n",
       "<table border=\"1\" class=\"dataframe\">\n",
       "  <thead>\n",
       "    <tr style=\"text-align: right;\">\n",
       "      <th></th>\n",
       "      <th>tipoCurto</th>\n",
       "      <th>IA_Sim</th>\n",
       "      <th>IB_Sim</th>\n",
       "      <th>IC_Sim</th>\n",
       "      <th>IA_Calc</th>\n",
       "      <th>IB_Calc</th>\n",
       "      <th>IC_Calc</th>\n",
       "      <th>Erro_IA</th>\n",
       "      <th>Erro_IB</th>\n",
       "      <th>Erro_IC</th>\n",
       "      <th>AE IA</th>\n",
       "      <th>AE IB</th>\n",
       "      <th>AE IC</th>\n",
       "      <th>SE IA</th>\n",
       "      <th>SE IB</th>\n",
       "      <th>SE IC</th>\n",
       "    </tr>\n",
       "  </thead>\n",
       "  <tbody>\n",
       "    <tr>\n",
       "      <th>0</th>\n",
       "      <td>ABC</td>\n",
       "      <td>88.896600</td>\n",
       "      <td>81.472800</td>\n",
       "      <td>74.607200</td>\n",
       "      <td>88.906900</td>\n",
       "      <td>81.483000</td>\n",
       "      <td>74.61420</td>\n",
       "      <td>-0.000116</td>\n",
       "      <td>-0.000125</td>\n",
       "      <td>-0.000094</td>\n",
       "      <td>0.010300</td>\n",
       "      <td>0.010200</td>\n",
       "      <td>0.007000</td>\n",
       "      <td>5.304500e-05</td>\n",
       "      <td>5.202000e-05</td>\n",
       "      <td>2.450000e-05</td>\n",
       "    </tr>\n",
       "    <tr>\n",
       "      <th>1</th>\n",
       "      <td>AC</td>\n",
       "      <td>67.324800</td>\n",
       "      <td>0.011468</td>\n",
       "      <td>67.330000</td>\n",
       "      <td>67.331600</td>\n",
       "      <td>0.011459</td>\n",
       "      <td>67.33680</td>\n",
       "      <td>-0.000101</td>\n",
       "      <td>0.000812</td>\n",
       "      <td>-0.000101</td>\n",
       "      <td>0.006800</td>\n",
       "      <td>0.000009</td>\n",
       "      <td>0.006800</td>\n",
       "      <td>2.312000e-05</td>\n",
       "      <td>4.324500e-11</td>\n",
       "      <td>2.312000e-05</td>\n",
       "    </tr>\n",
       "    <tr>\n",
       "      <th>2</th>\n",
       "      <td>BC</td>\n",
       "      <td>0.012511</td>\n",
       "      <td>67.331000</td>\n",
       "      <td>67.323800</td>\n",
       "      <td>0.012503</td>\n",
       "      <td>67.337800</td>\n",
       "      <td>67.33060</td>\n",
       "      <td>0.000640</td>\n",
       "      <td>-0.000101</td>\n",
       "      <td>-0.000101</td>\n",
       "      <td>0.000008</td>\n",
       "      <td>0.006800</td>\n",
       "      <td>0.006800</td>\n",
       "      <td>3.200000e-11</td>\n",
       "      <td>2.312000e-05</td>\n",
       "      <td>2.312000e-05</td>\n",
       "    </tr>\n",
       "    <tr>\n",
       "      <th>3</th>\n",
       "      <td>AB</td>\n",
       "      <td>64.635800</td>\n",
       "      <td>64.629900</td>\n",
       "      <td>0.011959</td>\n",
       "      <td>64.641900</td>\n",
       "      <td>64.635900</td>\n",
       "      <td>0.01195</td>\n",
       "      <td>-0.000094</td>\n",
       "      <td>-0.000093</td>\n",
       "      <td>0.000720</td>\n",
       "      <td>0.006100</td>\n",
       "      <td>0.006000</td>\n",
       "      <td>0.000009</td>\n",
       "      <td>1.860500e-05</td>\n",
       "      <td>1.800000e-05</td>\n",
       "      <td>3.698000e-11</td>\n",
       "    </tr>\n",
       "  </tbody>\n",
       "</table>\n",
       "</div>"
      ],
      "text/plain": [
       "  tipoCurto     IA_Sim     IB_Sim     IC_Sim    IA_Calc    IB_Calc   IC_Calc  \\\n",
       "0       ABC  88.896600  81.472800  74.607200  88.906900  81.483000  74.61420   \n",
       "1        AC  67.324800   0.011468  67.330000  67.331600   0.011459  67.33680   \n",
       "2        BC   0.012511  67.331000  67.323800   0.012503  67.337800  67.33060   \n",
       "3        AB  64.635800  64.629900   0.011959  64.641900  64.635900   0.01195   \n",
       "\n",
       "    Erro_IA   Erro_IB   Erro_IC     AE IA     AE IB     AE IC         SE IA  \\\n",
       "0 -0.000116 -0.000125 -0.000094  0.010300  0.010200  0.007000  5.304500e-05   \n",
       "1 -0.000101  0.000812 -0.000101  0.006800  0.000009  0.006800  2.312000e-05   \n",
       "2  0.000640 -0.000101 -0.000101  0.000008  0.006800  0.006800  3.200000e-11   \n",
       "3 -0.000094 -0.000093  0.000720  0.006100  0.006000  0.000009  1.860500e-05   \n",
       "\n",
       "          SE IB         SE IC  \n",
       "0  5.202000e-05  2.450000e-05  \n",
       "1  4.324500e-11  2.312000e-05  \n",
       "2  2.312000e-05  2.312000e-05  \n",
       "3  1.800000e-05  3.698000e-11  "
      ]
     },
     "execution_count": 14,
     "metadata": {},
     "output_type": "execute_result"
    }
   ],
   "source": [
    "FimDeLinhaSemComp"
   ]
  },
  {
   "cell_type": "code",
   "execution_count": 15,
   "metadata": {},
   "outputs": [
    {
     "data": {
      "application/vnd.plotly.v1+json": {
       "config": {
        "plotlyServerURL": "https://plot.ly"
       },
       "data": [
        {
         "marker": {
          "line": {
           "width": 2
          },
          "size": 25
         },
         "mode": "markers",
         "name": "AE IA",
         "text": [
          0.004136200000004578
         ],
         "textposition": "top center",
         "type": "scatter",
         "x": [
          "ABC",
          "AC",
          "BC",
          "AB"
         ],
         "y": [
          0.010299999999986653,
          0.006799999999998363,
          0.000007999999999999327,
          0.006100000000003547
         ]
        },
        {
         "marker": {
          "line": {
           "width": 2
          },
          "size": 20
         },
         "mode": "markers",
         "name": "AE IB",
         "text": [
          0.004569766666666682
         ],
         "textposition": "top center",
         "type": "scatter",
         "x": [
          "ABC",
          "AC",
          "BC",
          "AB"
         ],
         "y": [
          0.010199999999997544,
          0.00000930000000000028,
          0.006799999999998363,
          0.006000000000000227
         ]
        },
        {
         "marker": {
          "line": {
           "width": 2
          },
          "size": 15
         },
         "mode": "markers",
         "name": "AE IC",
         "text": [
          0.004535966666665575
         ],
         "textposition": "bottom center",
         "type": "scatter",
         "x": [
          "ABC",
          "AC",
          "BC",
          "AB"
         ],
         "y": [
          0.006999999999990791,
          0.006799999999998363,
          0.006799999999998363,
          0.000008600000000000968
         ]
        }
       ],
       "layout": {
        "autosize": false,
        "font": {
         "family": "Courier New, monospace",
         "size": 18
        },
        "height": 1000,
        "legend": {
         "title": {
          "text": "Legend"
         }
        },
        "margin": {
         "b": 100,
         "l": 50,
         "pad": 4,
         "r": 50,
         "t": 100
        },
        "paper_bgcolor": "LightSteelBlue",
        "template": {
         "data": {
          "bar": [
           {
            "error_x": {
             "color": "#2a3f5f"
            },
            "error_y": {
             "color": "#2a3f5f"
            },
            "marker": {
             "line": {
              "color": "#E5ECF6",
              "width": 0.5
             },
             "pattern": {
              "fillmode": "overlay",
              "size": 10,
              "solidity": 0.2
             }
            },
            "type": "bar"
           }
          ],
          "barpolar": [
           {
            "marker": {
             "line": {
              "color": "#E5ECF6",
              "width": 0.5
             },
             "pattern": {
              "fillmode": "overlay",
              "size": 10,
              "solidity": 0.2
             }
            },
            "type": "barpolar"
           }
          ],
          "carpet": [
           {
            "aaxis": {
             "endlinecolor": "#2a3f5f",
             "gridcolor": "white",
             "linecolor": "white",
             "minorgridcolor": "white",
             "startlinecolor": "#2a3f5f"
            },
            "baxis": {
             "endlinecolor": "#2a3f5f",
             "gridcolor": "white",
             "linecolor": "white",
             "minorgridcolor": "white",
             "startlinecolor": "#2a3f5f"
            },
            "type": "carpet"
           }
          ],
          "choropleth": [
           {
            "colorbar": {
             "outlinewidth": 0,
             "ticks": ""
            },
            "type": "choropleth"
           }
          ],
          "contour": [
           {
            "colorbar": {
             "outlinewidth": 0,
             "ticks": ""
            },
            "colorscale": [
             [
              0,
              "#0d0887"
             ],
             [
              0.1111111111111111,
              "#46039f"
             ],
             [
              0.2222222222222222,
              "#7201a8"
             ],
             [
              0.3333333333333333,
              "#9c179e"
             ],
             [
              0.4444444444444444,
              "#bd3786"
             ],
             [
              0.5555555555555556,
              "#d8576b"
             ],
             [
              0.6666666666666666,
              "#ed7953"
             ],
             [
              0.7777777777777778,
              "#fb9f3a"
             ],
             [
              0.8888888888888888,
              "#fdca26"
             ],
             [
              1,
              "#f0f921"
             ]
            ],
            "type": "contour"
           }
          ],
          "contourcarpet": [
           {
            "colorbar": {
             "outlinewidth": 0,
             "ticks": ""
            },
            "type": "contourcarpet"
           }
          ],
          "heatmap": [
           {
            "colorbar": {
             "outlinewidth": 0,
             "ticks": ""
            },
            "colorscale": [
             [
              0,
              "#0d0887"
             ],
             [
              0.1111111111111111,
              "#46039f"
             ],
             [
              0.2222222222222222,
              "#7201a8"
             ],
             [
              0.3333333333333333,
              "#9c179e"
             ],
             [
              0.4444444444444444,
              "#bd3786"
             ],
             [
              0.5555555555555556,
              "#d8576b"
             ],
             [
              0.6666666666666666,
              "#ed7953"
             ],
             [
              0.7777777777777778,
              "#fb9f3a"
             ],
             [
              0.8888888888888888,
              "#fdca26"
             ],
             [
              1,
              "#f0f921"
             ]
            ],
            "type": "heatmap"
           }
          ],
          "heatmapgl": [
           {
            "colorbar": {
             "outlinewidth": 0,
             "ticks": ""
            },
            "colorscale": [
             [
              0,
              "#0d0887"
             ],
             [
              0.1111111111111111,
              "#46039f"
             ],
             [
              0.2222222222222222,
              "#7201a8"
             ],
             [
              0.3333333333333333,
              "#9c179e"
             ],
             [
              0.4444444444444444,
              "#bd3786"
             ],
             [
              0.5555555555555556,
              "#d8576b"
             ],
             [
              0.6666666666666666,
              "#ed7953"
             ],
             [
              0.7777777777777778,
              "#fb9f3a"
             ],
             [
              0.8888888888888888,
              "#fdca26"
             ],
             [
              1,
              "#f0f921"
             ]
            ],
            "type": "heatmapgl"
           }
          ],
          "histogram": [
           {
            "marker": {
             "pattern": {
              "fillmode": "overlay",
              "size": 10,
              "solidity": 0.2
             }
            },
            "type": "histogram"
           }
          ],
          "histogram2d": [
           {
            "colorbar": {
             "outlinewidth": 0,
             "ticks": ""
            },
            "colorscale": [
             [
              0,
              "#0d0887"
             ],
             [
              0.1111111111111111,
              "#46039f"
             ],
             [
              0.2222222222222222,
              "#7201a8"
             ],
             [
              0.3333333333333333,
              "#9c179e"
             ],
             [
              0.4444444444444444,
              "#bd3786"
             ],
             [
              0.5555555555555556,
              "#d8576b"
             ],
             [
              0.6666666666666666,
              "#ed7953"
             ],
             [
              0.7777777777777778,
              "#fb9f3a"
             ],
             [
              0.8888888888888888,
              "#fdca26"
             ],
             [
              1,
              "#f0f921"
             ]
            ],
            "type": "histogram2d"
           }
          ],
          "histogram2dcontour": [
           {
            "colorbar": {
             "outlinewidth": 0,
             "ticks": ""
            },
            "colorscale": [
             [
              0,
              "#0d0887"
             ],
             [
              0.1111111111111111,
              "#46039f"
             ],
             [
              0.2222222222222222,
              "#7201a8"
             ],
             [
              0.3333333333333333,
              "#9c179e"
             ],
             [
              0.4444444444444444,
              "#bd3786"
             ],
             [
              0.5555555555555556,
              "#d8576b"
             ],
             [
              0.6666666666666666,
              "#ed7953"
             ],
             [
              0.7777777777777778,
              "#fb9f3a"
             ],
             [
              0.8888888888888888,
              "#fdca26"
             ],
             [
              1,
              "#f0f921"
             ]
            ],
            "type": "histogram2dcontour"
           }
          ],
          "mesh3d": [
           {
            "colorbar": {
             "outlinewidth": 0,
             "ticks": ""
            },
            "type": "mesh3d"
           }
          ],
          "parcoords": [
           {
            "line": {
             "colorbar": {
              "outlinewidth": 0,
              "ticks": ""
             }
            },
            "type": "parcoords"
           }
          ],
          "pie": [
           {
            "automargin": true,
            "type": "pie"
           }
          ],
          "scatter": [
           {
            "fillpattern": {
             "fillmode": "overlay",
             "size": 10,
             "solidity": 0.2
            },
            "type": "scatter"
           }
          ],
          "scatter3d": [
           {
            "line": {
             "colorbar": {
              "outlinewidth": 0,
              "ticks": ""
             }
            },
            "marker": {
             "colorbar": {
              "outlinewidth": 0,
              "ticks": ""
             }
            },
            "type": "scatter3d"
           }
          ],
          "scattercarpet": [
           {
            "marker": {
             "colorbar": {
              "outlinewidth": 0,
              "ticks": ""
             }
            },
            "type": "scattercarpet"
           }
          ],
          "scattergeo": [
           {
            "marker": {
             "colorbar": {
              "outlinewidth": 0,
              "ticks": ""
             }
            },
            "type": "scattergeo"
           }
          ],
          "scattergl": [
           {
            "marker": {
             "colorbar": {
              "outlinewidth": 0,
              "ticks": ""
             }
            },
            "type": "scattergl"
           }
          ],
          "scattermapbox": [
           {
            "marker": {
             "colorbar": {
              "outlinewidth": 0,
              "ticks": ""
             }
            },
            "type": "scattermapbox"
           }
          ],
          "scatterpolar": [
           {
            "marker": {
             "colorbar": {
              "outlinewidth": 0,
              "ticks": ""
             }
            },
            "type": "scatterpolar"
           }
          ],
          "scatterpolargl": [
           {
            "marker": {
             "colorbar": {
              "outlinewidth": 0,
              "ticks": ""
             }
            },
            "type": "scatterpolargl"
           }
          ],
          "scatterternary": [
           {
            "marker": {
             "colorbar": {
              "outlinewidth": 0,
              "ticks": ""
             }
            },
            "type": "scatterternary"
           }
          ],
          "surface": [
           {
            "colorbar": {
             "outlinewidth": 0,
             "ticks": ""
            },
            "colorscale": [
             [
              0,
              "#0d0887"
             ],
             [
              0.1111111111111111,
              "#46039f"
             ],
             [
              0.2222222222222222,
              "#7201a8"
             ],
             [
              0.3333333333333333,
              "#9c179e"
             ],
             [
              0.4444444444444444,
              "#bd3786"
             ],
             [
              0.5555555555555556,
              "#d8576b"
             ],
             [
              0.6666666666666666,
              "#ed7953"
             ],
             [
              0.7777777777777778,
              "#fb9f3a"
             ],
             [
              0.8888888888888888,
              "#fdca26"
             ],
             [
              1,
              "#f0f921"
             ]
            ],
            "type": "surface"
           }
          ],
          "table": [
           {
            "cells": {
             "fill": {
              "color": "#EBF0F8"
             },
             "line": {
              "color": "white"
             }
            },
            "header": {
             "fill": {
              "color": "#C8D4E3"
             },
             "line": {
              "color": "white"
             }
            },
            "type": "table"
           }
          ]
         },
         "layout": {
          "annotationdefaults": {
           "arrowcolor": "#2a3f5f",
           "arrowhead": 0,
           "arrowwidth": 1
          },
          "autotypenumbers": "strict",
          "coloraxis": {
           "colorbar": {
            "outlinewidth": 0,
            "ticks": ""
           }
          },
          "colorscale": {
           "diverging": [
            [
             0,
             "#8e0152"
            ],
            [
             0.1,
             "#c51b7d"
            ],
            [
             0.2,
             "#de77ae"
            ],
            [
             0.3,
             "#f1b6da"
            ],
            [
             0.4,
             "#fde0ef"
            ],
            [
             0.5,
             "#f7f7f7"
            ],
            [
             0.6,
             "#e6f5d0"
            ],
            [
             0.7,
             "#b8e186"
            ],
            [
             0.8,
             "#7fbc41"
            ],
            [
             0.9,
             "#4d9221"
            ],
            [
             1,
             "#276419"
            ]
           ],
           "sequential": [
            [
             0,
             "#0d0887"
            ],
            [
             0.1111111111111111,
             "#46039f"
            ],
            [
             0.2222222222222222,
             "#7201a8"
            ],
            [
             0.3333333333333333,
             "#9c179e"
            ],
            [
             0.4444444444444444,
             "#bd3786"
            ],
            [
             0.5555555555555556,
             "#d8576b"
            ],
            [
             0.6666666666666666,
             "#ed7953"
            ],
            [
             0.7777777777777778,
             "#fb9f3a"
            ],
            [
             0.8888888888888888,
             "#fdca26"
            ],
            [
             1,
             "#f0f921"
            ]
           ],
           "sequentialminus": [
            [
             0,
             "#0d0887"
            ],
            [
             0.1111111111111111,
             "#46039f"
            ],
            [
             0.2222222222222222,
             "#7201a8"
            ],
            [
             0.3333333333333333,
             "#9c179e"
            ],
            [
             0.4444444444444444,
             "#bd3786"
            ],
            [
             0.5555555555555556,
             "#d8576b"
            ],
            [
             0.6666666666666666,
             "#ed7953"
            ],
            [
             0.7777777777777778,
             "#fb9f3a"
            ],
            [
             0.8888888888888888,
             "#fdca26"
            ],
            [
             1,
             "#f0f921"
            ]
           ]
          },
          "colorway": [
           "#636efa",
           "#EF553B",
           "#00cc96",
           "#ab63fa",
           "#FFA15A",
           "#19d3f3",
           "#FF6692",
           "#B6E880",
           "#FF97FF",
           "#FECB52"
          ],
          "font": {
           "color": "#2a3f5f"
          },
          "geo": {
           "bgcolor": "white",
           "lakecolor": "white",
           "landcolor": "#E5ECF6",
           "showlakes": true,
           "showland": true,
           "subunitcolor": "white"
          },
          "hoverlabel": {
           "align": "left"
          },
          "hovermode": "closest",
          "mapbox": {
           "style": "light"
          },
          "paper_bgcolor": "white",
          "plot_bgcolor": "#E5ECF6",
          "polar": {
           "angularaxis": {
            "gridcolor": "white",
            "linecolor": "white",
            "ticks": ""
           },
           "bgcolor": "#E5ECF6",
           "radialaxis": {
            "gridcolor": "white",
            "linecolor": "white",
            "ticks": ""
           }
          },
          "scene": {
           "xaxis": {
            "backgroundcolor": "#E5ECF6",
            "gridcolor": "white",
            "gridwidth": 2,
            "linecolor": "white",
            "showbackground": true,
            "ticks": "",
            "zerolinecolor": "white"
           },
           "yaxis": {
            "backgroundcolor": "#E5ECF6",
            "gridcolor": "white",
            "gridwidth": 2,
            "linecolor": "white",
            "showbackground": true,
            "ticks": "",
            "zerolinecolor": "white"
           },
           "zaxis": {
            "backgroundcolor": "#E5ECF6",
            "gridcolor": "white",
            "gridwidth": 2,
            "linecolor": "white",
            "showbackground": true,
            "ticks": "",
            "zerolinecolor": "white"
           }
          },
          "shapedefaults": {
           "line": {
            "color": "#2a3f5f"
           }
          },
          "ternary": {
           "aaxis": {
            "gridcolor": "white",
            "linecolor": "white",
            "ticks": ""
           },
           "baxis": {
            "gridcolor": "white",
            "linecolor": "white",
            "ticks": ""
           },
           "bgcolor": "#E5ECF6",
           "caxis": {
            "gridcolor": "white",
            "linecolor": "white",
            "ticks": ""
           }
          },
          "title": {
           "x": 0.05
          },
          "xaxis": {
           "automargin": true,
           "gridcolor": "white",
           "linecolor": "white",
           "ticks": "",
           "title": {
            "standoff": 15
           },
           "zerolinecolor": "white",
           "zerolinewidth": 2
          },
          "yaxis": {
           "automargin": true,
           "gridcolor": "white",
           "linecolor": "white",
           "ticks": "",
           "title": {
            "standoff": 15
           },
           "zerolinecolor": "white",
           "zerolinewidth": 2
          }
         }
        },
        "title": {
         "text": "Short Circuit at End of Line"
        },
        "width": 1000,
        "xaxis": {
         "gridcolor": "black",
         "griddash": "dash",
         "minor": {
          "griddash": "dot"
         },
         "title": {
          "text": "Type of Short Circuit"
         }
        },
        "yaxis": {
         "dtick": 0.001,
         "gridcolor": "blue",
         "griddash": "dash",
         "gridwidth": 1,
         "minor": {
          "griddash": "dot",
          "nticks": 5
         },
         "showgrid": true,
         "tick0": 0.01,
         "tickmode": "linear",
         "title": {
          "text": "Value Absolute Error"
         }
        }
       }
      }
     },
     "metadata": {},
     "output_type": "display_data"
    }
   ],
   "source": [
    "fig = go.Figure()\n",
    "\n",
    "# Add traces\n",
    "fig.add_trace(go.Scatter(x=FimDeLinhaSemComp['tipoCurto'], y=FimDeLinhaSemComp['AE IA'],\n",
    "                    mode='markers',\n",
    "                    name='AE IA',\n",
    "                    marker=dict(\n",
    "                        size=25,\n",
    "                        line=dict(\n",
    "                            width=2\n",
    "                        )\n",
    "                    ),\n",
    "                    text=ValorZeroNoveNove['Mean AE - AB'],\n",
    "                    textposition=\"top center\"))\n",
    "fig.add_trace(go.Scatter(x=FimDeLinhaSemComp['tipoCurto'], y=FimDeLinhaSemComp['AE IB'],\n",
    "                    mode='markers',\n",
    "                    name='AE IB',\n",
    "                    marker=dict(\n",
    "                        size=20,\n",
    "                        line=dict(\n",
    "                            width=2\n",
    "                        )\n",
    "                    ),\n",
    "                    text=ValorZeroNoveNove['Mean AE - AC'],\n",
    "                    textposition=\"top center\"))\n",
    "fig.add_trace(go.Scatter(x=FimDeLinhaSemComp['tipoCurto'], y=FimDeLinhaSemComp['AE IC'],\n",
    "                    mode='markers',\n",
    "                    name='AE IC',\n",
    "                    marker=dict(\n",
    "                        size=15,\n",
    "                        line=dict(\n",
    "                            width=2\n",
    "                        )\n",
    "                    ),\n",
    "                    text=ValorZeroNoveNove['Mean AE - BC'],\n",
    "                    textposition=\"bottom center\"))\n",
    "fig.update_yaxes(showgrid=True, gridwidth=1, gridcolor='blue', griddash='dash', minor_griddash=\"dot\", minor_nticks=5, tickmode = 'linear', tick0 = 0.01,dtick = 0.001,)\n",
    "fig.update_xaxes(gridcolor='black', griddash='dash', minor_griddash=\"dot\")\n",
    "fig.update_layout(\n",
    "    autosize=False,\n",
    "    width=1000,\n",
    "    height=1000,\n",
    "    margin=dict(\n",
    "        l=50,\n",
    "        r=50,\n",
    "        b=100,\n",
    "        t=100,\n",
    "        pad=4\n",
    "    ),\n",
    "    paper_bgcolor='LightSteelBlue',)\n",
    "fig.update_layout(\n",
    "    title=\"Short Circuit at End of Line\",\n",
    "    xaxis_title=\"Type of Short Circuit\",\n",
    "    yaxis_title=\"Value Absolute Error\",\n",
    "    legend_title=\"Legend\",\n",
    "    font=dict(\n",
    "        family=\"Courier New, monospace\",\n",
    "        size=18,\n",
    "    )\n",
    ")\n",
    "fig.show()\n",
    "fig.write_image(\"images/ValorAE_6.png\")"
   ]
  },
  {
   "cell_type": "code",
   "execution_count": 16,
   "metadata": {},
   "outputs": [
    {
     "data": {
      "application/vnd.plotly.v1+json": {
       "config": {
        "plotlyServerURL": "https://plot.ly"
       },
       "data": [
        {
         "marker": {
          "color": "yellow",
          "line": {
           "width": 2
          },
          "size": 30
         },
         "mode": "markers+lines+text",
         "name": "Mean AE - AB",
         "text": [
          0.0298
         ],
         "textposition": "middle right",
         "type": "scatter",
         "x": [
          0.1
         ],
         "xaxis": "x",
         "y": [
          0.029802880000003973
         ],
         "yaxis": "y"
        },
        {
         "marker": {
          "color": "green",
          "line": {
           "width": 2
          },
          "size": 25
         },
         "mode": "markers+lines+text",
         "name": "Mean AE - AC",
         "text": [
          0.0108
         ],
         "textposition": "middle left",
         "type": "scatter",
         "x": [
          0.1
         ],
         "xaxis": "x",
         "y": [
          0.010769323333335476
         ],
         "yaxis": "y"
        },
        {
         "marker": {
          "color": "blue",
          "line": {
           "width": 2
          },
          "size": 20
         },
         "mode": "markers+lines+text",
         "name": "Mean AE - BC",
         "text": [
          0.0107
         ],
         "textposition": "middle right",
         "type": "scatter",
         "x": [
          0.1
         ],
         "xaxis": "x",
         "y": [
          0.01073633333333437
         ],
         "yaxis": "y"
        },
        {
         "marker": {
          "color": "red",
          "line": {
           "width": 2
          },
          "size": 15
         },
         "mode": "markers+lines+text",
         "name": "Mean AE - TRIF",
         "text": [
          0.0779
         ],
         "textposition": "middle right",
         "type": "scatter",
         "x": [
          0.1
         ],
         "xaxis": "x",
         "y": [
          0.07793333333334355
         ],
         "yaxis": "y"
        },
        {
         "marker": {
          "color": "yellow",
          "line": {
           "width": 2
          },
          "size": 30
         },
         "mode": "markers+lines+text",
         "name": "Mean AE - AB",
         "showlegend": false,
         "text": [
          0.0183
         ],
         "textposition": "middle right",
         "type": "scatter",
         "x": [
          0.25
         ],
         "xaxis": "x2",
         "y": [
          0.0183028833333345
         ],
         "yaxis": "y2"
        },
        {
         "marker": {
          "color": "green",
          "line": {
           "width": 2
          },
          "size": 25
         },
         "mode": "markers+lines+text",
         "name": "Mean AE - AC",
         "showlegend": false,
         "text": [
          0.0091
         ],
         "textposition": "middle left",
         "type": "scatter",
         "x": [
          0.25
         ],
         "xaxis": "x2",
         "y": [
          0.009069466666673957
         ],
         "yaxis": "y2"
        },
        {
         "marker": {
          "color": "blue",
          "line": {
           "width": 2
          },
          "size": 20
         },
         "mode": "markers+lines+text",
         "name": "Mean AE - BC",
         "showlegend": false,
         "text": [
          0.0091
         ],
         "textposition": "middle right",
         "type": "scatter",
         "x": [
          0.25
         ],
         "xaxis": "x2",
         "y": [
          0.009069566666669221
         ],
         "yaxis": "y2"
        },
        {
         "marker": {
          "color": "red",
          "line": {
           "width": 2
          },
          "size": 15
         },
         "mode": "markers+lines+text",
         "name": "Mean AE - TRIF",
         "showlegend": false,
         "text": [
          0.0453
         ],
         "textposition": "middle right",
         "type": "scatter",
         "x": [
          0.25
         ],
         "xaxis": "x2",
         "y": [
          0.04530999999999589
         ],
         "yaxis": "y2"
        },
        {
         "marker": {
          "color": "yellow",
          "line": {
           "width": 2
          },
          "size": 30
         },
         "mode": "markers+lines+text",
         "name": "Mean AE - AB",
         "showlegend": false,
         "text": [
          0.0097
         ],
         "textposition": "middle right",
         "type": "scatter",
         "x": [
          0.5
         ],
         "xaxis": "x3",
         "y": [
          0.009736200000001
         ],
         "yaxis": "y3"
        },
        {
         "marker": {
          "color": "green",
          "line": {
           "width": 2
          },
          "size": 25
         },
         "mode": "markers+lines+text",
         "name": "Mean AE - AC",
         "showlegend": false,
         "text": [
          0.007
         ],
         "textposition": "middle left",
         "type": "scatter",
         "x": [
          0.5
         ],
         "xaxis": "x3",
         "y": [
          0.007002933333333599
         ],
         "yaxis": "y3"
        },
        {
         "marker": {
          "color": "blue",
          "line": {
           "width": 2
          },
          "size": 20
         },
         "mode": "markers+lines+text",
         "name": "Mean AE - BC",
         "showlegend": false,
         "text": [
          0.007
         ],
         "textposition": "middle right",
         "type": "scatter",
         "x": [
          0.5
         ],
         "xaxis": "x3",
         "y": [
          0.0070028000000002645
         ],
         "yaxis": "y3"
        },
        {
         "marker": {
          "color": "red",
          "line": {
           "width": 2
          },
          "size": 15
         },
         "mode": "markers+lines+text",
         "name": "Mean AE - TRIF",
         "showlegend": false,
         "text": [
          0.0222
         ],
         "textposition": "middle right",
         "type": "scatter",
         "x": [
          0.5
         ],
         "xaxis": "x3",
         "y": [
          0.02219333333334343
         ],
         "yaxis": "y3"
        },
        {
         "marker": {
          "color": "yellow",
          "line": {
           "width": 2
          },
          "size": 30
         },
         "mode": "markers+lines+text",
         "name": "Mean AE - AB",
         "showlegend": false,
         "text": [
          0.006
         ],
         "textposition": "middle right",
         "type": "scatter",
         "x": [
          0.75
         ],
         "xaxis": "x4",
         "y": [
          0.0060028666666668935
         ],
         "yaxis": "y4"
        },
        {
         "marker": {
          "color": "green",
          "line": {
           "width": 2
          },
          "size": 25
         },
         "mode": "markers+lines+text",
         "name": "Mean AE - AC",
         "showlegend": false,
         "text": [
          0.0055
         ],
         "textposition": "middle left",
         "type": "scatter",
         "x": [
          0.75
         ],
         "xaxis": "x4",
         "y": [
          0.005536366666670349
         ],
         "yaxis": "y4"
        },
        {
         "marker": {
          "color": "blue",
          "line": {
           "width": 2
          },
          "size": 20
         },
         "mode": "markers+lines+text",
         "name": "Mean AE - BC",
         "showlegend": false,
         "text": [
          0.0056
         ],
         "textposition": "middle right",
         "type": "scatter",
         "x": [
          0.75
         ],
         "xaxis": "x4",
         "y": [
          0.005602733333334493
         ],
         "yaxis": "y4"
        },
        {
         "marker": {
          "color": "red",
          "line": {
           "width": 2
          },
          "size": 15
         },
         "mode": "markers+lines+text",
         "name": "Mean AE - TRIF",
         "showlegend": false,
         "text": [
          0.0133
         ],
         "textposition": "middle right",
         "type": "scatter",
         "x": [
          0.75
         ],
         "xaxis": "x4",
         "y": [
          0.013323333333332243
         ],
         "yaxis": "y4"
        },
        {
         "marker": {
          "color": "yellow",
          "line": {
           "width": 2
          },
          "size": 30
         },
         "mode": "markers+lines+text",
         "name": "Mean AE - AB",
         "showlegend": false,
         "text": [
          0.0041
         ],
         "textposition": "middle right",
         "type": "scatter",
         "x": [
          0.99
         ],
         "xaxis": "x5",
         "y": [
          0.004136200000004578
         ],
         "yaxis": "y5"
        },
        {
         "marker": {
          "color": "green",
          "line": {
           "width": 2
          },
          "size": 25
         },
         "mode": "markers+lines+text",
         "name": "Mean AE - AC",
         "showlegend": false,
         "text": [
          0.0046
         ],
         "textposition": "middle left",
         "type": "scatter",
         "x": [
          0.99
         ],
         "xaxis": "x5",
         "y": [
          0.004569766666666682
         ],
         "yaxis": "y5"
        },
        {
         "marker": {
          "color": "blue",
          "line": {
           "width": 2
          },
          "size": 20
         },
         "mode": "markers+lines+text",
         "name": "Mean AE - BC",
         "showlegend": false,
         "text": [
          0.0045
         ],
         "textposition": "middle right",
         "type": "scatter",
         "x": [
          0.99
         ],
         "xaxis": "x5",
         "y": [
          0.004535966666665575
         ],
         "yaxis": "y5"
        },
        {
         "marker": {
          "color": "red",
          "line": {
           "width": 2
          },
          "size": 15
         },
         "mode": "markers+lines+text",
         "name": "Mean AE - TRIF",
         "showlegend": false,
         "text": [
          0.0093
         ],
         "textposition": "middle right",
         "type": "scatter",
         "x": [
          0.99
         ],
         "xaxis": "x5",
         "y": [
          0.009300000000005562
         ],
         "yaxis": "y5"
        }
       ],
       "layout": {
        "annotations": [
         {
          "font": {
           "size": 16
          },
          "showarrow": false,
          "text": "10% of line",
          "x": 0.08,
          "xanchor": "center",
          "xref": "paper",
          "y": 1,
          "yanchor": "bottom",
          "yref": "paper"
         },
         {
          "font": {
           "size": 16
          },
          "showarrow": false,
          "text": "25% of line",
          "x": 0.29000000000000004,
          "xanchor": "center",
          "xref": "paper",
          "y": 1,
          "yanchor": "bottom",
          "yref": "paper"
         },
         {
          "font": {
           "size": 16
          },
          "showarrow": false,
          "text": "50% of line",
          "x": 0.5,
          "xanchor": "center",
          "xref": "paper",
          "y": 1,
          "yanchor": "bottom",
          "yref": "paper"
         },
         {
          "font": {
           "size": 16
          },
          "showarrow": false,
          "text": "75% of Line",
          "x": 0.71,
          "xanchor": "center",
          "xref": "paper",
          "y": 1,
          "yanchor": "bottom",
          "yref": "paper"
         },
         {
          "font": {
           "size": 16
          },
          "showarrow": false,
          "text": "99% of line",
          "x": 0.92,
          "xanchor": "center",
          "xref": "paper",
          "y": 1,
          "yanchor": "bottom",
          "yref": "paper"
         }
        ],
        "autosize": false,
        "font": {
         "family": "Courier New, monospace",
         "size": 16
        },
        "height": 1000,
        "legend": {
         "title": {
          "text": "Legend"
         }
        },
        "margin": {
         "b": 150,
         "l": 100,
         "pad": 4,
         "r": 100,
         "t": 150
        },
        "paper_bgcolor": "LightSteelBlue",
        "template": {
         "data": {
          "bar": [
           {
            "error_x": {
             "color": "#2a3f5f"
            },
            "error_y": {
             "color": "#2a3f5f"
            },
            "marker": {
             "line": {
              "color": "#E5ECF6",
              "width": 0.5
             },
             "pattern": {
              "fillmode": "overlay",
              "size": 10,
              "solidity": 0.2
             }
            },
            "type": "bar"
           }
          ],
          "barpolar": [
           {
            "marker": {
             "line": {
              "color": "#E5ECF6",
              "width": 0.5
             },
             "pattern": {
              "fillmode": "overlay",
              "size": 10,
              "solidity": 0.2
             }
            },
            "type": "barpolar"
           }
          ],
          "carpet": [
           {
            "aaxis": {
             "endlinecolor": "#2a3f5f",
             "gridcolor": "white",
             "linecolor": "white",
             "minorgridcolor": "white",
             "startlinecolor": "#2a3f5f"
            },
            "baxis": {
             "endlinecolor": "#2a3f5f",
             "gridcolor": "white",
             "linecolor": "white",
             "minorgridcolor": "white",
             "startlinecolor": "#2a3f5f"
            },
            "type": "carpet"
           }
          ],
          "choropleth": [
           {
            "colorbar": {
             "outlinewidth": 0,
             "ticks": ""
            },
            "type": "choropleth"
           }
          ],
          "contour": [
           {
            "colorbar": {
             "outlinewidth": 0,
             "ticks": ""
            },
            "colorscale": [
             [
              0,
              "#0d0887"
             ],
             [
              0.1111111111111111,
              "#46039f"
             ],
             [
              0.2222222222222222,
              "#7201a8"
             ],
             [
              0.3333333333333333,
              "#9c179e"
             ],
             [
              0.4444444444444444,
              "#bd3786"
             ],
             [
              0.5555555555555556,
              "#d8576b"
             ],
             [
              0.6666666666666666,
              "#ed7953"
             ],
             [
              0.7777777777777778,
              "#fb9f3a"
             ],
             [
              0.8888888888888888,
              "#fdca26"
             ],
             [
              1,
              "#f0f921"
             ]
            ],
            "type": "contour"
           }
          ],
          "contourcarpet": [
           {
            "colorbar": {
             "outlinewidth": 0,
             "ticks": ""
            },
            "type": "contourcarpet"
           }
          ],
          "heatmap": [
           {
            "colorbar": {
             "outlinewidth": 0,
             "ticks": ""
            },
            "colorscale": [
             [
              0,
              "#0d0887"
             ],
             [
              0.1111111111111111,
              "#46039f"
             ],
             [
              0.2222222222222222,
              "#7201a8"
             ],
             [
              0.3333333333333333,
              "#9c179e"
             ],
             [
              0.4444444444444444,
              "#bd3786"
             ],
             [
              0.5555555555555556,
              "#d8576b"
             ],
             [
              0.6666666666666666,
              "#ed7953"
             ],
             [
              0.7777777777777778,
              "#fb9f3a"
             ],
             [
              0.8888888888888888,
              "#fdca26"
             ],
             [
              1,
              "#f0f921"
             ]
            ],
            "type": "heatmap"
           }
          ],
          "heatmapgl": [
           {
            "colorbar": {
             "outlinewidth": 0,
             "ticks": ""
            },
            "colorscale": [
             [
              0,
              "#0d0887"
             ],
             [
              0.1111111111111111,
              "#46039f"
             ],
             [
              0.2222222222222222,
              "#7201a8"
             ],
             [
              0.3333333333333333,
              "#9c179e"
             ],
             [
              0.4444444444444444,
              "#bd3786"
             ],
             [
              0.5555555555555556,
              "#d8576b"
             ],
             [
              0.6666666666666666,
              "#ed7953"
             ],
             [
              0.7777777777777778,
              "#fb9f3a"
             ],
             [
              0.8888888888888888,
              "#fdca26"
             ],
             [
              1,
              "#f0f921"
             ]
            ],
            "type": "heatmapgl"
           }
          ],
          "histogram": [
           {
            "marker": {
             "pattern": {
              "fillmode": "overlay",
              "size": 10,
              "solidity": 0.2
             }
            },
            "type": "histogram"
           }
          ],
          "histogram2d": [
           {
            "colorbar": {
             "outlinewidth": 0,
             "ticks": ""
            },
            "colorscale": [
             [
              0,
              "#0d0887"
             ],
             [
              0.1111111111111111,
              "#46039f"
             ],
             [
              0.2222222222222222,
              "#7201a8"
             ],
             [
              0.3333333333333333,
              "#9c179e"
             ],
             [
              0.4444444444444444,
              "#bd3786"
             ],
             [
              0.5555555555555556,
              "#d8576b"
             ],
             [
              0.6666666666666666,
              "#ed7953"
             ],
             [
              0.7777777777777778,
              "#fb9f3a"
             ],
             [
              0.8888888888888888,
              "#fdca26"
             ],
             [
              1,
              "#f0f921"
             ]
            ],
            "type": "histogram2d"
           }
          ],
          "histogram2dcontour": [
           {
            "colorbar": {
             "outlinewidth": 0,
             "ticks": ""
            },
            "colorscale": [
             [
              0,
              "#0d0887"
             ],
             [
              0.1111111111111111,
              "#46039f"
             ],
             [
              0.2222222222222222,
              "#7201a8"
             ],
             [
              0.3333333333333333,
              "#9c179e"
             ],
             [
              0.4444444444444444,
              "#bd3786"
             ],
             [
              0.5555555555555556,
              "#d8576b"
             ],
             [
              0.6666666666666666,
              "#ed7953"
             ],
             [
              0.7777777777777778,
              "#fb9f3a"
             ],
             [
              0.8888888888888888,
              "#fdca26"
             ],
             [
              1,
              "#f0f921"
             ]
            ],
            "type": "histogram2dcontour"
           }
          ],
          "mesh3d": [
           {
            "colorbar": {
             "outlinewidth": 0,
             "ticks": ""
            },
            "type": "mesh3d"
           }
          ],
          "parcoords": [
           {
            "line": {
             "colorbar": {
              "outlinewidth": 0,
              "ticks": ""
             }
            },
            "type": "parcoords"
           }
          ],
          "pie": [
           {
            "automargin": true,
            "type": "pie"
           }
          ],
          "scatter": [
           {
            "fillpattern": {
             "fillmode": "overlay",
             "size": 10,
             "solidity": 0.2
            },
            "type": "scatter"
           }
          ],
          "scatter3d": [
           {
            "line": {
             "colorbar": {
              "outlinewidth": 0,
              "ticks": ""
             }
            },
            "marker": {
             "colorbar": {
              "outlinewidth": 0,
              "ticks": ""
             }
            },
            "type": "scatter3d"
           }
          ],
          "scattercarpet": [
           {
            "marker": {
             "colorbar": {
              "outlinewidth": 0,
              "ticks": ""
             }
            },
            "type": "scattercarpet"
           }
          ],
          "scattergeo": [
           {
            "marker": {
             "colorbar": {
              "outlinewidth": 0,
              "ticks": ""
             }
            },
            "type": "scattergeo"
           }
          ],
          "scattergl": [
           {
            "marker": {
             "colorbar": {
              "outlinewidth": 0,
              "ticks": ""
             }
            },
            "type": "scattergl"
           }
          ],
          "scattermapbox": [
           {
            "marker": {
             "colorbar": {
              "outlinewidth": 0,
              "ticks": ""
             }
            },
            "type": "scattermapbox"
           }
          ],
          "scatterpolar": [
           {
            "marker": {
             "colorbar": {
              "outlinewidth": 0,
              "ticks": ""
             }
            },
            "type": "scatterpolar"
           }
          ],
          "scatterpolargl": [
           {
            "marker": {
             "colorbar": {
              "outlinewidth": 0,
              "ticks": ""
             }
            },
            "type": "scatterpolargl"
           }
          ],
          "scatterternary": [
           {
            "marker": {
             "colorbar": {
              "outlinewidth": 0,
              "ticks": ""
             }
            },
            "type": "scatterternary"
           }
          ],
          "surface": [
           {
            "colorbar": {
             "outlinewidth": 0,
             "ticks": ""
            },
            "colorscale": [
             [
              0,
              "#0d0887"
             ],
             [
              0.1111111111111111,
              "#46039f"
             ],
             [
              0.2222222222222222,
              "#7201a8"
             ],
             [
              0.3333333333333333,
              "#9c179e"
             ],
             [
              0.4444444444444444,
              "#bd3786"
             ],
             [
              0.5555555555555556,
              "#d8576b"
             ],
             [
              0.6666666666666666,
              "#ed7953"
             ],
             [
              0.7777777777777778,
              "#fb9f3a"
             ],
             [
              0.8888888888888888,
              "#fdca26"
             ],
             [
              1,
              "#f0f921"
             ]
            ],
            "type": "surface"
           }
          ],
          "table": [
           {
            "cells": {
             "fill": {
              "color": "#EBF0F8"
             },
             "line": {
              "color": "white"
             }
            },
            "header": {
             "fill": {
              "color": "#C8D4E3"
             },
             "line": {
              "color": "white"
             }
            },
            "type": "table"
           }
          ]
         },
         "layout": {
          "annotationdefaults": {
           "arrowcolor": "#2a3f5f",
           "arrowhead": 0,
           "arrowwidth": 1
          },
          "autotypenumbers": "strict",
          "coloraxis": {
           "colorbar": {
            "outlinewidth": 0,
            "ticks": ""
           }
          },
          "colorscale": {
           "diverging": [
            [
             0,
             "#8e0152"
            ],
            [
             0.1,
             "#c51b7d"
            ],
            [
             0.2,
             "#de77ae"
            ],
            [
             0.3,
             "#f1b6da"
            ],
            [
             0.4,
             "#fde0ef"
            ],
            [
             0.5,
             "#f7f7f7"
            ],
            [
             0.6,
             "#e6f5d0"
            ],
            [
             0.7,
             "#b8e186"
            ],
            [
             0.8,
             "#7fbc41"
            ],
            [
             0.9,
             "#4d9221"
            ],
            [
             1,
             "#276419"
            ]
           ],
           "sequential": [
            [
             0,
             "#0d0887"
            ],
            [
             0.1111111111111111,
             "#46039f"
            ],
            [
             0.2222222222222222,
             "#7201a8"
            ],
            [
             0.3333333333333333,
             "#9c179e"
            ],
            [
             0.4444444444444444,
             "#bd3786"
            ],
            [
             0.5555555555555556,
             "#d8576b"
            ],
            [
             0.6666666666666666,
             "#ed7953"
            ],
            [
             0.7777777777777778,
             "#fb9f3a"
            ],
            [
             0.8888888888888888,
             "#fdca26"
            ],
            [
             1,
             "#f0f921"
            ]
           ],
           "sequentialminus": [
            [
             0,
             "#0d0887"
            ],
            [
             0.1111111111111111,
             "#46039f"
            ],
            [
             0.2222222222222222,
             "#7201a8"
            ],
            [
             0.3333333333333333,
             "#9c179e"
            ],
            [
             0.4444444444444444,
             "#bd3786"
            ],
            [
             0.5555555555555556,
             "#d8576b"
            ],
            [
             0.6666666666666666,
             "#ed7953"
            ],
            [
             0.7777777777777778,
             "#fb9f3a"
            ],
            [
             0.8888888888888888,
             "#fdca26"
            ],
            [
             1,
             "#f0f921"
            ]
           ]
          },
          "colorway": [
           "#636efa",
           "#EF553B",
           "#00cc96",
           "#ab63fa",
           "#FFA15A",
           "#19d3f3",
           "#FF6692",
           "#B6E880",
           "#FF97FF",
           "#FECB52"
          ],
          "font": {
           "color": "#2a3f5f"
          },
          "geo": {
           "bgcolor": "white",
           "lakecolor": "white",
           "landcolor": "#E5ECF6",
           "showlakes": true,
           "showland": true,
           "subunitcolor": "white"
          },
          "hoverlabel": {
           "align": "left"
          },
          "hovermode": "closest",
          "mapbox": {
           "style": "light"
          },
          "paper_bgcolor": "white",
          "plot_bgcolor": "#E5ECF6",
          "polar": {
           "angularaxis": {
            "gridcolor": "white",
            "linecolor": "white",
            "ticks": ""
           },
           "bgcolor": "#E5ECF6",
           "radialaxis": {
            "gridcolor": "white",
            "linecolor": "white",
            "ticks": ""
           }
          },
          "scene": {
           "xaxis": {
            "backgroundcolor": "#E5ECF6",
            "gridcolor": "white",
            "gridwidth": 2,
            "linecolor": "white",
            "showbackground": true,
            "ticks": "",
            "zerolinecolor": "white"
           },
           "yaxis": {
            "backgroundcolor": "#E5ECF6",
            "gridcolor": "white",
            "gridwidth": 2,
            "linecolor": "white",
            "showbackground": true,
            "ticks": "",
            "zerolinecolor": "white"
           },
           "zaxis": {
            "backgroundcolor": "#E5ECF6",
            "gridcolor": "white",
            "gridwidth": 2,
            "linecolor": "white",
            "showbackground": true,
            "ticks": "",
            "zerolinecolor": "white"
           }
          },
          "shapedefaults": {
           "line": {
            "color": "#2a3f5f"
           }
          },
          "ternary": {
           "aaxis": {
            "gridcolor": "white",
            "linecolor": "white",
            "ticks": ""
           },
           "baxis": {
            "gridcolor": "white",
            "linecolor": "white",
            "ticks": ""
           },
           "bgcolor": "#E5ECF6",
           "caxis": {
            "gridcolor": "white",
            "linecolor": "white",
            "ticks": ""
           }
          },
          "title": {
           "x": 0.05
          },
          "xaxis": {
           "automargin": true,
           "gridcolor": "white",
           "linecolor": "white",
           "ticks": "",
           "title": {
            "standoff": 15
           },
           "zerolinecolor": "white",
           "zerolinewidth": 2
          },
          "yaxis": {
           "automargin": true,
           "gridcolor": "white",
           "linecolor": "white",
           "ticks": "",
           "title": {
            "standoff": 15
           },
           "zerolinecolor": "white",
           "zerolinewidth": 2
          }
         }
        },
        "title": {
         "text": "Short Circuit internal of the line"
        },
        "width": 1500,
        "xaxis": {
         "anchor": "y",
         "domain": [
          0,
          0.16
         ],
         "gridcolor": "lightblue",
         "griddash": "dash",
         "minor": {
          "griddash": "dot"
         },
         "range": [
          0.09,
          0.11
         ],
         "title": {
          "text": "local of SC"
         }
        },
        "xaxis2": {
         "anchor": "y2",
         "domain": [
          0.21000000000000002,
          0.37
         ],
         "gridcolor": "lightblue",
         "griddash": "dash",
         "minor": {
          "griddash": "dot"
         },
         "range": [
          0.24,
          0.26
         ],
         "title": {
          "text": "local of SC"
         }
        },
        "xaxis3": {
         "anchor": "y3",
         "domain": [
          0.42000000000000004,
          0.5800000000000001
         ],
         "gridcolor": "lightblue",
         "griddash": "dash",
         "minor": {
          "griddash": "dot"
         },
         "range": [
          0.49,
          0.51
         ],
         "title": {
          "text": "local of SC"
         }
        },
        "xaxis4": {
         "anchor": "y4",
         "domain": [
          0.63,
          0.79
         ],
         "gridcolor": "lightblue",
         "griddash": "dash",
         "minor": {
          "griddash": "dot"
         },
         "range": [
          0.74,
          0.76
         ],
         "title": {
          "text": "local of SC"
         }
        },
        "xaxis5": {
         "anchor": "y5",
         "domain": [
          0.8400000000000001,
          1
         ],
         "gridcolor": "lightblue",
         "griddash": "dash",
         "minor": {
          "griddash": "dot"
         },
         "range": [
          0.98,
          1
         ],
         "title": {
          "text": "local of SC"
         }
        },
        "yaxis": {
         "anchor": "x",
         "domain": [
          0,
          1
         ],
         "dtick": 0.005,
         "gridcolor": "lightblue",
         "griddash": "dash",
         "gridwidth": 1,
         "minor": {
          "griddash": "dot"
         },
         "range": [
          0,
          0.08
         ],
         "showgrid": true,
         "tick0": 0.01,
         "tickmode": "linear",
         "title": {
          "text": "Value Absolute Error"
         }
        },
        "yaxis2": {
         "anchor": "x2",
         "domain": [
          0,
          1
         ],
         "dtick": 0.005,
         "gridcolor": "lightblue",
         "griddash": "dash",
         "gridwidth": 1,
         "minor": {
          "griddash": "dot"
         },
         "range": [
          0,
          0.05
         ],
         "showgrid": true,
         "tick0": 0.01,
         "tickmode": "linear"
        },
        "yaxis3": {
         "anchor": "x3",
         "domain": [
          0,
          1
         ],
         "dtick": 0.005,
         "gridcolor": "lightblue",
         "griddash": "dash",
         "gridwidth": 1,
         "minor": {
          "griddash": "dot"
         },
         "range": [
          0,
          0.025
         ],
         "showgrid": true,
         "tick0": 0.01,
         "tickmode": "linear"
        },
        "yaxis4": {
         "anchor": "x4",
         "domain": [
          0,
          1
         ],
         "dtick": 0.005,
         "gridcolor": "lightblue",
         "griddash": "dash",
         "gridwidth": 1,
         "minor": {
          "griddash": "dot"
         },
         "range": [
          0,
          0.015
         ],
         "showgrid": true,
         "tick0": 0.01,
         "tickmode": "linear"
        },
        "yaxis5": {
         "anchor": "x5",
         "domain": [
          0,
          1
         ],
         "dtick": 0.005,
         "gridcolor": "lightblue",
         "griddash": "dash",
         "gridwidth": 1,
         "minor": {
          "griddash": "dot"
         },
         "range": [
          0,
          0.01
         ],
         "showgrid": true,
         "tick0": 0.01,
         "tickmode": "linear"
        }
       }
      }
     },
     "metadata": {},
     "output_type": "display_data"
    }
   ],
   "source": [
    "fig = make_subplots(rows=1, cols=5, subplot_titles=(\"10% of line\", \"25% of line\", \"50% of line\", \"75% of Line\", \"99% of line\"), horizontal_spacing=.05)\n",
    "\n",
    "# Add traces\n",
    "fig.add_trace(go.Scatter(x=ValorZeroUm['n'], y=ValorZeroUm['Mean AE - AB'],\n",
    "                    mode='markers+lines+text',\n",
    "                    name='Mean AE - AB',\n",
    "                    marker=dict(\n",
    "                        size=30,\n",
    "                        line=dict(\n",
    "                            width=2\n",
    "                        )\n",
    "                    ),\n",
    "                    marker_color='yellow',\n",
    "                    text=round(ValorZeroUm['Mean AE - AB'],4),\n",
    "                    textposition=\"middle right\"), row=1, col=1)\n",
    "fig.add_trace(go.Scatter(x=ValorZeroUm['n'], y=ValorZeroUm['Mean AE - AC'],\n",
    "                    mode='markers+lines+text',\n",
    "                    name='Mean AE - AC',\n",
    "                    marker=dict(\n",
    "                        size=25,\n",
    "                        line=dict(\n",
    "                            width=2\n",
    "                        )\n",
    "                    ),\n",
    "                    marker_color='green',\n",
    "                    text=round(ValorZeroUm['Mean AE - AC'],4),\n",
    "                    textposition=\"middle left\"), row=1, col=1)\n",
    "fig.add_trace(go.Scatter(x=ValorZeroUm['n'], y=ValorZeroUm['Mean AE - BC'],\n",
    "                    mode='markers+lines+text',\n",
    "                    name='Mean AE - BC',\n",
    "                    marker=dict(\n",
    "                        size=20,\n",
    "                        line=dict(\n",
    "                            width=2\n",
    "                        )\n",
    "                    ),\n",
    "                    marker_color='blue',\n",
    "                    text=round(ValorZeroUm['Mean AE - BC'],4),\n",
    "                    textposition=\"middle right\"), row=1, col=1)\n",
    "fig.add_trace(go.Scatter(x=ValorZeroUm['n'], y=ValorZeroUm['Mean AE - TRIF'],\n",
    "                    mode='markers+lines+text',\n",
    "                    name='Mean AE - TRIF',\n",
    "                    marker=dict(\n",
    "                        size=15,\n",
    "                        line=dict(\n",
    "                            width=2\n",
    "                        )\n",
    "                    ),\n",
    "                    marker_color='red',\n",
    "                    text=round(ValorZeroUm['Mean AE - TRIF'],4),\n",
    "                    textposition=\"middle right\"), row=1, col=1)\n",
    "\n",
    "# Add traces\n",
    "fig.add_trace(go.Scatter(x=ValorZeroVinteCinco['n'], y=ValorZeroVinteCinco['Mean AE - AB'],\n",
    "                    mode='markers+lines+text',\n",
    "                    name='Mean AE - AB',\n",
    "                    marker=dict(\n",
    "                        size=30,\n",
    "                        line=dict(\n",
    "                            width=2\n",
    "                        )\n",
    "                    ),\n",
    "                    showlegend=False,\n",
    "                    marker_color='yellow',\n",
    "                    text=round(ValorZeroVinteCinco['Mean AE - AB'],4),\n",
    "                    textposition=\"middle right\"), row=1, col=2)\n",
    "fig.add_trace(go.Scatter(x=ValorZeroVinteCinco['n'], y=ValorZeroVinteCinco['Mean AE - AC'],\n",
    "                    mode='markers+lines+text',\n",
    "                    name='Mean AE - AC',\n",
    "                    marker=dict(\n",
    "                        size=25,\n",
    "                        line=dict(\n",
    "                            width=2\n",
    "                        )\n",
    "                    ),\n",
    "                    showlegend=False,\n",
    "                    marker_color='green',\n",
    "                    text=round(ValorZeroVinteCinco['Mean AE - AC'],4),\n",
    "                    textposition=\"middle left\"), row=1, col=2)\n",
    "fig.add_trace(go.Scatter(x=ValorZeroVinteCinco['n'], y=ValorZeroVinteCinco['Mean AE - BC'],\n",
    "                    mode='markers+lines+text',\n",
    "                    name='Mean AE - BC',\n",
    "                    marker=dict(\n",
    "                        size=20,\n",
    "                        line=dict(\n",
    "                            width=2\n",
    "                        )\n",
    "                    ),\n",
    "                    showlegend=False,\n",
    "                    marker_color='blue',\n",
    "                    text=round(ValorZeroVinteCinco['Mean AE - BC'],4),\n",
    "                    textposition=\"middle right\"), row=1, col=2)\n",
    "fig.add_trace(go.Scatter(x=ValorZeroVinteCinco['n'], y=ValorZeroVinteCinco['Mean AE - TRIF'],\n",
    "                    mode='markers+lines+text',\n",
    "                    name='Mean AE - TRIF',\n",
    "                    marker=dict(\n",
    "                        size=15,\n",
    "                        line=dict(\n",
    "                            width=2\n",
    "                        )\n",
    "                    ),\n",
    "                    showlegend=False,\n",
    "                    marker_color='red',\n",
    "                    text=round(ValorZeroVinteCinco['Mean AE - TRIF'],4),\n",
    "                    textposition=\"middle right\"), row=1, col=2)\n",
    "\n",
    "# Add traces\n",
    "fig.add_trace(go.Scatter(x=ValorZeroCinquenta['n'], y=ValorZeroCinquenta['Mean AE - AB'],\n",
    "                    mode='markers+lines+text',\n",
    "                    name='Mean AE - AB',\n",
    "                    marker=dict(\n",
    "                        size=30,\n",
    "                        line=dict(\n",
    "                            width=2\n",
    "                        )\n",
    "                    ),\n",
    "                    showlegend=False,\n",
    "                    marker_color='yellow',\n",
    "                    text=round(ValorZeroCinquenta['Mean AE - AB'],4),\n",
    "                    textposition=\"middle right\"), row=1, col=3)\n",
    "fig.add_trace(go.Scatter(x=ValorZeroCinquenta['n'], y=ValorZeroCinquenta['Mean AE - AC'],\n",
    "                    mode='markers+lines+text',\n",
    "                    name='Mean AE - AC',\n",
    "                    marker=dict(\n",
    "                        size=25,\n",
    "                        line=dict(\n",
    "                            width=2\n",
    "                        )\n",
    "                    ),\n",
    "                    showlegend=False,\n",
    "                    marker_color='green',\n",
    "                    text=round(ValorZeroCinquenta['Mean AE - AC'],4),\n",
    "                    textposition=\"middle left\"), row=1, col=3)\n",
    "fig.add_trace(go.Scatter(x=ValorZeroCinquenta['n'], y=ValorZeroCinquenta['Mean AE - BC'],\n",
    "                    mode='markers+lines+text',\n",
    "                    name='Mean AE - BC',\n",
    "                    marker=dict(\n",
    "                        size=20,\n",
    "                        line=dict(\n",
    "                            width=2\n",
    "                        )\n",
    "                    ),\n",
    "                    showlegend=False,\n",
    "                    marker_color='blue',\n",
    "                    text=round(ValorZeroCinquenta['Mean AE - BC'],4),\n",
    "                    textposition=\"middle right\"), row=1, col=3)\n",
    "fig.add_trace(go.Scatter(x=ValorZeroCinquenta['n'], y=ValorZeroCinquenta['Mean AE - TRIF'],\n",
    "                    mode='markers+lines+text',\n",
    "                    name='Mean AE - TRIF',\n",
    "                    marker=dict(\n",
    "                        size=15,\n",
    "                        line=dict(\n",
    "                            width=2\n",
    "                        )\n",
    "                    ),\n",
    "                    showlegend=False,\n",
    "                    marker_color='red',\n",
    "                    text=round(ValorZeroCinquenta['Mean AE - TRIF'],4),\n",
    "                    textposition=\"middle right\"), row=1, col=3)\n",
    "\n",
    "# Add traces\n",
    "fig.add_trace(go.Scatter(x=ValorZeroSetentaCinco['n'], y=ValorZeroSetentaCinco['Mean AE - AB'],\n",
    "                    mode='markers+lines+text',\n",
    "                    name='Mean AE - AB',\n",
    "                    marker=dict(\n",
    "                        size=30,\n",
    "                        line=dict(\n",
    "                            width=2\n",
    "                        )\n",
    "                    ),\n",
    "                    showlegend=False,\n",
    "                    marker_color='yellow',\n",
    "                    text=round(ValorZeroSetentaCinco['Mean AE - AB'],4),\n",
    "                    textposition=\"middle right\"), row=1, col=4)\n",
    "fig.add_trace(go.Scatter(x=ValorZeroSetentaCinco['n'], y=ValorZeroSetentaCinco['Mean AE - AC'],\n",
    "                    mode='markers+lines+text',\n",
    "                    name='Mean AE - AC',\n",
    "                    marker=dict(\n",
    "                        size=25,\n",
    "                        line=dict(\n",
    "                            width=2\n",
    "                        )\n",
    "                    ),\n",
    "                    showlegend=False,\n",
    "                    marker_color='green',\n",
    "                    text=round(ValorZeroSetentaCinco['Mean AE - AC'],4),\n",
    "                    textposition=\"middle left\"), row=1, col=4)\n",
    "fig.add_trace(go.Scatter(x=ValorZeroSetentaCinco['n'], y=ValorZeroSetentaCinco['Mean AE - BC'],\n",
    "                    mode='markers+lines+text',\n",
    "                    name='Mean AE - BC',\n",
    "                    marker=dict(\n",
    "                        size=20,\n",
    "                        line=dict(\n",
    "                            width=2\n",
    "                        )\n",
    "                    ),\n",
    "                    showlegend=False,\n",
    "                    marker_color='blue',\n",
    "                    text=round(ValorZeroSetentaCinco['Mean AE - BC'],4),\n",
    "                    textposition=\"middle right\"), row=1, col=4)\n",
    "fig.add_trace(go.Scatter(x=ValorZeroSetentaCinco['n'], y=ValorZeroSetentaCinco['Mean AE - TRIF'],\n",
    "                    mode='markers+lines+text',\n",
    "                    name='Mean AE - TRIF',\n",
    "                    marker=dict(\n",
    "                        size=15,\n",
    "                        line=dict(\n",
    "                            width=2\n",
    "                        )\n",
    "                    ),\n",
    "                    showlegend=False,\n",
    "                    marker_color='red',\n",
    "                    text=round(ValorZeroSetentaCinco['Mean AE - TRIF'],4),\n",
    "                    textposition=\"middle right\"), row=1, col=4)\n",
    "\n",
    "# Add traces\n",
    "fig.add_trace(go.Scatter(x=ValorZeroNoveNove['n'], y=ValorZeroNoveNove['Mean AE - AB'],\n",
    "                    mode='markers+lines+text',\n",
    "                    name='Mean AE - AB',\n",
    "                    marker=dict(\n",
    "                        size=30,\n",
    "                        line=dict(\n",
    "                            width=2\n",
    "                        )\n",
    "                    ),\n",
    "                    showlegend=False,\n",
    "                    marker_color='yellow',\n",
    "                    text=round(ValorZeroNoveNove['Mean AE - AB'],4),\n",
    "                    textposition=\"middle right\"), row=1, col=5)\n",
    "fig.add_trace(go.Scatter(x=ValorZeroNoveNove['n'], y=ValorZeroNoveNove['Mean AE - AC'],\n",
    "                    mode='markers+lines+text',\n",
    "                    name='Mean AE - AC',\n",
    "                    marker=dict(\n",
    "                        size=25,\n",
    "                        line=dict(\n",
    "                            width=2\n",
    "                        )\n",
    "                    ),\n",
    "                    showlegend=False,\n",
    "                    marker_color='green',\n",
    "                    text=round(ValorZeroNoveNove['Mean AE - AC'],4),\n",
    "                    textposition=\"middle left\"), row=1, col=5)\n",
    "fig.add_trace(go.Scatter(x=ValorZeroNoveNove['n'], y=ValorZeroNoveNove['Mean AE - BC'],\n",
    "                    mode='markers+lines+text',\n",
    "                    name='Mean AE - BC',\n",
    "                    marker=dict(\n",
    "                        size=20,\n",
    "                        line=dict(\n",
    "                            width=2\n",
    "                        )\n",
    "                    ),\n",
    "                    showlegend=False,\n",
    "                    marker_color='blue',\n",
    "                    text=round(ValorZeroNoveNove['Mean AE - BC'],4),\n",
    "                    textposition=\"middle right\"), row=1, col=5)\n",
    "fig.add_trace(go.Scatter(x=ValorZeroNoveNove['n'], y=ValorZeroNoveNove['Mean AE - TRIF'],\n",
    "                    mode='markers+lines+text',\n",
    "                    name='Mean AE - TRIF',\n",
    "                    marker=dict(\n",
    "                        size=15,\n",
    "                        line=dict(\n",
    "                            width=2\n",
    "                        )\n",
    "                    ),\n",
    "                    showlegend=False,\n",
    "                    marker_color='red',\n",
    "                    text=round(ValorZeroNoveNove['Mean AE - TRIF'],4),\n",
    "                    textposition=\"middle right\"), row=1, col=5)\n",
    "fig.update_yaxes(showgrid=True, gridwidth=1, gridcolor='lightblue', griddash='dash', minor_griddash=\"dot\", tickmode = 'linear', tick0 = 0.01,dtick = 0.005,)\n",
    "fig.update_xaxes(gridcolor='lightblue', griddash='dash', minor_griddash=\"dot\")\n",
    "fig.update_yaxes(range=[0, 0.08], col= 1, row=1)\n",
    "fig.update_xaxes(range=[0.09, 0.11], col= 1, row=1, title_text=\"local of SC\")\n",
    "fig.update_yaxes(range=[0, 0.05], col= 2, row=1)\n",
    "fig.update_xaxes(range=[0.24, 0.26], col= 2, row=1, title_text=\"local of SC\")\n",
    "fig.update_yaxes(range=[0, 0.025], col= 3, row=1)\n",
    "fig.update_xaxes(range=[0.49, 0.51], col= 3, row=1, title_text=\"local of SC\")\n",
    "fig.update_yaxes(range=[0, 0.015], col= 4, row=1)\n",
    "fig.update_xaxes(range=[0.74, 0.76], col= 4, row=1, title_text=\"local of SC\")\n",
    "fig.update_yaxes(range=[0, 0.01], col= 5, row=1)\n",
    "fig.update_xaxes(range=[0.98, 1], col= 5, row=1, title_text=\"local of SC\")\n",
    "fig.update_layout(\n",
    "    autosize=False,\n",
    "    width=1500,\n",
    "    height=1000,\n",
    "    margin=dict(\n",
    "        l=100,\n",
    "        r=100,\n",
    "        b=150,\n",
    "        t=150,\n",
    "        pad=4\n",
    "    ),\n",
    "    paper_bgcolor='LightSteelBlue',)\n",
    "fig.update_layout(\n",
    "    title=\"Short Circuit internal of the line\",\n",
    "    yaxis_title=\"Value Absolute Error\",\n",
    "    legend_title=\"Legend\",\n",
    "    font=dict(\n",
    "        family=\"Courier New, monospace\",\n",
    "        size=16,\n",
    "    )\n",
    ")\n",
    "\n",
    "fig.show()\n",
    "fig.write_image(\"images/ValorAE_7.png\")"
   ]
  },
  {
   "cell_type": "code",
   "execution_count": null,
   "metadata": {},
   "outputs": [],
   "source": []
  }
 ],
 "metadata": {
  "kernelspec": {
   "display_name": "Python 3",
   "language": "python",
   "name": "python3"
  },
  "language_info": {
   "codemirror_mode": {
    "name": "ipython",
    "version": 3
   },
   "file_extension": ".py",
   "mimetype": "text/x-python",
   "name": "python",
   "nbconvert_exporter": "python",
   "pygments_lexer": "ipython3",
   "version": "3.12.3"
  }
 },
 "nbformat": 4,
 "nbformat_minor": 2
}
