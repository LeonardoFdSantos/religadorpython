{
 "cells": [
  {
   "metadata": {
    "ExecuteTime": {
     "end_time": "2025-03-31T23:09:33.027416Z",
     "start_time": "2025-03-31T23:09:32.982651Z"
    }
   },
   "cell_type": "code",
   "source": [
    "import numpy as np\n",
    "\n",
    "# Definição da matriz A\n",
    "A = np.array([[3.5, 0.2, 1.7],\n",
    "              [-1.1, 2.3, 1.9],\n",
    "              [5.0, 1.4, 3.1]])\n",
    "\n",
    "print(\"Matriz A:\")\n",
    "print(A)\n"
   ],
   "id": "faa0567ec69e4065",
   "outputs": [
    {
     "name": "stdout",
     "output_type": "stream",
     "text": [
      "Matriz A:\n",
      "[[ 3.5  0.2  1.7]\n",
      " [-1.1  2.3  1.9]\n",
      " [ 5.   1.4  3.1]]\n"
     ]
    }
   ],
   "execution_count": 1
  },
  {
   "metadata": {
    "ExecuteTime": {
     "end_time": "2025-03-31T23:09:33.095030Z",
     "start_time": "2025-03-31T23:09:33.092177Z"
    }
   },
   "cell_type": "code",
   "source": [
    "# Obter a forma escalonada por eliminação gaussiana\n",
    "def escalonar_matriz(A):\n",
    "    A_escalonada = A.astype(float)  # Garantir que estamos lidando com valores float\n",
    "    linhas, colunas = A_escalonada.shape\n",
    "\n",
    "    for i in range(min(linhas, colunas)):\n",
    "        # Pivotamento: se o elemento da diagonal for zero, trocar com outra linha\n",
    "        if A_escalonada[i, i] == 0:\n",
    "            for k in range(i + 1, linhas):\n",
    "                if A_escalonada[k, i] != 0:\n",
    "                    A_escalonada[[i, k]] = A_escalonada[[k, i]]  # Troca as linhas\n",
    "                    break\n",
    "\n",
    "        # Zerando os elementos abaixo do pivô\n",
    "        for j in range(i + 1, linhas):\n",
    "            fator = A_escalonada[j, i] / A_escalonada[i, i]\n",
    "            A_escalonada[j] -= fator * A_escalonada[i]\n",
    "\n",
    "    return A_escalonada\n",
    "\n",
    "A_escalonada = escalonar_matriz(A)\n",
    "\n",
    "print(\"\\nForma escalonada de A:\")\n",
    "print(A_escalonada)\n"
   ],
   "id": "1d5fa1c35aa75ce7",
   "outputs": [
    {
     "name": "stdout",
     "output_type": "stream",
     "text": [
      "\n",
      "Forma escalonada de A:\n",
      "[[ 3.5         0.2         1.7       ]\n",
      " [ 0.          2.36285714  2.43428571]\n",
      " [ 0.          0.         -0.47654172]]\n"
     ]
    }
   ],
   "execution_count": 2
  },
  {
   "metadata": {
    "ExecuteTime": {
     "end_time": "2025-03-31T23:09:33.143262Z",
     "start_time": "2025-03-31T23:09:33.140785Z"
    }
   },
   "cell_type": "code",
   "source": [
    "# Cálculo do determinante\n",
    "det_A = np.linalg.det(A)\n",
    "\n",
    "print(\"\\nDeterminante de A:\", det_A)\n"
   ],
   "id": "39012d4c6802aa68",
   "outputs": [
    {
     "name": "stdout",
     "output_type": "stream",
     "text": [
      "\n",
      "Determinante de A: -3.9409999999999936\n"
     ]
    }
   ],
   "execution_count": 3
  },
  {
   "metadata": {
    "ExecuteTime": {
     "end_time": "2025-03-31T23:09:33.192864Z",
     "start_time": "2025-03-31T23:09:33.189192Z"
    }
   },
   "cell_type": "code",
   "source": [
    "# Verificar se a matriz é singular\n",
    "if np.isclose(det_A, 0):\n",
    "    print(\"\\nA matriz A é singular.\")\n",
    "    alternativa_e = True\n",
    "else:\n",
    "    alternativa_e = False\n",
    "\n",
    "# Verificar se a segunda linha é combinação linear da 1ª e 3ª\n",
    "# Se uma linha for combinação linear das outras, o determinante será zero\n",
    "# Como já verificamos o determinante, podemos concluir que essa afirmação é verdadeira se det(A) == 0\n",
    "alternativa_d = alternativa_e\n",
    "\n",
    "# Comparação das formas escalonadas com as alternativas\n",
    "alternativa_a = np.allclose(A_escalonada, np.array([[3.5, 0.2, 1.7],\n",
    "                                                    [0.0, 2.3629, 2.4343],\n",
    "                                                    [0.0, 0.0, -0.4765]]))\n",
    "\n",
    "alternativa_c = np.allclose(A_escalonada, np.array([[3.5, 0.2, 1.7],\n",
    "                                                    [0.0, 2.3629, 2.4343],\n",
    "                                                    [0.0, 0.0, -0.4567]]))\n",
    "\n",
    "print(\"\\nAlternativa A está correta?\", alternativa_a)\n",
    "print(\"Alternativa C está correta?\", alternativa_c)\n",
    "print(\"Alternativa D está correta?\", alternativa_d)\n",
    "print(\"Alternativa E está correta?\", alternativa_e)\n"
   ],
   "id": "d574483b4823f501",
   "outputs": [
    {
     "name": "stdout",
     "output_type": "stream",
     "text": [
      "\n",
      "Alternativa A está correta? False\n",
      "Alternativa C está correta? False\n",
      "Alternativa D está correta? False\n",
      "Alternativa E está correta? False\n"
     ]
    }
   ],
   "execution_count": 4
  },
  {
   "metadata": {
    "ExecuteTime": {
     "end_time": "2025-03-31T23:11:48.944732Z",
     "start_time": "2025-03-31T23:11:48.936345Z"
    }
   },
   "cell_type": "code",
   "source": [
    "import numpy as np\n",
    "\n",
    "# Definindo a matriz A\n",
    "A = np.array([\n",
    "    [3.5, 0.2, 1.7],\n",
    "    [-1.1, 2.3, 1.9],\n",
    "    [5.0, 1.4, 3.1]\n",
    "], dtype=float)\n",
    "\n",
    "print(\"Matriz A:\")\n",
    "print(A)\n",
    "\n",
    "def escalonar_matriz(matriz):\n",
    "    m = matriz.copy()\n",
    "    linhas, colunas = m.shape\n",
    "\n",
    "    for i in range(min(linhas, colunas)):\n",
    "        max_linha = i + np.argmax(np.abs(m[i:, i]))\n",
    "        if i != max_linha:\n",
    "            m[[i, max_linha]] = m[[max_linha, i]]\n",
    "\n",
    "        for j in range(i + 1, linhas):\n",
    "            fator = m[j, i] / m[i, i]\n",
    "            m[j, i:] -= fator * m[i, i:]\n",
    "\n",
    "    return m\n",
    "\n",
    "# Calcula a forma escalonada\n",
    "A_escalonada = escalonar_matriz(A)\n",
    "print(\"\\nForma escalonada de A:\")\n",
    "print(A_escalonada)\n",
    "\n",
    "# Calculando o determinante\n",
    "det_A = np.linalg.det(A)\n",
    "print(\"\\nDeterminante de A:\", det_A)\n",
    "\n",
    "# Verificando se a matriz é singular\n",
    "singular = np.isclose(det_A, 0)\n",
    "print(\"\\nA matriz A é singular?\", singular)\n",
    "\n",
    "# Verificando combinação linear\n",
    "L1, L2, L3 = A[0], A[1], A[2]\n",
    "coeficientes = np.array([L1[:2], L3[:2]]).T\n",
    "constantes = L2[:2]\n",
    "\n",
    "try:\n",
    "    a, b = np.linalg.solve(coeficientes, constantes)\n",
    "    combinacao_linear = np.isclose(L2[2], a*L1[2] + b*L3[2])\n",
    "    print(\"\\nA 2a linha é combinação linear da 1a e 3a?\", combinacao_linear)\n",
    "except np.linalg.LinAlgError:\n",
    "    combinacao_linear = False\n",
    "    print(\"\\nA 2a linha NÃO é combinação linear da 1a e 3a\")\n",
    "\n",
    "# Comparando com as opções\n",
    "print(\"\\nAnálise das opções:\")\n",
    "\n",
    "escalonada_opcao_a = np.array([\n",
    "    [3.5, 0.2, 1.7],\n",
    "    [0.0, 2.3629, 2.4343],\n",
    "    [0.0, 0.0, -0.4765]\n",
    "])\n",
    "\n",
    "opcao_a = np.allclose(A_escalonada, escalonada_opcao_a, atol=1e-4)\n",
    "print(\"a) A forma escalonada é igual à fornecida?\", opcao_a)\n",
    "\n",
    "opcao_b = np.isclose(det_A, 0)\n",
    "print(\"b) det(A) = 0?\", opcao_b)\n",
    "\n",
    "escalonada_opcao_c = np.array([\n",
    "    [3.5, 0.2, 1.7],\n",
    "    [0.0, 2.3629, 2.4343],\n",
    "    [0.0, 0.0, -0.4567]\n",
    "])\n",
    "\n",
    "opcao_c = np.allclose(A_escalonada, escalonada_opcao_c, atol=1e-4)\n",
    "print(\"c) A forma escalonada é igual à fornecida?\", opcao_c)\n",
    "\n",
    "print(\"d) A 2a linha é combinação linear da 1a e 3a?\", combinacao_linear)\n",
    "print(\"e) A matriz A é singular?\", singular)"
   ],
   "id": "f96315bbec43b237",
   "outputs": [
    {
     "name": "stdout",
     "output_type": "stream",
     "text": [
      "Matriz A:\n",
      "[[ 3.5  0.2  1.7]\n",
      " [-1.1  2.3  1.9]\n",
      " [ 5.   1.4  3.1]]\n",
      "\n",
      "Forma escalonada de A:\n",
      "[[ 5.00000000e+00  1.40000000e+00  3.10000000e+00]\n",
      " [ 0.00000000e+00  2.60800000e+00  2.58200000e+00]\n",
      " [ 0.00000000e+00 -1.11022302e-16  3.02223926e-01]]\n",
      "\n",
      "Determinante de A: -3.9409999999999936\n",
      "\n",
      "A matriz A é singular? False\n",
      "\n",
      "A 2a linha é combinação linear da 1a e 3a? False\n",
      "\n",
      "Análise das opções:\n",
      "a) A forma escalonada é igual à fornecida? False\n",
      "b) det(A) = 0? False\n",
      "c) A forma escalonada é igual à fornecida? False\n",
      "d) A 2a linha é combinação linear da 1a e 3a? False\n",
      "e) A matriz A é singular? False\n"
     ]
    }
   ],
   "execution_count": 6
  },
  {
   "metadata": {
    "ExecuteTime": {
     "end_time": "2025-03-31T23:14:18.828675Z",
     "start_time": "2025-03-31T23:14:18.826703Z"
    }
   },
   "cell_type": "code",
   "source": "# Questao 2",
   "id": "6b65baa6608ed763",
   "outputs": [],
   "execution_count": 7
  },
  {
   "metadata": {
    "ExecuteTime": {
     "end_time": "2025-03-31T23:15:17.870736Z",
     "start_time": "2025-03-31T23:15:17.867444Z"
    }
   },
   "cell_type": "code",
   "source": [
    "import numpy as np\n",
    "\n",
    "# Definição da matriz M\n",
    "M = np.array([[4.230, 5.110, 7.430],\n",
    "              [-6.555, 1.895, 10.855],\n",
    "              [10.010, 5.550, 2.670]])\n",
    "\n",
    "print(\"Matriz M:\")\n",
    "print(M)\n"
   ],
   "id": "c7e39ac8e672bf23",
   "outputs": [
    {
     "name": "stdout",
     "output_type": "stream",
     "text": [
      "Matriz M:\n",
      "[[ 4.23   5.11   7.43 ]\n",
      " [-6.555  1.895 10.855]\n",
      " [10.01   5.55   2.67 ]]\n"
     ]
    }
   ],
   "execution_count": 11
  },
  {
   "metadata": {
    "ExecuteTime": {
     "end_time": "2025-03-31T23:15:22.254423Z",
     "start_time": "2025-03-31T23:15:22.250515Z"
    }
   },
   "cell_type": "code",
   "source": [
    "# Cálculo teórico de L2 como combinação linear de L1 e L3\n",
    "L1 = M[0]\n",
    "L3 = M[2]\n",
    "L2_teorico = 2 * L1 - (3/2) * L3\n",
    "\n",
    "# Comparação com L2 real\n",
    "L2_real = M[1]\n",
    "\n",
    "# Verificar se L2_real é aproximadamente igual a L2_teorico\n",
    "if np.allclose(L2_real, L2_teorico, atol=1e-3):\n",
    "    print(\"\\nA linha L2 é uma combinação linear de L1 e L3.\")\n",
    "    combinacao_linear = True\n",
    "else:\n",
    "    print(\"\\nA linha L2 NÃO é uma combinação linear de L1 e L3.\")\n",
    "    combinacao_linear = False\n"
   ],
   "id": "c4494b0d7f26d720",
   "outputs": [
    {
     "name": "stdout",
     "output_type": "stream",
     "text": [
      "\n",
      "A linha L2 é uma combinação linear de L1 e L3.\n"
     ]
    }
   ],
   "execution_count": 12
  },
  {
   "metadata": {
    "ExecuteTime": {
     "end_time": "2025-03-31T23:15:26.419597Z",
     "start_time": "2025-03-31T23:15:26.417203Z"
    }
   },
   "cell_type": "code",
   "source": [
    "# Cálculo do determinante da matriz M\n",
    "det_M = np.linalg.det(M)\n",
    "\n",
    "print(\"\\nDeterminante de M:\", det_M)\n",
    "\n",
    "# Verificação se a matriz é invertível\n",
    "if np.isclose(det_M, 0, atol=1e-6):\n",
    "    print(\"A matriz M NÃO é invertível.\")\n",
    "    inversivel = False\n",
    "else:\n",
    "    print(\"A matriz M é invertível.\")\n",
    "    inversivel = True\n"
   ],
   "id": "c37a30bf8c962bc9",
   "outputs": [
    {
     "name": "stdout",
     "output_type": "stream",
     "text": [
      "\n",
      "Determinante de M: 0.0\n",
      "A matriz M NÃO é invertível.\n"
     ]
    }
   ],
   "execution_count": 13
  },
  {
   "metadata": {
    "ExecuteTime": {
     "end_time": "2025-03-31T23:15:30.534517Z",
     "start_time": "2025-03-31T23:15:30.528766Z"
    }
   },
   "cell_type": "code",
   "source": [
    "# Verificando a alternativa correta\n",
    "if inversivel and combinacao_linear:\n",
    "    print(\"\\nAlternativa correta: A (M é invertível e L2 é combinação linear).\")\n",
    "elif not inversivel and not combinacao_linear:\n",
    "    print(\"\\nAlternativa correta: B (M não é invertível e L2 não é combinação linear).\")\n",
    "elif not inversivel and combinacao_linear:\n",
    "    print(\"\\nAlternativa correta: E (M não é invertível e L2 é combinação linear).\")\n",
    "elif inversivel and not combinacao_linear:\n",
    "    print(\"\\nAlternativa correta: C (M é invertível e L2 não é combinação linear).\")\n"
   ],
   "id": "ba64ac0492a02917",
   "outputs": [
    {
     "name": "stdout",
     "output_type": "stream",
     "text": [
      "\n",
      "Alternativa correta: E (M não é invertível e L2 é combinação linear).\n"
     ]
    }
   ],
   "execution_count": 14
  },
  {
   "metadata": {
    "ExecuteTime": {
     "end_time": "2025-03-31T23:18:21.046208Z",
     "start_time": "2025-03-31T23:18:21.044059Z"
    }
   },
   "cell_type": "code",
   "source": "# Questão 3",
   "id": "9e394de3d496e2b2",
   "outputs": [],
   "execution_count": 15
  },
  {
   "metadata": {
    "ExecuteTime": {
     "end_time": "2025-03-31T23:18:30.420186Z",
     "start_time": "2025-03-31T23:18:30.416342Z"
    }
   },
   "cell_type": "code",
   "source": [
    "# Definir a matriz A\n",
    "A = np.array([\n",
    "    [ 1,  2,  3],\n",
    "    [-1,  0,  1],\n",
    "    [ 0,  2, -1]\n",
    "])\n",
    "\n",
    "# Definir o vetor v\n",
    "# (A questão usa parênteses, mas vamos tratá-lo como um vetor coluna ou linha para cálculo)\n",
    "# NumPy o tratará corretamente na multiplicação matriz-vetor se for um array 1D.\n",
    "v = np.array([-1, 0, 3])\n",
    "\n",
    "print(\"Matriz A:\")\n",
    "print(A)\n",
    "print(\"\\nVetor v:\")\n",
    "print(v)"
   ],
   "id": "e81c284660bf75ed",
   "outputs": [
    {
     "name": "stdout",
     "output_type": "stream",
     "text": [
      "Matriz A:\n",
      "[[ 1  2  3]\n",
      " [-1  0  1]\n",
      " [ 0  2 -1]]\n",
      "\n",
      "Vetor v:\n",
      "[-1  0  3]\n"
     ]
    }
   ],
   "execution_count": 16
  },
  {
   "metadata": {
    "ExecuteTime": {
     "end_time": "2025-03-31T23:18:34.527367Z",
     "start_time": "2025-03-31T23:18:34.523481Z"
    }
   },
   "cell_type": "code",
   "source": [
    "# Calcular a raiz quadrada de 2\n",
    "sqrt_2 = np.sqrt(2)\n",
    "print(f\"\\nRaiz quadrada de 2: {sqrt_2:.8f}\") # Mostra com 8 casas decimais\n",
    "\n",
    "# Calcular o vetor v escalado: sqrt(2) * v\n",
    "v_scaled = sqrt_2 * v\n",
    "print(\"\\nVetor v escalado (sqrt(2) * v):\")\n",
    "print(v_scaled)\n",
    "\n",
    "# Calcular o vetor u = A * v_scaled\n",
    "# Usamos o operador @ para multiplicação de matrizes/vetores no NumPy\n",
    "u = A @ v_scaled\n",
    "# Alternativamente: u = np.dot(A, v_scaled)\n",
    "\n",
    "print(\"\\nVetor u = A @ v_scaled:\")\n",
    "print(u)\n",
    "# Para comparar com as opções, podemos imprimir com mais casas decimais\n",
    "print(f\"Vetor u (com mais precisão): [{u[0]:.8f} {u[1]:.8f} {u[2]:.8f}]\")"
   ],
   "id": "598d375f30205b93",
   "outputs": [
    {
     "name": "stdout",
     "output_type": "stream",
     "text": [
      "\n",
      "Raiz quadrada de 2: 1.41421356\n",
      "\n",
      "Vetor v escalado (sqrt(2) * v):\n",
      "[-1.41421356  0.          4.24264069]\n",
      "\n",
      "Vetor u = A @ v_scaled:\n",
      "[11.3137085   5.65685425 -4.24264069]\n",
      "Vetor u (com mais precisão): [11.31370850 5.65685425 -4.24264069]\n"
     ]
    }
   ],
   "execution_count": 17
  },
  {
   "metadata": {
    "ExecuteTime": {
     "end_time": "2025-03-31T23:18:39.020967Z",
     "start_time": "2025-03-31T23:18:39.015485Z"
    }
   },
   "cell_type": "code",
   "source": [
    "# Calcular a norma (magnitude) do vetor u\n",
    "norm_u = np.linalg.norm(u)\n",
    "print(f\"\\nNorma do vetor u ||u||: {norm_u:.8f}\")\n",
    "\n",
    "# Calcular o vetor unitário û = u / ||u||\n",
    "# Verifica se a norma não é zero para evitar divisão por zero\n",
    "if norm_u == 0:\n",
    "    print(\"Erro: A norma do vetor u é zero. Não é possível calcular o vetor unitário.\")\n",
    "    u_hat = np.zeros_like(u) # Ou outra forma de lidar com o vetor nulo\n",
    "else:\n",
    "    u_hat = u / norm_u\n",
    "\n",
    "print(\"\\nVetor unitário û = u / ||u||:\")\n",
    "print(u_hat)\n",
    "# Para comparar com as opções, podemos imprimir com mais casas decimais\n",
    "print(f\"Vetor û (com mais precisão): [{u_hat[0]:.8f} {u_hat[1]:.8f} {u_hat[2]:.8f}]\")\n",
    "\n",
    "# Podemos verificar se a norma do vetor unitário é 1 (como esperado)\n",
    "norm_u_hat = np.linalg.norm(u_hat)\n",
    "print(f\"\\nNorma do vetor unitário ||û||: {norm_u_hat:.1f}\") # Deve ser 1.0"
   ],
   "id": "347c09fac9dd2a92",
   "outputs": [
    {
     "name": "stdout",
     "output_type": "stream",
     "text": [
      "\n",
      "Norma do vetor u ||u||: 13.34166406\n",
      "\n",
      "Vetor unitário û = u / ||u||:\n",
      "[ 0.8479983   0.42399915 -0.31799936]\n",
      "Vetor û (com mais precisão): [0.84799830 0.42399915 -0.31799936]\n",
      "\n",
      "Norma do vetor unitário ||û||: 1.0\n"
     ]
    }
   ],
   "execution_count": 18
  },
  {
   "metadata": {
    "ExecuteTime": {
     "end_time": "2025-03-31T23:18:45.154025Z",
     "start_time": "2025-03-31T23:18:45.151014Z"
    }
   },
   "cell_type": "code",
   "source": [
    "print(\"\\n--- Comparação Final ---\")\n",
    "print(f\"Vetor u calculado: [{u[0]:.8f} {u[1]:.8f} {u[2]:.8f}]\")\n",
    "print(f\"Vetor û calculado: [{u_hat[0]:.8f} {u_hat[1]:.8f} {u_hat[2]:.8f}]\")\n",
    "\n",
    "print(\"\\nA opção que apresenta os vetores u e û nesta ordem e com valores correspondentes é a (d).\")\n",
    "print(\"Opção (d):\")\n",
    "print(\"u ≈ [ 11.3137085  5.65685425 -4.24264069 ]\")\n",
    "print(\"û ≈ [  0.8479983  0.42399915 -0.31799936 ]\")"
   ],
   "id": "877c1edd17c00c2c",
   "outputs": [
    {
     "name": "stdout",
     "output_type": "stream",
     "text": [
      "\n",
      "--- Comparação Final ---\n",
      "Vetor u calculado: [11.31370850 5.65685425 -4.24264069]\n",
      "Vetor û calculado: [0.84799830 0.42399915 -0.31799936]\n",
      "\n",
      "A opção que apresenta os vetores u e û nesta ordem e com valores correspondentes é a (d).\n",
      "Opção (d):\n",
      "u ≈ [ 11.3137085  5.65685425 -4.24264069 ]\n",
      "û ≈ [  0.8479983  0.42399915 -0.31799936 ]\n"
     ]
    }
   ],
   "execution_count": 19
  },
  {
   "metadata": {},
   "cell_type": "code",
   "outputs": [],
   "execution_count": null,
   "source": "",
   "id": "85621e7758ceb517"
  }
 ],
 "metadata": {
  "kernelspec": {
   "display_name": "Python 3",
   "language": "python",
   "name": "python3"
  },
  "language_info": {
   "codemirror_mode": {
    "name": "ipython",
    "version": 2
   },
   "file_extension": ".py",
   "mimetype": "text/x-python",
   "name": "python",
   "nbconvert_exporter": "python",
   "pygments_lexer": "ipython2",
   "version": "2.7.6"
  }
 },
 "nbformat": 4,
 "nbformat_minor": 5
}
